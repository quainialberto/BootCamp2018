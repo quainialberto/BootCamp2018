{
 "cells": [
  {
   "cell_type": "code",
   "execution_count": null,
   "metadata": {},
   "outputs": [],
   "source": [
    "import numpy as np"
   ]
  },
  {
   "cell_type": "code",
   "execution_count": null,
   "metadata": {},
   "outputs": [],
   "source": [
    "# Set parameters\n",
    "beta = 0.96 ** 20\n",
    "sigma = 2.2\n",
    "n_vec = np.array([1.0, 1.0, 0.2])\n",
    "alpha = 0.35\n",
    "A = 1.0\n",
    "delta = 1 - (1 - 0.05)**20\n",
    "T = 50\n",
    "tol = 1e-9\n",
    "xi = 0.2"
   ]
  },
  {
   "cell_type": "code",
   "execution_count": null,
   "metadata": {},
   "outputs": [],
   "source": [
    "# Solve for steady-state\n",
    "b2bat, b3bar = get_SS()"
   ]
  },
  {
   "cell_type": "code",
   "execution_count": null,
   "metadata": {},
   "outputs": [],
   "source": [
    "# Set initial condition\n",
    "b21 = 0.8 * b2bar\n",
    "b31 = 1.1 * b3bar"
   ]
  },
  {
   "cell_type": "code",
   "execution_count": null,
   "metadata": {},
   "outputs": [],
   "source": [
    "# Guess path for K\n",
    "K1 = b21 + b31\n",
    "Kbar = b2bar + b3bar\n",
    "Kpath = np.linspace(K1, Kbar, T)\n",
    "rpath = get_r(Kpath, stuff)\n",
    "wpath = get_w(Kpath, stuff)"
   ]
  },
  {
   "cell_type": "code",
   "execution_count": null,
   "metadata": {},
   "outputs": [],
   "source": [
    "# Solve for individual lifetme decisions\n",
    "def get_some_lives(b1, rpath, wpath, sigma, beta, nvec):\n",
    "    # call optimizer\n",
    "    returns b2, b3"
   ]
  },
  {
   "cell_type": "code",
   "execution_count": null,
   "metadata": {},
   "outputs": [],
   "source": [
    "# solve for the top of the donut\n",
    "def get_s_life(b2, rpah, wath, nvec, beta, sigma):\n",
    "        \n",
    "        return b3"
   ]
  },
  {
   "cell_type": "code",
   "execution_count": null,
   "metadata": {},
   "outputs": [],
   "source": [
    "bmat = np.zeros((T+1, 2))\n",
    "diag_mask = np.eye(2, dtype = bool)\n",
    "for t in range(T+1):\n",
    "    # solve for b2 and b3\n",
    "\n",
    "Kpath_new = bmat[:-1,:].sum(axis = 1)\n",
    "dist = la.norm(Kpath_prime - Kpath, 2)\n",
    "Kpath_new = xi * Kpath_prime + (1-xi) * Kpath"
   ]
  }
 ],
 "metadata": {
  "kernelspec": {
   "display_name": "Python 3",
   "language": "python",
   "name": "python3"
  },
  "language_info": {
   "codemirror_mode": {
    "name": "ipython",
    "version": 3
   },
   "file_extension": ".py",
   "mimetype": "text/x-python",
   "name": "python",
   "nbconvert_exporter": "python",
   "pygments_lexer": "ipython3",
   "version": "3.6.4"
  }
 },
 "nbformat": 4,
 "nbformat_minor": 2
}
