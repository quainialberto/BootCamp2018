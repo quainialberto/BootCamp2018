{
 "cells": [
  {
   "cell_type": "markdown",
   "metadata": {},
   "source": [
    "# Nonlinear Optimization"
   ]
  },
  {
   "cell_type": "markdown",
   "metadata": {},
   "source": [
    "Alberto Quaini"
   ]
  },
  {
   "cell_type": "markdown",
   "metadata": {},
   "source": [
    "Import libraries"
   ]
  },
  {
   "cell_type": "code",
   "execution_count": 87,
   "metadata": {},
   "outputs": [],
   "source": [
    "import numpy as np\n",
    "from scipy.linalg import norm"
   ]
  },
  {
   "cell_type": "markdown",
   "metadata": {},
   "source": [
    "## Exercise 6"
   ]
  },
  {
   "cell_type": "code",
   "execution_count": 88,
   "metadata": {},
   "outputs": [],
   "source": [
    "def quad_steepestDescent(Q, b, x_0, eps):\n",
    "    \"\"\" Solve quadratic optimization problem of the form\n",
    "    x^TQx -b^Tx+c, where Q is an nxn positive definite matrix,\n",
    "    b, x are vectors in R^n and c is a real number.    \n",
    "    Method: Steepest descent.\n",
    "    \"\"\"\n",
    "    n = np.size(x_0)\n",
    "    max_iter = int(1e5)\n",
    "    if not np.size(b) == n:\n",
    "        raise ValueError('b is not of length n (n being the size of x_0)')\n",
    "    if not Q.shape == (n,n):\n",
    "        raise ValueError('Q is not a nxn matrix, (n being the size of x_0)')\n",
    "    \n",
    "    for i in range(max_iter):\n",
    "        \n",
    "        M = Q @ x_0 - b\n",
    "        MT = M.T\n",
    "        a_num = MT @ M\n",
    "        a_den = MT @ Q @ M\n",
    "        a = a_num / a_den\n",
    "        x_1 = x_0 - a * M\n",
    "        criterion = norm(MT)\n",
    "        if (criterion < eps):\n",
    "            break\n",
    "        x_0 = x_1\n",
    "    \n",
    "    if i<max_iter:\n",
    "        print('Converged')\n",
    "    else:\n",
    "        print('Did not converge!')\n",
    "    return x_1\n",
    "    "
   ]
  },
  {
   "cell_type": "markdown",
   "metadata": {},
   "source": [
    "## Exercise 7 "
   ]
  },
  {
   "cell_type": "code",
   "execution_count": 89,
   "metadata": {},
   "outputs": [],
   "source": [
    "def num_gradient(f, x, rerr):\n",
    "    \"\"\" Compute the numerical gradient of function\n",
    "    f:R^n->R, at a given point x in R^n.\n",
    "    rerr is an estimate for the maximum relative error\n",
    "    of f near x.\n",
    "    \"\"\"\n",
    "    \n",
    "    n = np.size(x)\n",
    "    h = np.sqrt(rerr)\n",
    "    grad = np.zeros(n)\n",
    "    \n",
    "    for i in range(n):\n",
    "        \n",
    "        x_shift = x\n",
    "        x_shift[i] += h\n",
    "        grad[i] = f(x_shift) - f(x) / h\n",
    "    \n",
    "    return grad"
   ]
  },
  {
   "cell_type": "markdown",
   "metadata": {},
   "source": [
    "## Exercise 8"
   ]
  },
  {
   "cell_type": "code",
   "execution_count": 143,
   "metadata": {},
   "outputs": [],
   "source": [
    "def secant_minimizer(x0, x1, eps, f_prime):\n",
    "    \"\"\" Find the minimizer of a function \n",
    "    via the secant method.\n",
    "    Initial values: x0 and x1,\n",
    "    Accuracy: eps,\n",
    "    First derivative of f: f_prime.\n",
    "    \"\"\"\n",
    "    max_iter = int(1e4)\n",
    "    dist = eps + 1\n",
    "    xvec = [x0, x1]\n",
    "    \n",
    "    for i in range(max_iter):\n",
    "        x = x1 - f_prime(x1) * (x1-x0) / ( f_prime(x1)-f_prime(x0) )\n",
    "        x0 = x1\n",
    "        x1 = x\n",
    "        xvec.append(x1)\n",
    "        dist = np.abs(x1 - x0) / np.abs(x0)\n",
    "        try:\n",
    "            if (dist < eps):\n",
    "                break\n",
    "        except:\n",
    "            print(x)\n",
    "            break\n",
    "    \n",
    "    if i == max_iter:\n",
    "        print('Secant method did not converge')\n",
    "        \n",
    "    return xvec"
   ]
  },
  {
   "cell_type": "code",
   "execution_count": 150,
   "metadata": {},
   "outputs": [],
   "source": [
    "def steepestDescent(f, x_0, eps):\n",
    "    \"\"\" Solve unconstrained nonlinear optimization problems\n",
    "    via the steepest descent method.\n",
    "    \"\"\"\n",
    "    n = np.size(x_0)\n",
    "    max_iter = int(1e5)\n",
    "    rerr = 1e-4\n",
    "    grad_f = lambda x: num_gradient(f, x, rerr)\n",
    "    f_secant = lambda a, x: grad_f( x-a*grad_f(x) ).T @ grad_f(x)\n",
    "    \n",
    "    for i in range(max_iter):\n",
    "        \"\"\" Missing:\n",
    "        1. compute rerr (see 6.4.1)\n",
    "        \"\"\"\n",
    "        grad = num_gradient(f, x_0, rerr)\n",
    "        f_sec = lambda a: f_secant(a, x_0)\n",
    "        a = secant_minimizer(1, 1.5, eps, f_sec)\n",
    "        x_1 = x_0 - a * grad\n",
    "        criterion = norm(grad)\n",
    "        if (criterion < eps):\n",
    "            break\n",
    "        x_0 = x_1\n",
    "    \n",
    "    if i<max_iter:\n",
    "        print('Steepest descent routine converged')\n",
    "    else:\n",
    "        print('Steepest descent routine did not converge')\n",
    "        \n",
    "    return x_1"
   ]
  },
  {
   "cell_type": "code",
   "execution_count": 151,
   "metadata": {},
   "outputs": [],
   "source": [
    "def rosenbrock(x):\n",
    "    return 100 * (x[0] - x[1]**2)**2 + (1 + x[1])**2"
   ]
  },
  {
   "cell_type": "code",
   "execution_count": 152,
   "metadata": {},
   "outputs": [
    {
     "ename": "ValueError",
     "evalue": "operands could not be broadcast together with shapes (529,) (2,) ",
     "output_type": "error",
     "traceback": [
      "\u001b[0;31m---------------------------------------------------------------------------\u001b[0m",
      "\u001b[0;31mValueError\u001b[0m                                Traceback (most recent call last)",
      "\u001b[0;32m<ipython-input-152-28dcd29d4f04>\u001b[0m in \u001b[0;36m<module>\u001b[0;34m()\u001b[0m\n\u001b[1;32m      1\u001b[0m \u001b[0mxvec_guess\u001b[0m \u001b[0;34m=\u001b[0m \u001b[0mnp\u001b[0m\u001b[0;34m.\u001b[0m\u001b[0marray\u001b[0m\u001b[0;34m(\u001b[0m\u001b[0;34m[\u001b[0m\u001b[0;34m-\u001b[0m\u001b[0;36m2\u001b[0m\u001b[0;34m,\u001b[0m\u001b[0;36m2\u001b[0m\u001b[0;34m]\u001b[0m\u001b[0;34m)\u001b[0m\u001b[0;34m\u001b[0m\u001b[0m\n\u001b[1;32m      2\u001b[0m \u001b[0meps\u001b[0m \u001b[0;34m=\u001b[0m \u001b[0;36m1e-6\u001b[0m\u001b[0;34m\u001b[0m\u001b[0m\n\u001b[0;32m----> 3\u001b[0;31m \u001b[0msteepestDescent\u001b[0m\u001b[0;34m(\u001b[0m\u001b[0mrosenbrock\u001b[0m\u001b[0;34m,\u001b[0m \u001b[0mxvec_guess\u001b[0m\u001b[0;34m,\u001b[0m \u001b[0meps\u001b[0m\u001b[0;34m)\u001b[0m\u001b[0;34m\u001b[0m\u001b[0m\n\u001b[0m",
      "\u001b[0;32m<ipython-input-150-2394d63ac313>\u001b[0m in \u001b[0;36msteepestDescent\u001b[0;34m(f, x_0, eps)\u001b[0m\n\u001b[1;32m     16\u001b[0m         \u001b[0mf_sec\u001b[0m \u001b[0;34m=\u001b[0m \u001b[0;32mlambda\u001b[0m \u001b[0ma\u001b[0m\u001b[0;34m:\u001b[0m \u001b[0mf_secant\u001b[0m\u001b[0;34m(\u001b[0m\u001b[0ma\u001b[0m\u001b[0;34m,\u001b[0m \u001b[0mx_0\u001b[0m\u001b[0;34m)\u001b[0m\u001b[0;34m\u001b[0m\u001b[0m\n\u001b[1;32m     17\u001b[0m         \u001b[0ma\u001b[0m \u001b[0;34m=\u001b[0m \u001b[0msecant_minimizer\u001b[0m\u001b[0;34m(\u001b[0m\u001b[0;36m1\u001b[0m\u001b[0;34m,\u001b[0m \u001b[0;36m1.5\u001b[0m\u001b[0;34m,\u001b[0m \u001b[0meps\u001b[0m\u001b[0;34m,\u001b[0m \u001b[0mf_sec\u001b[0m\u001b[0;34m)\u001b[0m\u001b[0;34m\u001b[0m\u001b[0m\n\u001b[0;32m---> 18\u001b[0;31m         \u001b[0mx_1\u001b[0m \u001b[0;34m=\u001b[0m \u001b[0mx_0\u001b[0m \u001b[0;34m-\u001b[0m \u001b[0ma\u001b[0m \u001b[0;34m*\u001b[0m \u001b[0mgrad\u001b[0m\u001b[0;34m\u001b[0m\u001b[0m\n\u001b[0m\u001b[1;32m     19\u001b[0m         \u001b[0mcriterion\u001b[0m \u001b[0;34m=\u001b[0m \u001b[0mnorm\u001b[0m\u001b[0;34m(\u001b[0m\u001b[0mgrad\u001b[0m\u001b[0;34m)\u001b[0m\u001b[0;34m\u001b[0m\u001b[0m\n\u001b[1;32m     20\u001b[0m         \u001b[0;32mif\u001b[0m \u001b[0;34m(\u001b[0m\u001b[0mcriterion\u001b[0m \u001b[0;34m<\u001b[0m \u001b[0meps\u001b[0m\u001b[0;34m)\u001b[0m\u001b[0;34m:\u001b[0m\u001b[0;34m\u001b[0m\u001b[0m\n",
      "\u001b[0;31mValueError\u001b[0m: operands could not be broadcast together with shapes (529,) (2,) "
     ]
    }
   ],
   "source": [
    "xvec_guess = np.array([-2,2])\n",
    "eps = 1e-6\n",
    "steepestDescent(rosenbrock, xvec_guess, eps)"
   ]
  },
  {
   "cell_type": "code",
   "execution_count": null,
   "metadata": {},
   "outputs": [],
   "source": []
  }
 ],
 "metadata": {
  "kernelspec": {
   "display_name": "Python 3",
   "language": "python",
   "name": "python3"
  },
  "language_info": {
   "codemirror_mode": {
    "name": "ipython",
    "version": 3
   },
   "file_extension": ".py",
   "mimetype": "text/x-python",
   "name": "python",
   "nbconvert_exporter": "python",
   "pygments_lexer": "ipython3",
   "version": "3.6.4"
  }
 },
 "nbformat": 4,
 "nbformat_minor": 2
}
