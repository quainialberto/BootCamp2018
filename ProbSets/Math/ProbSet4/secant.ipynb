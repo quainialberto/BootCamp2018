{
 "cells": [
  {
   "cell_type": "markdown",
   "metadata": {},
   "source": [
    "# Problem 6.15"
   ]
  },
  {
   "cell_type": "markdown",
   "metadata": {},
   "source": [
    "Alberto Quaini"
   ]
  },
  {
   "cell_type": "code",
   "execution_count": 76,
   "metadata": {},
   "outputs": [],
   "source": [
    "import numpy as np\n",
    "import matplotlib.pyplot as plt"
   ]
  },
  {
   "cell_type": "markdown",
   "metadata": {},
   "source": [
    "Define secant minimizer function"
   ]
  },
  {
   "cell_type": "code",
   "execution_count": 69,
   "metadata": {},
   "outputs": [],
   "source": [
    "def secant_minimizer(x0, x1, eps, f_prime):\n",
    " \n",
    "    max_iter = 1e4\n",
    "    dist = eps + 1\n",
    "    i = 0\n",
    "    xvec = [x0, x1]\n",
    "    converged = True\n",
    "    \n",
    "    while i < max_iter and dist > eps:\n",
    "        x = x1 - f_prime(x1) * (x1 - x0) / ( f_prime(x1) - f_prime(x0) )\n",
    "        x0 = x1\n",
    "        x1 = x\n",
    "        xvec.append(x1)\n",
    "        dist = abs(x1 - x0) / abs(x0)\n",
    "        i += 1\n",
    "    \n",
    "    if i == max_iter:\n",
    "        converged = False\n",
    "        \n",
    "    return xvec, converged"
   ]
  },
  {
   "cell_type": "code",
   "execution_count": 70,
   "metadata": {},
   "outputs": [],
   "source": [
    "def f_prime(x):\n",
    "    return 4*x - 14*3*x*x + 60*2*x - 70"
   ]
  },
  {
   "cell_type": "code",
   "execution_count": 71,
   "metadata": {},
   "outputs": [],
   "source": [
    "x0 = 0\n",
    "x1 = 0.1\n",
    "eps = 1e-8"
   ]
  },
  {
   "cell_type": "code",
   "execution_count": 94,
   "metadata": {},
   "outputs": [
    {
     "data": {
      "image/png": "[encoded data removed]",
      "text/plain": [
       "<matplotlib.figure.Figure at 0x119bf5198>"
      ]
     },
     "metadata": {},
     "output_type": "display_data"
    }
   ],
   "source": [
    "xvec, converged = secant_minimizer(x0, x1, eps, f_prime)\n",
    "xvec = np.array(xvec)\n",
    "xvec.shape\n",
    "\n",
    "fvec =  xvec**4 - 14*xvec**3 + 60*xvec**2 - 70*xvec\n",
    "\n",
    "plt.plot(xvec, fvec)\n",
    "plt.plot(xvec, fvec, 'bo')\n",
    "plt.plot(xvec, np.repeat(-25, len(xvec)), 'bo')\n",
    "plt.show()"
   ]
  },
  {
   "cell_type": "code",
   "execution_count": null,
   "metadata": {},
   "outputs": [],
   "source": []
  }
 ],
 "metadata": {
  "kernelspec": {
   "display_name": "Python 3",
   "language": "python",
   "name": "python3"
  },
  "language_info": {
   "codemirror_mode": {
    "name": "ipython",
    "version": 3
   },
   "file_extension": ".py",
   "mimetype": "text/x-python",
   "name": "python",
   "nbconvert_exporter": "python",
   "pygments_lexer": "ipython3",
   "version": "3.6.4"
  }
 },
 "nbformat": 4,
 "nbformat_minor": 2
}
