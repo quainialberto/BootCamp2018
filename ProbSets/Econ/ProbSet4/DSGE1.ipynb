{
 "cells": [
  {
   "cell_type": "markdown",
   "metadata": {},
   "source": [
    "# DSGE"
   ]
  },
  {
   "cell_type": "markdown",
   "metadata": {},
   "source": [
    "### Exercise 1."
   ]
  },
  {
   "cell_type": "markdown",
   "metadata": {},
   "source": [
    "Given the Euler equation and the policy function, we can substitute in our policy function guess and verify the value of A.\n",
    "\n",
    "Rewriting the Euler with the policy function we get:\n",
    "\\begin{align*}\n",
    "\\frac{1}{(1-A)e^{Zt}K_{t}^a} = \\beta \\mathbb E_{t}\\left[\\frac{ae^{Zt+1}K_{t+1}^{a-1}}{e^{Zt+1}K_{t+1}^a - Ae^{Zt+1}K_{t+1}^a}\\right].\n",
    "\\end{align*}\n",
    "Cancelling the $e$'s and rearranging we get:\n",
    "$$K_{t+1} = \\beta a e^{Zt}K_{t}^a.$$\n",
    "Therefore, we obtain $A = \\beta a$."
   ]
  },
  {
   "cell_type": "markdown",
   "metadata": {},
   "source": [
    "### Exercise 2."
   ]
  },
  {
   "cell_type": "markdown",
   "metadata": {},
   "source": [
    "Imposing market clearing we have the characterising equations:"
   ]
  },
  {
   "cell_type": "markdown",
   "metadata": {},
   "source": [
    "\\begin{align*}\n",
    "&c_t = (1-\\tau)[w_tl_t + (r_t - \\delta)k_t] + k_t + T_t - k_{t+1}\\\\\n",
    "&\\frac{1}{c_t} = \\beta \\mathbb E_{t}\\left[\\frac{1}{c_{t+1}}[(r_{t+1} - \\delta)(1-\\tau)+1]\\right]\\\\\n",
    "&\\frac{-a}{1-l_t} = \\frac{1}{c_t} w_t(1-\\tau)\\\\\n",
    "&r_t = ae^{z_{t}}k_{t}^{a-1}l_{t}^{1-a}\\\\\n",
    "&w_t = (1-a)e^{z_{t}}k_{t}^{a}l_{t}^{-a}\\\\\n",
    "&\\tau[w_tl_t + (r_t - \\delta)k_t] = T_t\\\\\n",
    "&z_t = (1-\\rho)\\bar{z} + \\rho z_{t-1} + \\epsilon_{t}\\\\\n",
    "&\\epsilon_{t} \\sim iid (0, \\sigma_z)\\\\\n",
    "\\end{align*}"
   ]
  },
  {
   "cell_type": "markdown",
   "metadata": {},
   "source": [
    "My guess is that we can't use the same trick as before, given that we have endogenous labour supply now."
   ]
  },
  {
   "cell_type": "markdown",
   "metadata": {},
   "source": [
    "### Exercise 3."
   ]
  },
  {
   "cell_type": "markdown",
   "metadata": {},
   "source": [
    "The only difference is that now we have to take the $C_t$'s to the power gamma."
   ]
  },
  {
   "cell_type": "markdown",
   "metadata": {},
   "source": [
    "\\begin{align*}\n",
    "&c_t = (1-\\tau)[w_tl_t + (r_t - \\delta)k_t] + k_t + T_t - k_{t+1}\\\\\n",
    "&\\frac{1}{c_t^{\\gamma}} = \\beta \\mathbb E_{t}\\left[\\frac{1}{c_{t+1}^{\\gamma}}[(r_{t+1} - \\delta)(1-\\tau)+1]\\right]\\\\\n",
    "&\\frac{-a}{1-l_t} = \\frac{1}{c_t^{\\gamma}} w_t(1-\\tau)\\\\\n",
    "&r_t = ae^{z_{t}}k_{t}^{a-1}l_{t}^{1-a}\\\\\n",
    "&w_t = (1-a)e^{z_{t}}k_{t}^{a}l_{t}^{-a}\\\\\n",
    "&\\tau[w_tl_t + (r_t - \\delta)k_t] = T_t\\\\\n",
    "&z_t = (1-\\rho)\\bar{z} + \\rho z_{t-1} + \\epsilon_{t}\\\\\n",
    "&\\epsilon_{t} \\sim iid (0, \\sigma_z)\n",
    "\\end{align*}"
   ]
  },
  {
   "cell_type": "markdown",
   "metadata": {},
   "source": [
    "### Exercise 4."
   ]
  },
  {
   "cell_type": "markdown",
   "metadata": {},
   "source": [
    "\\begin{align*}\n",
    "&c_t = (1-\\tau)[w_tl_t + (r_t - \\delta)k_t] + k_t + T_t - k_{t+1}\\\\\n",
    "&\\frac{1}{c_t^{\\gamma}} = \\beta \\mathbb E_{t}\\left[\\frac{1}{c_{t+1}^{\\gamma}}[(r_{t+1} - \\delta)(1-\\tau)+1]\\right]\\\\\n",
    "&\\frac{a}{(1-l_t)^{\\epsilon}} = \\frac{1}{c_t^{\\gamma}} w_t(1-\\tau)\\\\\n",
    "&r_t = ae^{z_{t}}k_{t}^{\\eta-1}[ak_{t}^{\\eta} + (1-a)l_{t}^{\\eta}]^\\frac{1-\\eta}{\\eta}\\\\\n",
    "&w_t = (1-a)e^{z_{t}}l_{t}^{\\eta-1}[ak_{t}^{\\eta} + (1-a)l_{t}^{\\eta}]^\\frac{1-\\eta}{\\eta}\\\\\n",
    "&\\tau[w_tl_t + (r_t - \\delta)k_t] = T_t\\\\\n",
    "&z_t = (1-\\rho)\\bar{z} + \\rho z_{t-1} + \\epsilon_{t}\\\\\n",
    "&\\epsilon_{t} \\sim iid (0, \\sigma_z)\n",
    "\\end{align*}"
   ]
  },
  {
   "cell_type": "markdown",
   "metadata": {},
   "source": [
    "### Exercise 5."
   ]
  },
  {
   "cell_type": "markdown",
   "metadata": {},
   "source": [
    "\\begin{align*}\n",
    "&c_t = (1-\\tau)[w_tl_t + (r_t - \\delta)k_t] + k_t + T_t - k_{t+1}\\\\\n",
    "&\\frac{1}{c_t^{\\gamma}} = \\beta \\mathbb E_{t}\\left[\\frac{1}{c_{t+1}^{\\gamma}}[(r_{t+1} - \\delta)(1-\\tau)+1]\\right]\\\\\n",
    "&l_t = 1\\\\\n",
    "&r_t = ak_{t}^{a-1}(l_te^{z_t})^{1-a}\\\\\n",
    "&w_t = (1-a)k_t^{a}(l_te^{z_t})^{-a}e^{z_t}\\\\\n",
    "&\\tau[w_tl_t + (r_t - \\delta)k_t] = T_t\\\\\n",
    "&z_t = (1-\\rho)\\bar{z} + \\rho z_{t-1} + \\epsilon_{t}\\\\\n",
    "&\\epsilon_{t} \\sim iid (0, \\sigma_z)\n",
    "\\end{align*}"
   ]
  },
  {
   "cell_type": "markdown",
   "metadata": {},
   "source": [
    "Rewriting these by substituting L = 1, and using bars for denoting steady states, we get:"
   ]
  },
  {
   "cell_type": "markdown",
   "metadata": {},
   "source": [
    "\\begin{align*}\n",
    "&\\bar{c} = (1-\\tau)[\\bar{w} + (\\bar{r} - \\delta)\\bar{k}] + \\bar{T}\\\\\n",
    "&1 = \\beta \\mathbb E_{t}[(\\bar{r} - \\delta)(1-\\tau)+1]\\\\\n",
    "&\\bar{r} = a\\bar{k}^{a-1}e^{\\bar{z}^{1-a}}\\\\\n",
    "&\\bar{w} = (1-a)\\bar{k}^ae^{\\bar{z}^{1-a}}\\\\\n",
    "&\\tau[\\bar{w} + (\\bar{r} - \\delta)\\bar{k}] = \\bar{T}\n",
    "\\end{align*}"
   ]
  },
  {
   "cell_type": "markdown",
   "metadata": {},
   "source": [
    "Eliminating gives the Euler equation at steady state:"
   ]
  },
  {
   "cell_type": "markdown",
   "metadata": {},
   "source": [
    "$$ 1 = \\beta [(a\\bar{k}^{a-1}e^{\\bar{z}^{1-a}} - \\delta)(1-\\tau) +1]$$"
   ]
  },
  {
   "cell_type": "markdown",
   "metadata": {},
   "source": [
    "rearranging to get steady state k in terms of z:"
   ]
  },
  {
   "cell_type": "markdown",
   "metadata": {},
   "source": [
    "$$\\bar{k} = [[\\frac{(1-\\beta)}{\\beta(1-\\tau)} + \\delta](1/ae^{\\bar{z}^{1-a}}]^{1/a-1}$$"
   ]
  },
  {
   "cell_type": "markdown",
   "metadata": {},
   "source": [
    "evaluating at $\\bar{z} =0$ we get:"
   ]
  },
  {
   "cell_type": "markdown",
   "metadata": {},
   "source": [
    "$$\\bar{k} = \\left[\\frac{\\beta(1-\\tau)a}{(1-\\beta) + \\delta\\beta(1-\\tau)}\\right]^{\\frac{1}{1-a}}$$"
   ]
  },
  {
   "cell_type": "markdown",
   "metadata": {},
   "source": [
    "We now solve for $\\bar{k}:$"
   ]
  },
  {
   "cell_type": "code",
   "execution_count": 4,
   "metadata": {},
   "outputs": [],
   "source": [
    "def solve_analytically(beta, tau, alpha, delta):\n",
    "    k_bar = ((beta*(1-tau)*alpha)/((1-beta)+delta*beta*(1-tau)))**(1/(1-alpha))\n",
    "    return k_bar"
   ]
  },
  {
   "cell_type": "code",
   "execution_count": 6,
   "metadata": {},
   "outputs": [
    {
     "data": {
      "text/plain": [
       "7.2875"
      ]
     },
     "execution_count": 6,
     "metadata": {},
     "output_type": "execute_result"
    }
   ],
   "source": [
    "k_bar = solve_analytically(0.98, 0.05, 0.4, 0.1)\n",
    "round(k_bar, 5)"
   ]
  },
  {
   "cell_type": "markdown",
   "metadata": {},
   "source": [
    "#### Numerical solution\n",
    "Since the Euler equation holds in the steady state, we can use it to obtain a numerical solution."
   ]
  },
  {
   "cell_type": "code",
   "execution_count": 7,
   "metadata": {},
   "outputs": [],
   "source": [
    "import numpy as np\n",
    "import scipy.optimize as opt"
   ]
  },
  {
   "cell_type": "code",
   "execution_count": 8,
   "metadata": {},
   "outputs": [],
   "source": [
    "def eul_err_5(k, eulargs):\n",
    "    beta, tau, alpha, delta = eulargs\n",
    "    error = 1 - beta*((alpha*k**(alpha-1) - delta)*(1-tau)+1)\n",
    "    return error"
   ]
  },
  {
   "cell_type": "code",
   "execution_count": 9,
   "metadata": {},
   "outputs": [],
   "source": [
    "def solve_num_5(params, k_guess):\n",
    "    beta, tau, alpha, delta, mytol = params\n",
    "    root = opt.root(eul_err_5, k_guess, [beta, tau, alpha, delta], tol=mytol)\n",
    "    answer = root.x\n",
    "    return answer"
   ]
  },
  {
   "cell_type": "code",
   "execution_count": 14,
   "metadata": {},
   "outputs": [
    {
     "name": "stdout",
     "output_type": "stream",
     "text": [
      "kbar:  7.287498\n",
      "ybar:  2.213255\n",
      "ibar:  0.72875\n"
     ]
    }
   ],
   "source": [
    "my_k_guess = 5.0\n",
    "k_bar = solve_num_5([0.98, 0.05, 0.4, 0.1, 0.001], my_k_guess)\n",
    "y_bar = (k_bar)**0.4\n",
    "i_bar = 0.1*k_bar\n",
    "print(\"kbar: \", round(k_bar[0], 6))\n",
    "print(\"ybar: \", round(y_bar[0], 6))\n",
    "print(\"ibar: \", round(i_bar[0], 6))"
   ]
  },
  {
   "cell_type": "markdown",
   "metadata": {},
   "source": [
    "### Exercise 6."
   ]
  },
  {
   "cell_type": "markdown",
   "metadata": {},
   "source": [
    "\\begin{align*}\n",
    "&c_t = (1-\\tau)[w_tl_t + (r_t - \\delta)k_t] + k_t + T_t - k_{t+1}\\\\\n",
    "&\\frac{1}{c_t^{\\gamma}} = \\beta \\mathbb E_{t}\\left[\\frac{1}{c_{t+1}^{\\gamma}}[(r_{t+1} - \\delta)(1-\\tau)+1]\\right]\\\\\n",
    "&\\frac{a}{(1-l_t)^{\\epsilon}} = \\frac{1}{c_t^{\\gamma}} w_t(1-\\tau)\\\\\n",
    "&r_t = ak_{t}^{a-1}(l_te^{z_t})^{1-a}\\\\\n",
    "&w_t = (1-a)k_t^{a}(l_te^{z_t})^{-a}e^{z_t}\\\\\n",
    "&\\tau[w_tl_t + (r_t - \\delta)k_t] = T_t\\\\\n",
    "&z_t = (1-\\rho)\\bar{z} + \\rho z_{t-1} + \\epsilon_{t}\\\\\n",
    "&\\epsilon_{t} \\sim iid (0, \\sigma_z)\n",
    "\\end{align*}"
   ]
  },
  {
   "cell_type": "code",
   "execution_count": 15,
   "metadata": {},
   "outputs": [],
   "source": [
    "#Parameterisation\n",
    "gamma_6 = 2.5\n",
    "eta_6 = 1.5\n",
    "beta_6 = 0.98\n",
    "alpha_6 = 0.40\n",
    "a_6 = 0.5\n",
    "delta_6 = 0.10\n",
    "tau_6 = 0.05"
   ]
  },
  {
   "cell_type": "code",
   "execution_count": 16,
   "metadata": {},
   "outputs": [],
   "source": [
    "def Eul_err_6(guesskl, eul_6_args):\n",
    "    gamma, eta, beta, alpha, a, delta, tau = eul_6_args\n",
    "    \n",
    "    w = (1-alpha)*((guesskl[0])**alpha)*((guesskl[1])**(-alpha))\n",
    "    r = alpha*((guesskl[0])**(alpha-1))*((guesskl[1])**(1-alpha))\n",
    "    c = w*guesskl[1] + (r-delta)*guesskl[0]\n",
    "    \n",
    "    error = np.zeros(2)\n",
    "    \n",
    "    error[0] = 1 - beta*((r-delta)*(1-tau) + 1)\n",
    "    error[1] = a/((1-guesskl[1])**eta) - (1/(c**gamma))*w*(1-tau)\n",
    "    \n",
    "    return error"
   ]
  },
  {
   "cell_type": "code",
   "execution_count": 17,
   "metadata": {},
   "outputs": [],
   "source": [
    "def get_ss_6(params_6, guesskl):\n",
    "    gamma, eta, beta, alpha, a, delta, tau = params_6\n",
    "    \n",
    "    root = opt.root(Eul_err_6, guesskl, [gamma, eta, beta, alpha, a, delta, tau], tol=0.001)  \n",
    "    kl_ss = root.x\n",
    "    \n",
    "    return kl_ss"
   ]
  },
  {
   "cell_type": "code",
   "execution_count": 18,
   "metadata": {},
   "outputs": [],
   "source": [
    "my_kl_guess = np.array([1.0, 0.2])\n",
    "my_params_6 = gamma_6, eta_6, beta_6, alpha_6, a_6, delta_6, tau_6"
   ]
  },
  {
   "cell_type": "code",
   "execution_count": 20,
   "metadata": {},
   "outputs": [
    {
     "name": "stdout",
     "output_type": "stream",
     "text": [
      "k_ss :  4.225257\n",
      "l_ss :  0.579792\n",
      "y_ss :  1.28323\n",
      "i_ss :  0.422526\n"
     ]
    }
   ],
   "source": [
    "k_ss_6, l_ss_6 = get_ss_6(my_params_6, my_kl_guess)\n",
    "y_ss_6 = (k_ss_6**(alpha_6))*(l_ss_6**(1-alpha_6))\n",
    "i_ss_6 = 0.1*k_ss_6\n",
    "\n",
    "print(\"k_ss : \", round(k_ss_6, 6))\n",
    "print(\"l_ss : \", round(l_ss_6, 6))\n",
    "print(\"y_ss : \", round(y_ss_6, 6))\n",
    "print(\"i_ss : \", round(i_ss_6, 6))"
   ]
  },
  {
   "cell_type": "code",
   "execution_count": null,
   "metadata": {},
   "outputs": [],
   "source": []
  }
 ],
 "metadata": {
  "kernelspec": {
   "display_name": "Python 3",
   "language": "python",
   "name": "python3"
  },
  "language_info": {
   "codemirror_mode": {
    "name": "ipython",
    "version": 3
   },
   "file_extension": ".py",
   "mimetype": "text/x-python",
   "name": "python",
   "nbconvert_exporter": "python",
   "pygments_lexer": "ipython3",
   "version": "3.6.4"
  }
 },
 "nbformat": 4,
 "nbformat_minor": 2
}
