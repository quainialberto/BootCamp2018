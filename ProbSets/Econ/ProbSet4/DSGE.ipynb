{
 "cells": [
  {
   "cell_type": "markdown",
   "metadata": {},
   "source": [
    "# DSGE"
   ]
  },
  {
   "cell_type": "markdown",
   "metadata": {},
   "source": [
    "Import libraries"
   ]
  },
  {
   "cell_type": "code",
   "execution_count": 15,
   "metadata": {},
   "outputs": [],
   "source": [
    "import numpy as np\n",
    "import scipy.optimize as opt"
   ]
  },
  {
   "cell_type": "markdown",
   "metadata": {},
   "source": [
    "### Exercise 1."
   ]
  },
  {
   "cell_type": "markdown",
   "metadata": {},
   "source": [
    "Given the Euler equation and the policy function, we can substitute in our policy function guess and verify the value of A.\n",
    "\n",
    "Rewriting the Euler with the policy function we get:\n",
    "\\begin{align*}\n",
    "\\frac{1}{(1-A)e^{Zt}K_{t}^a} = \\beta \\mathbb E_{t}\\left[\\frac{ae^{Zt+1}K_{t+1}^{a-1}}{e^{Zt+1}K_{t+1}^a - Ae^{Zt+1}K_{t+1}^a}\\right].\n",
    "\\end{align*}\n",
    "Cancelling the $e$'s on the RHS, the expectation (since we are at time $t$) and the resulting $(1-A)$ on both sides we get:\n",
    "$$K_{t+1} = \\beta a e^{Zt}K_{t}^a.$$\n",
    "Therefore, we obtain $A = \\beta a$."
   ]
  },
  {
   "cell_type": "markdown",
   "metadata": {},
   "source": [
    "### Exercise 2."
   ]
  },
  {
   "cell_type": "markdown",
   "metadata": {},
   "source": [
    "Imposing market clearing conditions ($l_t=L_t$, $w_t=W_t$, $k_t=K_t$ and $r_t=R_t$) we have the characterising equations:"
   ]
  },
  {
   "cell_type": "markdown",
   "metadata": {},
   "source": [
    "Household"
   ]
  },
  {
   "cell_type": "markdown",
   "metadata": {},
   "source": [
    "\\begin{align*}\n",
    "&\\frac{1}{c_t} = \\beta \\mathbb E_{t}\\left[\\frac{1}{c_{t+1}}[(r_{t+1} \n",
    "    - \\delta)(1-\\tau)+1]\\right]\\\\\n",
    "&\\frac{-a}{1-l_t} = \\frac{1}{c_t} w_t(1-\\tau)\n",
    "\\end{align*}"
   ]
  },
  {
   "cell_type": "markdown",
   "metadata": {},
   "source": [
    "Firm"
   ]
  },
  {
   "cell_type": "markdown",
   "metadata": {},
   "source": [
    "\\begin{align*}\n",
    "&r_t = ae^{z_{t}}k_{t}^{a-1}l_{t}^{1-a}\\\\\n",
    "&w_t = (1-a)e^{z_{t}}k_{t}^{a}l_{t}^{-a}\n",
    "\\end{align*}"
   ]
  },
  {
   "cell_type": "markdown",
   "metadata": {},
   "source": [
    "Government"
   ]
  },
  {
   "cell_type": "markdown",
   "metadata": {},
   "source": [
    "$$\\tau[w_tl_t + (r_t - \\delta)k_t] = T_t$$"
   ]
  },
  {
   "cell_type": "markdown",
   "metadata": {},
   "source": [
    "My guess is that we can't use the same trick as before, given that we have endogenous labour supply now."
   ]
  },
  {
   "cell_type": "markdown",
   "metadata": {},
   "source": [
    "### Exercise 3."
   ]
  },
  {
   "cell_type": "markdown",
   "metadata": {},
   "source": [
    "The only difference is that now we have to take the $C_t$'s to the power gamma."
   ]
  },
  {
   "cell_type": "markdown",
   "metadata": {},
   "source": [
    "Household"
   ]
  },
  {
   "cell_type": "markdown",
   "metadata": {},
   "source": [
    "\\begin{align*}\n",
    "&\\frac{a}{1-l_t} = \\frac{1}{c_t^{\\gamma}} w_t(1-\\tau)\\\\\n",
    "&\\frac{1}{c_t^{\\gamma}} = \\beta \\mathbb E_{t}\\left[\\frac{1}{c_{t+1}^{\\gamma}}[(r_{t+1} - \\delta)(1-\\tau)+1]\\right]\n",
    "\\end{align*}"
   ]
  },
  {
   "cell_type": "markdown",
   "metadata": {},
   "source": [
    "Firm"
   ]
  },
  {
   "cell_type": "markdown",
   "metadata": {},
   "source": [
    "\\begin{align*}\n",
    "&r_t = ae^{z_{t}}k_{t}^{a-1}l_{t}^{1-a}\\\\\n",
    "&w_t = (1-a)e^{z_{t}}k_{t}^{a}l_{t}^{-a}\n",
    "\\end{align*}"
   ]
  },
  {
   "cell_type": "markdown",
   "metadata": {},
   "source": [
    "Government"
   ]
  },
  {
   "cell_type": "markdown",
   "metadata": {},
   "source": [
    "\\begin{align*}\n",
    "\\tau[w_tl_t + (r_t - \\delta)k_t] = T_t\n",
    "\\end{align*}"
   ]
  },
  {
   "cell_type": "markdown",
   "metadata": {},
   "source": [
    "### Exercise 4."
   ]
  },
  {
   "cell_type": "markdown",
   "metadata": {},
   "source": [
    "Household"
   ]
  },
  {
   "cell_type": "markdown",
   "metadata": {},
   "source": [
    "\\begin{align*}\n",
    "&w_t (1-\\tau)c_t^{-\\gamma} = -a(1-l_t)^\\xi\\\\\n",
    "&\\frac{1}{c_t^{\\gamma}} = \\beta \\mathbb E_{t}\\left[\\frac{1}{c_{t+1}^{\\gamma}}[(r_{t+1} \n",
    "    - \\delta)(1-\\tau)+1]\\right]\n",
    "\\end{align*}"
   ]
  },
  {
   "cell_type": "markdown",
   "metadata": {},
   "source": [
    "Firm"
   ]
  },
  {
   "cell_type": "markdown",
   "metadata": {},
   "source": [
    "\\begin{align*}\n",
    "&r_t = ak_t^{\\eta-1}e^{z_t}\\left(ak_t^\\eta + (1-a)L_t^eta\\right)^{1/\\eta1}\\\\\n",
    "&w_t = (1-a)e^{z_{t}}l_{t}^{\\eta-1}[ak_{t}^{\\eta} + \n",
    "    (1-a)l_{t}^{\\eta}]^\\frac{1-\\eta}{\\eta}\n",
    "\\end{align*}"
   ]
  },
  {
   "cell_type": "markdown",
   "metadata": {},
   "source": [
    "Government"
   ]
  },
  {
   "cell_type": "markdown",
   "metadata": {},
   "source": [
    "\\begin{align*}\n",
    "\\tau[w_tl_t + (r_t - \\delta)k_t] = T_t\n",
    "\\end{align*}"
   ]
  },
  {
   "cell_type": "markdown",
   "metadata": {},
   "source": [
    "### Exercise 5."
   ]
  },
  {
   "cell_type": "markdown",
   "metadata": {},
   "source": [
    "Household"
   ]
  },
  {
   "cell_type": "markdown",
   "metadata": {},
   "source": [
    "$$\\frac{1}{c_t^{\\gamma}} = \\beta \\mathbb E_{t}\\left[\\frac{1}{c_{t+1}^{\\gamma}}[(r_{t+1} \n",
    "    - \\delta)(1-\\tau)+1]\\right]$$"
   ]
  },
  {
   "cell_type": "markdown",
   "metadata": {},
   "source": [
    "Firm"
   ]
  },
  {
   "cell_type": "markdown",
   "metadata": {},
   "source": [
    "\\begin{align*}\n",
    "&r_t = ak_{t}^{a-1}(l_te^{z_t})^{1-a}\\\\\n",
    "&w_t = (1-a)k_t^{a}(l_te^{z_t})^{-a}e^{z_t}\n",
    "\\end{align*}"
   ]
  },
  {
   "cell_type": "markdown",
   "metadata": {},
   "source": [
    "Government"
   ]
  },
  {
   "cell_type": "markdown",
   "metadata": {},
   "source": [
    "$$\\tau[w_tl_t + (r_t - \\delta)k_t] = T_t$$"
   ]
  },
  {
   "cell_type": "markdown",
   "metadata": {},
   "source": [
    "In the steady-state we get:"
   ]
  },
  {
   "cell_type": "markdown",
   "metadata": {},
   "source": [
    "\\begin{align*}\n",
    "&\\frac{1}{\\bar{c}^{\\gamma}} = \\beta \\left[\\frac{1}{\\bar{c}^{\\gamma}}[(\\bar{r} \n",
    "    - \\delta)(1-\\tau)+1]\\right]\\\\\n",
    "&\\bar{r} = a\\bar{k}^{a-1}\\\\\n",
    "&\\bar{w} = (1-a)\\bar{k}^a\\\\\n",
    "&\\tau[\\bar{w} + (\\bar{r} - \\delta)\\bar{k}] = \\bar{T}\n",
    "\\end{align*}"
   ]
  },
  {
   "cell_type": "markdown",
   "metadata": {},
   "source": [
    "Solving analytically we obtain:"
   ]
  },
  {
   "cell_type": "markdown",
   "metadata": {},
   "source": [
    "\\begin{align*}\n",
    "&\\bar{r}=7.287\\\\\n",
    "&\\bar{k}=0.121\\\\\n",
    "&\\bar{w}=1.328\n",
    "\\end{align*}"
   ]
  },
  {
   "cell_type": "markdown",
   "metadata": {},
   "source": [
    "#### Numerical solution\n",
    "Since the Euler equation holds in the steady state, we can use it to obtain a numerical solution."
   ]
  },
  {
   "cell_type": "code",
   "execution_count": 36,
   "metadata": {},
   "outputs": [],
   "source": [
    "# Parametrization\n",
    "gamma5 = 2.5\n",
    "beta5 = 0.98\n",
    "a5 = 0.4\n",
    "delta5 = 0.1\n",
    "tau5 = 0.05\n",
    "params5 = [gamma5, beta5, a5, delta5, tau5]"
   ]
  },
  {
   "cell_type": "code",
   "execution_count": 37,
   "metadata": {},
   "outputs": [
    {
     "name": "stdout",
     "output_type": "stream",
     "text": [
      " k_ss = 7.287497950687265 \n",
      " r_ss = 0.12148227712137481 \n",
      " w_ss = 1.327952768351034 \n",
      " Y_ss = 2.2132546139181475 \n",
      " I_ss = 0.7287497950687265\n"
     ]
    }
   ],
   "source": [
    "def diff5(vec, params):\n",
    "    k, r, w = vec[0], vec[1], vec[2]\n",
    "    gamma, beta, a, delta, tau = params\n",
    "    eulerdiff = 1 - beta * ((r - delta) * (1 - tau) + 1)\n",
    "    rdiff = r - a * k ** (a - 1)\n",
    "    wdiff = w - (1 - a) * k ** a\n",
    "    outvec = np.array([eulerdiff, rdiff, wdiff])\n",
    "    return outvec\n",
    "\n",
    "vguess = np.array([6, 0.1, 1.5])\n",
    "roots = opt.root(diff5, vguess, args = params5).x\n",
    "k_ss = roots[0]\n",
    "r_ss = roots[1]\n",
    "w_ss = roots[2]\n",
    "y_ss = k_ss ** a5\n",
    "i_ss = k_ss * delta5\n",
    "print(\" k_ss =\", k_ss, \"\\n r_ss =\", r_ss, \"\\n w_ss =\", w_ss, \"\\n Y_ss =\", y_ss, \"\\n I_ss =\", i_ss)"
   ]
  },
  {
   "cell_type": "markdown",
   "metadata": {},
   "source": [
    "### Exercise 6."
   ]
  },
  {
   "cell_type": "markdown",
   "metadata": {},
   "source": [
    "Household (roles of $a$ and $\\alpha$ are inverted wrt notes)"
   ]
  },
  {
   "cell_type": "markdown",
   "metadata": {},
   "source": [
    "\\begin{align*}\n",
    "&w_t (1-\\tau)c_t^{-\\gamma} = -\\alpha(1-l_t)^\\xi\\\\\n",
    "&\\frac{1}{c_t^{\\gamma}} = \\beta \\mathbb E_{t}\\left[\\frac{1}{c_{t+1}^{\\gamma}}[(r_{t+1} \n",
    "    - \\delta)(1-\\tau)+1]\\right]\n",
    "\\end{align*}"
   ]
  },
  {
   "cell_type": "markdown",
   "metadata": {},
   "source": [
    "Firm"
   ]
  },
  {
   "cell_type": "markdown",
   "metadata": {},
   "source": [
    "\\begin{align*}\n",
    "&r_t = ak_{t}^{a-1}(l_te^{z_t})^{1-a}\\\\\n",
    "&w_t = (1-a)k_t^{a}(l_te^{z_t})^{-a}e^{z_t}\n",
    "\\end{align*}"
   ]
  },
  {
   "cell_type": "markdown",
   "metadata": {},
   "source": [
    "Government"
   ]
  },
  {
   "cell_type": "markdown",
   "metadata": {},
   "source": [
    "$$\\tau[w_tl_t + (r_t - \\delta)k_t] = T_t$$"
   ]
  },
  {
   "cell_type": "markdown",
   "metadata": {},
   "source": [
    "The steady-state solution is:"
   ]
  },
  {
   "cell_type": "code",
   "execution_count": 47,
   "metadata": {},
   "outputs": [],
   "source": [
    "# Parametrization\n",
    "gamma6 = 2.5\n",
    "xi6 = 1.5\n",
    "beta6 = 0.98\n",
    "a6 = 0.4\n",
    "alpha6 = 0.5\n",
    "delta6 = 0.1\n",
    "zbar6 = 0\n",
    "tau6 = 0.05\n",
    "params6 = [gamma6, xi6, beta6, a6, alpha6, delta6, zbar6, tau6]"
   ]
  },
  {
   "cell_type": "code",
   "execution_count": 55,
   "metadata": {},
   "outputs": [],
   "source": [
    "def diff6(ss_val, args):\n",
    "    c = ss_val[0]\n",
    "    k = ss_val[1]\n",
    "    l = ss_val[2]\n",
    "    \n",
    "    gamma, xi, beta, a, alpha, delta, zbar, tau  = args\n",
    "\n",
    "    r = alpha* (k**(alpha-1) * (np.exp(zbar)*l)**(1-alpha))\n",
    "    w = (1-alpha)*np.exp(zbar) * (k**alpha) * (l*np.exp(zbar))**(-alpha)\n",
    "\n",
    "    diff_1 = 1/(c**gamma) - beta * ((r-delta)*(1-tau)+1)/(c**gamma)\n",
    "    diff_2 = c + k - (1-delta)*k - (k**(alpha) * (np.exp(zbar)*l)**(1-alpha))  \n",
    "    diff_3 = -a/((1-l)**xi) + w*(1-tau)/(c**gamma) \n",
    "    err = np.array([diff_1,diff_2,diff_3])\n",
    "    \n",
    "    return err"
   ]
  },
  {
   "cell_type": "code",
   "execution_count": 57,
   "metadata": {},
   "outputs": [
    {
     "name": "stdout",
     "output_type": "stream",
     "text": [
      "k SS is: 8.615435601037737 \n",
      "c SS is: 1.2317019103092723 \n",
      "l SS is: 0.5085844526395321 \n",
      "r SS is: -0.026766212613365134 \n",
      "I SS is: 0.8615435601037738 \n",
      "Y SS is: 1.577352447624106\n"
     ]
    }
   ],
   "source": [
    "vguess = np.array([1.0, 8.0, 0.8])\n",
    "results = opt.root(diff6, vguess, args=params6)\n",
    "css, kss, lss = results.x\n",
    "yss = kss**a6 * lss**(1-a6)\n",
    "Iss = delta6*kss\n",
    "rss = a6 * kss**(a6-1) * lss**(1-a6) -delta6\n",
    "\n",
    "print('k SS is:', kss ,\n",
    "      '\\nc SS is:', css,\n",
    "      '\\nl SS is:', lss, \n",
    "      '\\nr SS is:', rss,\n",
    "      '\\nI SS is:',Iss,\n",
    "      '\\nY SS is:',yss)"
   ]
  },
  {
   "cell_type": "code",
   "execution_count": null,
   "metadata": {},
   "outputs": [],
   "source": []
  }
 ],
 "metadata": {
  "kernelspec": {
   "display_name": "Python 3",
   "language": "python",
   "name": "python3"
  },
  "language_info": {
   "codemirror_mode": {
    "name": "ipython",
    "version": 3
   },
   "file_extension": ".py",
   "mimetype": "text/x-python",
   "name": "python",
   "nbconvert_exporter": "python",
   "pygments_lexer": "ipython3",
   "version": "3.6.4"
  }
 },
 "nbformat": 4,
 "nbformat_minor": 2
}
