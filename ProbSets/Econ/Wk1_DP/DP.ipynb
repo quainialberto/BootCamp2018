{
 "cells": [
  {
   "cell_type": "markdown",
   "metadata": {},
   "source": [
    "# Dynamic Programming Exercises"
   ]
  },
  {
   "cell_type": "markdown",
   "metadata": {},
   "source": [
    "## Exercise 1\n",
    "\n",
    "\n",
    "### 1. State variables:\n",
    "\n",
    "Stock of oil $s_t$ and price $p_t$.\n",
    "\n",
    "### 2. Control variables:\n",
    "\n",
    "Amount of oil to sell $x_t$.\n",
    "\n",
    "### 3. Transition equation:\n",
    "\n",
    "$s_{t+1} = s_t - x_t$.\n",
    "\n",
    "### 4. Problem\n",
    "\n",
    "The sequence problem is:\n",
    "\n",
    "$\\underset{\\{x_t\\}_{t\\in\\mathbb N}}{\\max}\n",
    "\\left\\{\\sum_{t\\in\\mathbb N} \n",
    "\\left(\\frac{1}{1+r}\\right)^tp_t x_t \\right\\}$\n",
    "\n",
    "subject to: $s_0 = B$, $s_{t+1} = s_t - x_t$ and $x_t \\ge 0$ for all $t$.\n",
    "\n",
    "The Bellman equation is of the form:\n",
    "\n",
    "$V(s) = \\max_x\\left\\{px + \\frac{1}{1+r} V(s - x)\\right\\}$\n",
    "\n",
    "or\n",
    "\n",
    "$V(s) = \\max_x\\left\\{p(s-s') + \\frac{1}{1+r} V(s')\\right\\}$\n",
    "\n",
    "### 5. The Euler equation\n",
    "\n",
    "FOC wrt $s'$: \n",
    "\n",
    "$p = \\frac{1}{1+r}\\frac{dV'(s')}{ds'}$,\n",
    "\n",
    "and\n",
    "\n",
    "$\\frac{dV'(s')}{ds'} = p' - p'\\frac{ds''}{ds'} +\n",
    "\\frac{1}{1+r}\\frac{dV''(s'')}{ds''}\\frac{ds''}{ds'} = p'$.\n",
    "\n",
    "Therefore the Euler equation is:\n",
    "\n",
    "$p = p'\\frac{1}{1+r}$.\n",
    "\n",
    "### 6. The solution\n",
    "\n",
    "Since the utility function is linear, the solution is piecewise.\n",
    "\n",
    "If $p_{t+1} = p_t$ for all t, then we sell everything today: $x_0 = B$. This follows from the fact that we get the same absolute payoff from selling a marginal unit in any period, but we discount the future.\n",
    "\n",
    "If $p_{t+1} > (1+r)p_t$, then $x_t = 0$ for all $t$. \n",
    "This is actually a violation of the transversality condition, and so the model is not stationary in this case.\n",
    "\n",
    "A necessary condition for an interior solution is $p_t(1+r) = p_{t+1}$.\n"
   ]
  },
  {
   "cell_type": "markdown",
   "metadata": {},
   "source": [
    "## Exercise 2\n",
    "\n",
    "### 1. State variables:\n",
    "\n",
    "Amount of capital $k_t$ and shock to production $z_t$.\n",
    "\n",
    "### 2. Control variables:\n",
    "\n",
    "Consumption $c_t$.\n",
    "\n",
    "### 3. Bellman Equation:\n",
    "\n",
    "$V(z, k) = \\max_c\\{U(c) + \\beta\\mathbb EV(z', k')\\}$\n",
    "\n",
    "subject to:\n",
    "\n",
    "$k' + c = z k^\\alpha + (1-\\delta)k$.\n",
    "\n"
   ]
  },
  {
   "cell_type": "markdown",
   "metadata": {},
   "source": [
    "#### Import some packages"
   ]
  },
  {
   "cell_type": "code",
   "execution_count": 6,
   "metadata": {},
   "outputs": [],
   "source": [
    "# Imports\n",
    "import numpy as np\n",
    "import matplotlib.pyplot as plt\n",
    "import ar1_approx as ar1\n",
    "\n",
    "# to print plots inline\n",
    "%matplotlib inline"
   ]
  },
  {
   "cell_type": "markdown",
   "metadata": {},
   "source": [
    "### Set Parameters\n",
    "\n",
    "Parameters:\n",
    "* $\\gamma$ : Coefficient of Relative Risk Aversion\n",
    "* $\\beta$ : Discount factor\n",
    "* $\\delta$ : Rate of depreciation\n",
    "* $\\alpha$ : Curvature of production function\n",
    "* $\\sigma_z$ : Standard dev of productivity shocks\n"
   ]
  },
  {
   "cell_type": "code",
   "execution_count": 7,
   "metadata": {},
   "outputs": [],
   "source": [
    "gamma = 0.5\n",
    "beta = 0.96\n",
    "delta = 0.05\n",
    "alpha = 0.4\n",
    "sigma = 0.2\n",
    "mu    = 0\n",
    "rho   = 0"
   ]
  },
  {
   "cell_type": "markdown",
   "metadata": {},
   "source": [
    "### Create Grid Space"
   ]
  },
  {
   "cell_type": "code",
   "execution_count": 8,
   "metadata": {},
   "outputs": [],
   "source": [
    "'''\n",
    "------------------------------------------------------------------------\n",
    "Create Grid for State Space - Capital and Shock\n",
    "------------------------------------------------------------------------\n",
    "lb_k      = scalar, lower bound of capital grid\n",
    "ub_k      = scalar, upper bound of capital grid\n",
    "size_k    = integer, number of grid points in capital state space\n",
    "k_grid    = vector, size_k x 1 vector of capital grid points \n",
    "------------------------------------------------------------------------\n",
    "'''\n",
    "lb_k = 10\n",
    "ub_k = 13\n",
    "size_k = 50  # Number of grid points of k\n",
    "size_z = 50 # Number of grid points of z\n",
    "k_grid = np.linspace(lb_k, ub_k, size_k)\n",
    "\n",
    "import ar1_approx as ar1\n",
    "ln_z_grid, pi = ar1.addacooper(size_z, mu, rho, sigma)\n",
    "z_grid = np.exp(ln_z_grid)\n",
    "pi_z = np.transpose(pi)"
   ]
  },
  {
   "cell_type": "code",
   "execution_count": 9,
   "metadata": {},
   "outputs": [],
   "source": [
    "'''\n",
    "------------------------------------------------------------------------\n",
    "Create grid of current utility values    \n",
    "------------------------------------------------------------------------\n",
    "C        = matrix, current consumption (c=z_tk_t^a - k_t+1 + (1-delta)k_t)\n",
    "U        = matrix, current period utility value for all possible\n",
    "           choices of w and w' (rows are w, columns w')\n",
    "------------------------------------------------------------------------\n",
    "'''\n",
    "\n",
    "C = np.zeros((size_k, size_k, size_z))\n",
    "for i in range(size_k): # loop over k_t\n",
    "    for j in range(size_k): # loop over k_t+1\n",
    "        for q in range(size_z): #loop over z_t\n",
    "            C[i, j, q] = z_grid[q]* k_grid[i]**alpha + (1 - delta)*k_grid[i] - k_grid[j]\n",
    "\n",
    "            \n",
    "# replace 0 and negative consumption with a tiny value \n",
    "# This is a way to impose non-negativity on cons\n",
    "C[C<=0] = 1e-15\n",
    "if gamma == 1:\n",
    "    U = np.log(C)\n",
    "else:\n",
    "    U = (C ** (1 - gamma)) / (1 - gamma)\n",
    "U[C<0] = -9999999"
   ]
  },
  {
   "cell_type": "markdown",
   "metadata": {},
   "source": [
    "### Value function iteration"
   ]
  },
  {
   "cell_type": "code",
   "execution_count": 10,
   "metadata": {},
   "outputs": [
    {
     "name": "stdout",
     "output_type": "stream",
     "text": [
      "Value function converged after this many iterations: 367\n"
     ]
    }
   ],
   "source": [
    "'''\n",
    "------------------------------------------------------------------------\n",
    "Value Function Iteration    \n",
    "------------------------------------------------------------------------\n",
    "VFtol     = scalar, tolerance required for value function to converge\n",
    "VFdist    = scalar, distance between last two value functions\n",
    "VFmaxiter = integer, maximum number of iterations for value function\n",
    "V         = vector, the value functions at each iteration\n",
    "Vmat      = matrix, the value for each possible combination of w and w'\n",
    "Vstore    = matrix, stores V at each iteration \n",
    "VFiter    = integer, current iteration number\n",
    "TV        = vector, the value function after applying the Bellman operator\n",
    "PF        = vector, indicies of choices of w' for all w \n",
    "VF        = vector, the \"true\" value function\n",
    "------------------------------------------------------------------------\n",
    "'''\n",
    "VFtol = 1e-6 \n",
    "VFdist = 7.0 \n",
    "VFmaxiter = 500 \n",
    "V = np.zeros((size_k, size_z)) # initial guess at value function\n",
    "Vmat = np.zeros((size_k, size_k, size_z)) # initialize Vmat matrix\n",
    "Vstore = np.zeros((size_k, size_z, VFmaxiter)) #initialize Vstore array\n",
    "VFiter = 1 \n",
    "while VFdist > VFtol and VFiter < VFmaxiter:\n",
    "    for i in range(size_k): # loop over k_t\n",
    "        for j in range(size_k): # loop over k_t+1\n",
    "            for q in range(size_z): #loop over z_t\n",
    "                EV = 0\n",
    "                for qq in range(size_z):\n",
    "                    EV += pi_z[q, qq]*V[j, qq]\n",
    "                Vmat[i, j, q] = U[i, j, q] + beta * EV\n",
    "      \n",
    "    Vstore[:,:, VFiter] = V.reshape(size_k, size_z,) # store value function at each iteration for graphing later\n",
    "    TV = Vmat.max(1) # apply max operator over k_t+1\n",
    "    PF = np.argmax(Vmat, axis=1)\n",
    "    VFdist = (np.absolute(V - TV)).max()  # check distance\n",
    "    V = TV\n",
    "    VFiter += 1 \n",
    "    \n",
    "\n",
    "\n",
    "if VFiter < VFmaxiter:\n",
    "    print('Value function converged after this many iterations:', VFiter)\n",
    "else:\n",
    "    print('Value function did not converge')            \n",
    "\n",
    "\n",
    "VF = V # solution to the functional equation"
   ]
  },
  {
   "cell_type": "markdown",
   "metadata": {},
   "source": [
    "### Extract decision rules"
   ]
  },
  {
   "cell_type": "code",
   "execution_count": 11,
   "metadata": {},
   "outputs": [],
   "source": [
    "'''\n",
    "------------------------------------------------------------------------\n",
    "Find consumption and capital policy functions   \n",
    "------------------------------------------------------------------------\n",
    "optK  = vector, the optimal choice of k' for each k\n",
    "optC  = vector, the optimal choice of c for each k\n",
    "------------------------------------------------------------------------\n",
    "'''\n",
    "optK = k_grid[PF] # tomorrow's optimal cake size (savings function)\n",
    "optC = z_grid * (k_grid ** alpha) + (1 - delta) * k_grid - optK"
   ]
  },
  {
   "cell_type": "markdown",
   "metadata": {},
   "source": [
    "### Plot Value Function"
   ]
  },
  {
   "cell_type": "code",
   "execution_count": 12,
   "metadata": {
    "scrolled": true
   },
   "outputs": [
    {
     "data": {
      "text/plain": [
       "<matplotlib.figure.Figure at 0x1a0a33f470>"
      ]
     },
     "metadata": {},
     "output_type": "display_data"
    },
    {
     "data": {
      "image/png": "[encoded data removed]",
      "text/plain": [
       "<matplotlib.figure.Figure at 0x1a0a31f940>"
      ]
     },
     "metadata": {},
     "output_type": "display_data"
    }
   ],
   "source": [
    "# Plot value function\n",
    "plt.figure()\n",
    "fig, ax = plt.subplots()\n",
    "ax.plot(k_grid[1:], VF[1:, 0], label='$z$ = ' + str(z_grid[0]))\n",
    "ax.plot(k_grid[1:], VF[1:, 15], label='$z$ = ' + str(z_grid[5]))\n",
    "ax.plot(k_grid[1:], VF[1:, 30], label='$z$ = ' + str(z_grid[15]))\n",
    "ax.plot(k_grid[1:], VF[1:, 45], label='$z$ = ' + str(z_grid[19]))\n",
    "# Now add the legend with some customizations.\n",
    "legend = ax.legend(loc='lower right', shadow=False)\n",
    "# Set the fontsize\n",
    "for label in legend.get_texts():\n",
    "    label.set_fontsize('large')\n",
    "for label in legend.get_lines():\n",
    "    label.set_linewidth(1.5)  # the legend line width\n",
    "plt.xlabel('Size of Capital')\n",
    "plt.ylabel('Value Function')\n",
    "plt.title('Value Function - Neoclassical Growth Model')\n",
    "plt.show()"
   ]
  },
  {
   "cell_type": "markdown",
   "metadata": {},
   "source": [
    "### Plot optimal consumption rule"
   ]
  },
  {
   "cell_type": "code",
   "execution_count": 13,
   "metadata": {},
   "outputs": [
    {
     "data": {
      "text/plain": [
       "<matplotlib.figure.Figure at 0x1a13a39780>"
      ]
     },
     "metadata": {},
     "output_type": "display_data"
    },
    {
     "data": {
      "image/png": "[encoded data removed]",
      "text/plain": [
       "<matplotlib.figure.Figure at 0x1a13a396a0>"
      ]
     },
     "metadata": {},
     "output_type": "display_data"
    }
   ],
   "source": [
    "# Plot optimal consumption rule as a function of capital\n",
    "optK = k_grid[PF]\n",
    "optC = z_grid * k_grid ** (alpha) + (1 - delta) * k_grid - optK\n",
    "plt.figure()\n",
    "fig, ax = plt.subplots()\n",
    "ax.plot(k_grid[:], optC[:][18], label='Consumption')\n",
    "# Now add the legend with some customizations.\n",
    "#legend = ax.legend(loc='upper left', shadow=False)\n",
    "# Set the fontsize\n",
    "for label in legend.get_texts():\n",
    "    label.set_fontsize('large')\n",
    "for label in legend.get_lines():\n",
    "    label.set_linewidth(1.5)  # the legend line width\n",
    "plt.xlabel('Size of Capital')\n",
    "plt.ylabel('Optimal Consumption')\n",
    "plt.title('Policy Function, consumption - Neoclassical Growth Model')\n",
    "plt.show()\n"
   ]
  },
  {
   "cell_type": "code",
   "execution_count": 14,
   "metadata": {},
   "outputs": [
    {
     "data": {
      "text/plain": [
       "<matplotlib.figure.Figure at 0x1a13a39630>"
      ]
     },
     "metadata": {},
     "output_type": "display_data"
    },
    {
     "data": {
      "image/png": "[encoded data removed]",
      "text/plain": [
       "<matplotlib.figure.Figure at 0x1a13a39da0>"
      ]
     },
     "metadata": {},
     "output_type": "display_data"
    }
   ],
   "source": [
    "# Plot optimal consumption rule as a function of capital size\n",
    "optK = k_grid[PF]\n",
    "plt.figure()\n",
    "fig, ax = plt.subplots()\n",
    "ax.plot(k_grid[:], optK[:][18], label='Capital in period t+1')\n",
    "# Now add the legend with some customizations.\n",
    "#legend = ax.legend(loc='upper left', shadow=False)\n",
    "# Set the fontsize\n",
    "for label in legend.get_texts():\n",
    "    label.set_fontsize('large')\n",
    "for label in legend.get_lines():\n",
    "    label.set_linewidth(1.5)  # the legend line width\n",
    "plt.xlabel('Size of Capital in period t')\n",
    "plt.ylabel('Optimal Capital in period t+1')\n",
    "plt.title('Policy Function, capital next period - Neoclassical Growth Model')\n",
    "plt.show()"
   ]
  },
  {
   "cell_type": "markdown",
   "metadata": {},
   "source": [
    "## Question 3"
   ]
  },
  {
   "cell_type": "markdown",
   "metadata": {},
   "source": [
    "### 1. Bellman equation"
   ]
  },
  {
   "cell_type": "markdown",
   "metadata": {},
   "source": [
    "$V(z, k) = \\max_c\\left\\{\n",
    "U(c) + \\beta\\mathbb E\\left[V(z', k)\\ |\\ z\\right]\n",
    "\\right\\}$\n"
   ]
  },
  {
   "cell_type": "markdown",
   "metadata": {},
   "source": [
    "### Set Parameters\n",
    "\n",
    "Parameters:\n",
    "* $\\gamma$ : Coefficient of Relative Risk Aversion\n",
    "* $\\beta$ : Discount factor\n",
    "* $\\delta$ : Rate of depreciation\n",
    "* $\\alpha$ : Curvature of production function\n",
    "* $\\mu_z$ : Mean of productivity shock\n",
    "* $\\rho_z$ : AR1 coefficient of productivity shock\n",
    "* $\\sigma_v$ : Standard deviation of v\n"
   ]
  },
  {
   "cell_type": "code",
   "execution_count": 15,
   "metadata": {},
   "outputs": [],
   "source": [
    "# Parameters\n",
    "\n",
    "gamma = 0.5\n",
    "beta = 0.96\n",
    "delta = 0.05\n",
    "alpha = 0.4\n",
    "mu = 0\n",
    "rho = 0.8\n",
    "sigma_v = 0.1"
   ]
  },
  {
   "cell_type": "code",
   "execution_count": 16,
   "metadata": {},
   "outputs": [],
   "source": [
    "'''\n",
    "------------------------------------------------------------------------\n",
    "Create Grid for State Space - Capital and Shock\n",
    "------------------------------------------------------------------------\n",
    "lb_k      = scalar, lower bound of capital grid\n",
    "ub_k      = scalar, upper bound of capital grid\n",
    "size_k    = integer, number of grid points in capital state space\n",
    "k_grid    = vector, size_k x 1 vector of capital grid points \n",
    "------------------------------------------------------------------------\n",
    "'''\n",
    "lb_k = 10\n",
    "ub_k = 13\n",
    "size_k = 50  # Number of grid points of k\n",
    "size_z = 50 # Number of grid points of z\n",
    "k_grid = np.linspace(lb_k, ub_k, size_k)\n",
    "\n",
    "import ar1_approx as ar1\n",
    "ln_z_grid, pi = ar1.addacooper(size_z, mu, rho, sigma_v)\n",
    "z_grid = np.exp(ln_z_grid)\n",
    "pi_z = np.transpose(pi)\n"
   ]
  },
  {
   "cell_type": "code",
   "execution_count": 17,
   "metadata": {},
   "outputs": [],
   "source": [
    "'''\n",
    "------------------------------------------------------------------------\n",
    "Create grid of current utility values    \n",
    "------------------------------------------------------------------------\n",
    "C        = matrix, current consumption (c=z_tk_t^a - k_t+1 + (1-delta)k_t)\n",
    "U        = matrix, current period utility value for all possible\n",
    "           choices of k and k'\n",
    "------------------------------------------------------------------------\n",
    "'''\n",
    "\n",
    "C = np.zeros((size_k, size_k, size_z))\n",
    "for i in range(size_k): # loop over k_t\n",
    "    for j in range(size_k): # loop over k_t+1\n",
    "        for q in range(size_z): #loop over z_t\n",
    "            C[i, j, q] = z_grid[q]* k_grid[i]**alpha + (1 - delta)*k_grid[i] - k_grid[j]\n",
    "# replace 0 and negative consumption with a tiny value \n",
    "# This is a way to impose non-negativity on cons\n",
    "C[C<=0] = 1e-15\n",
    "if gamma == 1:\n",
    "    U = np.log(C)\n",
    "else:\n",
    "    U = (C ** (1 - gamma)) / (1 - gamma)\n",
    "U[C<0] = -9999999"
   ]
  },
  {
   "cell_type": "code",
   "execution_count": 18,
   "metadata": {},
   "outputs": [
    {
     "name": "stdout",
     "output_type": "stream",
     "text": [
      "Value function converged after this many iterations: 367\n"
     ]
    }
   ],
   "source": [
    "'''\n",
    "------------------------------------------------------------------------\n",
    "Value Function Iteration    \n",
    "------------------------------------------------------------------------\n",
    "VFtol     = scalar, tolerance required for value function to converge\n",
    "VFdist    = scalar, distance between last two value functions\n",
    "VFmaxiter = integer, maximum number of iterations for value function\n",
    "V         = vector, the value functions at each iteration\n",
    "Vmat      = matrix, the value for each possible combination of w and w'\n",
    "Vstore    = matrix, stores V at each iteration \n",
    "VFiter    = integer, current iteration number\n",
    "TV        = vector, the value function after applying the Bellman operator\n",
    "PF        = vector, indicies of choices of w' for all w \n",
    "VF        = vector, the \"true\" value function\n",
    "------------------------------------------------------------------------\n",
    "'''\n",
    "VFtol = 1e-6 \n",
    "VFdist = 7.0 \n",
    "VFmaxiter = 500 \n",
    "V = np.zeros((size_k, size_z)) # initial guess at value function\n",
    "Vmat = np.zeros((size_k, size_k, size_z)) # initialize Vmat matrix\n",
    "Vstore = np.zeros((size_k, size_z, VFmaxiter)) #initialize Vstore array\n",
    "VFiter = 1 \n",
    "while VFdist > VFtol and VFiter < VFmaxiter:\n",
    "    for i in range(size_k): # loop over k_t\n",
    "        for j in range(size_k): # loop over k_t+1\n",
    "            for q in range(size_z): #loop over z_t\n",
    "                EV = 0\n",
    "                for qq in range(size_z):\n",
    "                    EV += pi_z[q, qq]*V[j, qq]\n",
    "                Vmat[i, j, q] = U[i, j, q] + beta * EV\n",
    "      \n",
    "    Vstore[:,:, VFiter] = V.reshape(size_k, size_z,) # store value function at each iteration for graphing later\n",
    "    TV = Vmat.max(1) # apply max operator over k_t+1\n",
    "    PF = np.argmax(Vmat, axis=1)\n",
    "    VFdist = (np.absolute(V - TV)).max()  # check distance\n",
    "    V = TV\n",
    "    VFiter += 1 \n",
    "    \n",
    "\n",
    "\n",
    "if VFiter < VFmaxiter:\n",
    "    print('Value function converged after this many iterations:', VFiter)\n",
    "else:\n",
    "    print('Value function did not converge')            \n",
    "\n",
    "\n",
    "VF = V # solution to the functional equation"
   ]
  },
  {
   "cell_type": "markdown",
   "metadata": {},
   "source": [
    "### Extract optimal decision rules"
   ]
  },
  {
   "cell_type": "code",
   "execution_count": 19,
   "metadata": {},
   "outputs": [],
   "source": [
    "'''\n",
    "------------------------------------------------------------------------\n",
    "Find consumption and capital policy functions   \n",
    "------------------------------------------------------------------------\n",
    "optK  = vector, the optimal choice of k' for each k\n",
    "optC  = vector, the optimal choice of c for each k\n",
    "------------------------------------------------------------------------\n",
    "'''\n",
    "optK = k_grid[PF] # tomorrow's optimal cake size (savings function)\n",
    "optC = z_grid * (k_grid ** alpha) + (1 - delta) * k_grid - optK"
   ]
  },
  {
   "cell_type": "markdown",
   "metadata": {},
   "source": [
    "### Plot Value Function"
   ]
  },
  {
   "cell_type": "code",
   "execution_count": 20,
   "metadata": {},
   "outputs": [
    {
     "data": {
      "text/plain": [
       "<matplotlib.figure.Figure at 0x1a14768be0>"
      ]
     },
     "metadata": {},
     "output_type": "display_data"
    },
    {
     "data": {
      "image/png": "[encoded data removed]",
      "text/plain": [
       "<matplotlib.figure.Figure at 0x1a14768b00>"
      ]
     },
     "metadata": {},
     "output_type": "display_data"
    }
   ],
   "source": [
    "# Plot value function \n",
    "plt.figure()\n",
    "fig, ax = plt.subplots()\n",
    "ax.plot(k_grid[1:], VF[1:, 0], label='$z$ = ' + str(round(z_grid[0], 3)))\n",
    "ax.plot(k_grid[1:], VF[1:, 15], label='$z$ = ' + str(round(z_grid[10], 3)))\n",
    "ax.plot(k_grid[1:], VF[1:, 30], label='$z$ = ' + str(round(z_grid[20], 3)))\n",
    "ax.plot(k_grid[1:], VF[1:, 45], label='$z$ = ' + str(round(z_grid[30], 3)))\n",
    "# Now add the legend with some customizations.\n",
    "legend = ax.legend(loc='lower right', shadow=False)\n",
    "# Set the fontsize\n",
    "for label in legend.get_texts():\n",
    "    label.set_fontsize('large')\n",
    "for label in legend.get_lines():\n",
    "    label.set_linewidth(1.5)  # the legend line width\n",
    "plt.xlabel('Size of Captial')\n",
    "plt.ylabel('Value Function')\n",
    "plt.title('Value Function - Neoclassical Growth Model')\n",
    "plt.show()\n"
   ]
  },
  {
   "cell_type": "markdown",
   "metadata": {},
   "source": [
    "### Plot optimal consumption rule"
   ]
  },
  {
   "cell_type": "code",
   "execution_count": 22,
   "metadata": {},
   "outputs": [
    {
     "data": {
      "text/plain": [
       "<matplotlib.figure.Figure at 0x1a1497d4a8>"
      ]
     },
     "metadata": {},
     "output_type": "display_data"
    },
    {
     "data": {
      "image/png": "[encoded data removed]",
      "text/plain": [
       "<matplotlib.figure.Figure at 0x1a1497d400>"
      ]
     },
     "metadata": {},
     "output_type": "display_data"
    }
   ],
   "source": [
    "# Plot optimal consumption rule as a function of capital\n",
    "optK = k_grid[PF]\n",
    "optC = z_grid * k_grid ** (alpha) + (1 - delta) * k_grid - optK\n",
    "plt.figure()\n",
    "fig, ax = plt.subplots()\n",
    "ax.plot(k_grid[:], optC[:][1], label='Consumption')\n",
    "ax.plot(k_grid[:], optC[:][18], label='Consumption')\n",
    "ax.plot(k_grid[:], optC[:][35], label='Consumption')\n",
    "# Now add the legend with some customizations.\n",
    "#legend = ax.legend(loc='upper left', shadow=False)\n",
    "plt.xlabel('Size of Capital')\n",
    "plt.ylabel('Optimal Consumption')\n",
    "plt.title('Policy Function, consumption - growth model')\n",
    "plt.show()"
   ]
  },
  {
   "cell_type": "markdown",
   "metadata": {},
   "source": [
    "### Plot optimal capital rule"
   ]
  },
  {
   "cell_type": "code",
   "execution_count": 24,
   "metadata": {},
   "outputs": [
    {
     "data": {
      "text/plain": [
       "<matplotlib.figure.Figure at 0x1a14c21048>"
      ]
     },
     "metadata": {},
     "output_type": "display_data"
    },
    {
     "data": {
      "image/png": "[encoded data removed]",
      "text/plain": [
       "<matplotlib.figure.Figure at 0x1a14c21160>"
      ]
     },
     "metadata": {},
     "output_type": "display_data"
    }
   ],
   "source": [
    "# Plot optimal capital in period t + 1\n",
    "optK = k_grid[PF]\n",
    "plt.figure()\n",
    "fig, ax = plt.subplots()\n",
    "ax.plot(k_grid[:], optK[:][4], label='Capital in period t+1')\n",
    "ax.plot(k_grid[:], optK[:][18], label='Capital in period t+1')\n",
    "ax.plot(k_grid[:], optK[:][35], label='Capital in period t+1')\n",
    "# Now add the legend with some customizations.\n",
    "#legend = ax.legend(loc='upper left', shadow=False)\n",
    "# Set the fontsize\n",
    "for label in legend.get_texts():\n",
    "    label.set_fontsize('large')\n",
    "for label in legend.get_lines():\n",
    "    label.set_linewidth(1.5)  # the legend line width\n",
    "plt.xlabel('Size of Capital in period t')\n",
    "plt.ylabel('Optimal Capital in period t+1')\n",
    "plt.title('Policy Function, capital next period - growth model')\n",
    "plt.show()"
   ]
  },
  {
   "cell_type": "markdown",
   "metadata": {},
   "source": [
    "## Question 4"
   ]
  },
  {
   "cell_type": "markdown",
   "metadata": {},
   "source": [
    "### Bellman equation:\n",
    "$$V(w_t) = \\max\\left\\{ V^U(w_t), V^J(w_t) \\right\\}$$\n",
    "\n",
    "where:\n",
    "$$V^U(w)=b+\\beta\\mathbb EV(w')$$\n",
    "\n",
    "and\n",
    "$$V^J(w)=\\mathbb E_0\\sum_{t=0}^\\infty\\beta^tw=\\frac{w}{1-\\beta}$$"
   ]
  },
  {
   "cell_type": "markdown",
   "metadata": {},
   "source": [
    "### Set Parameters\n",
    "\n",
    "Parameters:\n",
    "* $\\gamma$ : Coefficient of Relative Risk Aversion\n",
    "* $\\beta$ : Discount factor\n",
    "* $\\delta$ : Rate of depreciation\n",
    "* $\\alpha$ : Curvature of production function\n",
    "* $\\sigma_z$ : Standard dev of productivity shocks"
   ]
  },
  {
   "cell_type": "code",
   "execution_count": 25,
   "metadata": {},
   "outputs": [],
   "source": [
    "# Set Parameters\n",
    "\n",
    "beta = .96\n",
    "size_b = 20\n",
    "b = np.linspace(.05, 1, size_b) \n",
    "sigma = .15\n",
    "mu = 0\n",
    "rho = 0"
   ]
  },
  {
   "cell_type": "code",
   "execution_count": 27,
   "metadata": {},
   "outputs": [],
   "source": [
    "size_w = 100\n",
    "# We can simulate an iid process by using an AR(1) process where rho = 1\n",
    "# In this way, the ar1_approx.py script will calculate the appropriate\n",
    "# transition probabilties\n",
    "ln_wage_grid, pi_t = ar1.addacooper(size_w, mu, rho, sigma)\n",
    "w_grid = np.exp(ln_wage_grid)\n",
    "pi = np.transpose(pi_t)\n",
    "\n",
    "# Utility values of accepting a wage offer\n",
    "U = w_grid / (1 - beta)"
   ]
  },
  {
   "cell_type": "code",
   "execution_count": 28,
   "metadata": {},
   "outputs": [
    {
     "name": "stdout",
     "output_type": "stream",
     "text": [
      "Value function converged after this many iterations: 3\n"
     ]
    }
   ],
   "source": [
    "'''\n",
    "------------------------------------------------------------------------\n",
    "Value Function Iteration    \n",
    "------------------------------------------------------------------------\n",
    "VFtol       = scalar, tolerance required for value function to converge\n",
    "VFdist      = scalar, distance between last two value functions\n",
    "VFmaxiter   = integer, maximum number of iterations for value function\n",
    "V           = matrix, the value functions at each iteration\n",
    "TV          = matrix, the value function after applying the Bellman operator\n",
    "PF_discrete = matrix, matrix of policy function: eat=1, not eat=0 \n",
    "Vstore      = array, stores V at each iteration \n",
    "VFiter      = integer, current iteration number\n",
    "EV          = scalar, expected value function for a given state\n",
    "U_eat       = matrix, utility from eating cake now\n",
    "Vwait       = matrix, value of waiting to eat the cake\n",
    "VF          = vector, the \"true\" value function\n",
    "------------------------------------------------------------------------\n",
    "'''\n",
    "VFtol = 1e-8 \n",
    "VFdist = 7.0 \n",
    "VFmaxiter = 3000 \n",
    "V = np.zeros((size_w, size_b)) # initial guess at value function\n",
    "TV = np.zeros((size_w, size_b))\n",
    "PF_discrete = np.zeros((size_w, size_b))\n",
    "Vstore = np.zeros((size_w, size_b, VFmaxiter)) #initialize Vstore array\n",
    "VFiter = 1 \n",
    "while (VFdist > VFtol and VFiter < VFmaxiter):\n",
    "    for i in range(size_w): # loop over w\n",
    "        for j, bVal in enumerate(b):\n",
    "   \n",
    "            EV = 0\n",
    "            for ii in range(size_w):  # loop over w\n",
    "                EV += pi[i, ii] * V[ii, j]  \n",
    "            \n",
    "            U_accept = U[i]\n",
    "                \n",
    "            V_wait = bVal + beta * EV \n",
    "            TV[i, j] = max(U_accept, V_wait)\n",
    "            PF_discrete[i, j] = U_accept >= V_wait  \n",
    "            \n",
    "    Vstore[:,:, VFiter] = TV # store value function at each iteration for graphing later \n",
    "    VFdist = (np.absolute(V - TV)).max()  # check distance\n",
    "    V = TV\n",
    "    VFiter += 1 \n",
    "\n",
    "if VFiter < VFmaxiter:\n",
    "    print('Value function converged after this many iterations:', VFiter)\n",
    "else:\n",
    "    print('Value function did not converge')            \n",
    "\n",
    "\n",
    "VF = V # solution to the functional equation\n"
   ]
  },
  {
   "cell_type": "markdown",
   "metadata": {},
   "source": [
    "### Compute reservation wage"
   ]
  },
  {
   "cell_type": "code",
   "execution_count": 29,
   "metadata": {},
   "outputs": [],
   "source": [
    "'''\n",
    "------------------------------------------------------------------------\n",
    "Find reservation wage  \n",
    "------------------------------------------------------------------------\n",
    "'''\n",
    "reservation_wage = w_grid[np.argmax(PF_discrete, axis=0)]"
   ]
  },
  {
   "cell_type": "markdown",
   "metadata": {},
   "source": [
    "### Plot value function"
   ]
  },
  {
   "cell_type": "code",
   "execution_count": 30,
   "metadata": {},
   "outputs": [
    {
     "data": {
      "text/plain": [
       "<matplotlib.figure.Figure at 0x1a14f2b128>"
      ]
     },
     "metadata": {},
     "output_type": "display_data"
    },
    {
     "data": {
      "image/png": "[encoded data removed]",
      "text/plain": [
       "<matplotlib.figure.Figure at 0x1a14f2b0f0>"
      ]
     },
     "metadata": {},
     "output_type": "display_data"
    }
   ],
   "source": [
    "# Plot value function \n",
    "plt.figure()\n",
    "fig, ax = plt.subplots()\n",
    "ax.plot(w_grid[:], VF[:,1])\n",
    "\n",
    "for label in legend.get_texts():\n",
    "    label.set_fontsize('large')\n",
    "for label in legend.get_lines():\n",
    "    label.set_linewidth(1.5)  # the legend line width\n",
    "plt.xlabel('Wage')\n",
    "plt.ylabel('Value Function')\n",
    "plt.title('Value Function')\n",
    "plt.show()"
   ]
  },
  {
   "cell_type": "markdown",
   "metadata": {},
   "source": [
    "### Plot reservation wage and unemployment benefits"
   ]
  },
  {
   "cell_type": "code",
   "execution_count": 31,
   "metadata": {},
   "outputs": [
    {
     "data": {
      "text/plain": [
       "<matplotlib.figure.Figure at 0x1a14d0f518>"
      ]
     },
     "metadata": {},
     "output_type": "display_data"
    },
    {
     "data": {
      "image/png": "[encoded data removed]",
      "text/plain": [
       "<matplotlib.figure.Figure at 0x1a14b92cf8>"
      ]
     },
     "metadata": {},
     "output_type": "display_data"
    }
   ],
   "source": [
    "# Plot reservation wage and unemployement benefits\n",
    "plt.figure()\n",
    "fig, ax = plt.subplots()\n",
    "ax.plot(b[:], reservation_wage[:])\n",
    "for label in legend.get_texts():\n",
    "    label.set_fontsize('large')\n",
    "for label in legend.get_lines():\n",
    "    label.set_linewidth(1.5)  # the legend line width\n",
    "plt.xlabel('Unemployment Benefits')\n",
    "plt.ylabel('Reservation Wage')\n",
    "plt.title('Resevation Wage over Unemployment Benefits')\n",
    "plt.show()"
   ]
  },
  {
   "cell_type": "code",
   "execution_count": null,
   "metadata": {},
   "outputs": [],
   "source": []
  }
 ],
 "metadata": {
  "kernelspec": {
   "display_name": "Python 3",
   "language": "python",
   "name": "python3"
  },
  "language_info": {
   "codemirror_mode": {
    "name": "ipython",
    "version": 3
   },
   "file_extension": ".py",
   "mimetype": "text/x-python",
   "name": "python",
   "nbconvert_exporter": "python",
   "pygments_lexer": "ipython3",
   "version": "3.6.4"
  }
 },
 "nbformat": 4,
 "nbformat_minor": 2
}
