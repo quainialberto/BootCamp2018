{
 "cells": [
  {
   "cell_type": "markdown",
   "metadata": {},
   "source": [
    "# Dynamic Programming Exercises"
   ]
  },
  {
   "cell_type": "markdown",
   "metadata": {},
   "source": [
    "## Exercise 1\n",
    "\n",
    "\n",
    "### 1. State variables:\n",
    "\n",
    "Stock of oil $s_t$ and price $p_t$.\n",
    "\n",
    "### 2. Control variables:\n",
    "\n",
    "Amount of oil to sell $x_t$.\n",
    "\n",
    "### 3. Transition equation:\n",
    "\n",
    "$s_{t+1} = s_t - x_t$.\n",
    "\n",
    "### 4. Problem\n",
    "\n",
    "The sequence problem is:\n",
    "\n",
    "$\\underset{\\{x_t\\}_{t\\in\\mathbb N}}{\\max}\n",
    "\\left\\{\\sum_{t\\in\\mathbb Z} \n",
    "\\left(\\frac{1}{1+r}\\right)^tp_t x_t \\right\\}$\n",
    "\n",
    "subject to: $s_0 = B$, $s_{t+1} = s_t - x_t$ and $x_t \\ge 0$ for all $t$.\n",
    "\n",
    "The Bellman equation is of the form:\n",
    "\n",
    "$V(s) = \\max_x\\left\\{px + \\frac{1}{1+r} V(s - x)\\right\\}$.\n",
    "\n",
    "### 5. The Euler equation\n",
    "\n",
    "$p_t = p_{t+1}\\frac{1}{1+r}$\n",
    "\n",
    "### 6. The solution\n",
    "\n",
    "Since the utility function is linear, the solution is piecewise.\n",
    "\n",
    "If $p_{t+1} = p_t$ for all t, then we sell everything today: $x_0 = B$. This follows from the fact that we get the same absolute payoff from selling a marginal unit in any period, but we discount the future.\n",
    "\n",
    "If $p_{t+1} > (1+r)p_t$, then $x_t = 0$ for all $t$. \n",
    "This is actually a violation of the transversality condition, and so the model is not stationary in this case.\n",
    "\n",
    "A necessary condition for an interior solution is $p_t(1+r) = p_{t+1}$\n"
   ]
  },
  {
   "cell_type": "markdown",
   "metadata": {},
   "source": [
    "## Exercise 2\n",
    "\n",
    "### 1. State variables:\n",
    "\n",
    "Amount of capital $k_t$ and shock to production $z_t$.\n",
    "\n",
    "### 2. Control variables:\n",
    "\n",
    "Consumption $c_t$.\n",
    "\n",
    "### 3. Bellman Equation:\n",
    "\n",
    "$V(z_t, k_t) = \\max_c\\{U(c_{t}) + \\beta\\mathbb EV(z_{t+1}, k_{t+1})\\}$\n",
    "\n",
    "subject to:\n",
    "\n",
    "$k_{t+1} + c_t = z_t k_t^\\alpha + (1-\\delta)k_t$\n",
    "\n"
   ]
  },
  {
   "cell_type": "markdown",
   "metadata": {},
   "source": [
    "#### Import some packages"
   ]
  },
  {
   "cell_type": "code",
   "execution_count": 1,
   "metadata": {},
   "outputs": [],
   "source": [
    "# Imports\n",
    "import numpy as np\n",
    "import matplotlib.pyplot as plt\n",
    "import ar1_approx as ar1\n",
    "\n",
    "# to print plots inline\n",
    "%matplotlib inline"
   ]
  },
  {
   "cell_type": "markdown",
   "metadata": {},
   "source": [
    "### Set Parameters\n",
    "\n",
    "Parameters:\n",
    "* $\\gamma$ : Coefficient of Relative Risk Aversion\n",
    "* $\\beta$ : Discount factor\n",
    "* $\\delta$ : Rate of depreciation\n",
    "* $\\alpha$ : Curvature of production function\n",
    "* $\\sigma_z$ : Standard dev of productivity shocks\n"
   ]
  },
  {
   "cell_type": "code",
   "execution_count": 2,
   "metadata": {},
   "outputs": [],
   "source": [
    "gamma = 0.5\n",
    "beta  = 0.96\n",
    "delta = 0.05\n",
    "alpha = 0.4\n",
    "sigma = 0.2\n",
    "mu    = 0\n",
    "rho   = 0"
   ]
  },
  {
   "cell_type": "markdown",
   "metadata": {},
   "source": [
    "### Create Grid Space"
   ]
  },
  {
   "cell_type": "code",
   "execution_count": 4,
   "metadata": {},
   "outputs": [],
   "source": [
    "'''\n",
    "------------------------------------------------------------------------\n",
    "Create Grid for State Space - Capital    \n",
    "------------------------------------------------------------------------\n",
    "lb_k      = scalar, lower bound of capital grid\n",
    "ub_k      = scalar, upper bound of capital grid \n",
    "size_k    = integer, number of grid points in capital state space\n",
    "k_grid    = vector, size_k x 1 vector of capital grid points \n",
    "------------------------------------------------------------------------\n",
    "'''\n",
    "lb_k   = 5 # Note that the steady state of k is 11.65 so we create grid around that\n",
    "ub_k   = 15 \n",
    "size_k = 50  # Number of grid points for k\n",
    "k_grid = np.linspace(lb_k, ub_k, size_k)\n",
    "\n",
    "'''\n",
    "Create grid of shocks\n",
    "'''\n",
    "size_z = 50\n",
    "ln_z_grid, pi_t = ar1.addacooper(size_z, mu, rho, sigma)\n",
    "z_grid = np.exp(ln_z_grid)\n",
    "pi = np.transpose(pi_t)"
   ]
  },
  {
   "cell_type": "code",
   "execution_count": 5,
   "metadata": {},
   "outputs": [],
   "source": [
    "'''\n",
    "------------------------------------------------------------------------------\n",
    "Create grid of current utility values    \n",
    "------------------------------------------------------------------------------\n",
    "C        = matrix, current consumption (c=z_tk_t^alpha - k_t+1 + (1-delta)k_t)\n",
    "U        = matrix, current period utility value for all possible\n",
    "           choices of w and w' (rows are w, columns w')\n",
    "------------------------------------------------------------------------------\n",
    "'''\n",
    "\n",
    "C = np.zeros((size_k, size_k, size_z)) \n",
    "for i in range(size_k): # loop over k\n",
    "    for j in range(size_k): # loop over k'\n",
    "        for t in range(size_z): # loop over z\n",
    "            C[i, j, t] = z_grid[t]*k_grid[i]**alpha + (1 - delta)*k_grid[i] - k_grid[j] # note that if w'>w, consumption negative\n",
    "# replace 0 and negative consumption with a tiny value \n",
    "# This is a way to impose non-negativity on cons\n",
    "C[C<=0] = 1e-8\n",
    "if gamma == 1:\n",
    "    U = np.log(C)\n",
    "else:\n",
    "    U = (C ** (1 - gamma)) / (1 - gamma)\n",
    "U[C<0] = -9999999"
   ]
  },
  {
   "cell_type": "markdown",
   "metadata": {},
   "source": [
    "### Value function iteration"
   ]
  },
  {
   "cell_type": "code",
   "execution_count": 6,
   "metadata": {},
   "outputs": [
    {
     "name": "stdout",
     "output_type": "stream",
     "text": [
      "Value function converged after this many iterations: 372\n"
     ]
    }
   ],
   "source": [
    "'''\n",
    "------------------------------------------------------------------------\n",
    "Value Function Iteration    \n",
    "------------------------------------------------------------------------\n",
    "VFtol     = scalar, tolerance required for value function to converge\n",
    "VFdist    = scalar, distance between last two value functions\n",
    "VFmaxiter = integer, maximum number of iterations for value function\n",
    "V         = vector, the value functions at each iteration\n",
    "Vmat      = matrix, the value for each possible combination of w and w'\n",
    "Vstore    = matrix, stores V at each iteration \n",
    "VFiter    = integer, current iteration number\n",
    "TV        = vector, the value function after applying the Bellman operator\n",
    "PF        = vector, indicies of choices of w' for all w \n",
    "VF        = vector, the \"true\" value function\n",
    "------------------------------------------------------------------------\n",
    "'''\n",
    "\n",
    "VFtol = 1e-6\n",
    "VFdist = 7.0\n",
    "VFmaxiter = 5000\n",
    "V = np.zeros((size_k, size_z)) # initial guess at value function\n",
    "Vmat = np.zeros((size_k, size_k, size_z))\n",
    "Vstore = np.zeros((size_k, size_k, VFmaxiter)) # initialize Vstore array\n",
    "VFiter = 1\n",
    "while VFdist > VFtol and VFiter < VFmaxiter:\n",
    "    for i in range(size_k): # loop over w\n",
    "        for j in range(size_k): # loop over w'\n",
    "            for k in range(size_z): # loop over z\n",
    "                EV = 0\n",
    "                for ii in range(size_z):\n",
    "                    EV += pi[k, ii]*V[j, ii]\n",
    "                Vmat[i, j, k] = U[i, j, k] + beta * EV\n",
    "    Vstore[:, :, VFiter] = V.reshape(size_k, size_z,) # store value function at each iteration for graphing later\n",
    "    TV = Vmat.max(1)\n",
    "    PF = np.argmax(Vmat, axis=1)\n",
    "    VFdist = (np.absolute(V - TV)).max()  # check distance\n",
    "    V = TV\n",
    "    VFiter += 1\n",
    "\n",
    "if VFiter < VFmaxiter:\n",
    "    print('Value function converged after this many iterations:', VFiter)\n",
    "else:\n",
    "    print('Value function did not converge')\n",
    "\n",
    "\n",
    "VF = V # solution to the functional equation"
   ]
  },
  {
   "cell_type": "markdown",
   "metadata": {},
   "source": [
    "### Plot Value Function"
   ]
  },
  {
   "cell_type": "code",
   "execution_count": 16,
   "metadata": {
    "scrolled": true
   },
   "outputs": [
    {
     "data": {
      "text/plain": [
       "<matplotlib.figure.Figure at 0x1a19f83cc0>"
      ]
     },
     "metadata": {},
     "output_type": "display_data"
    },
    {
     "data": {
      "image/png": "[encoded data removed]",
      "text/plain": [
       "<matplotlib.figure.Figure at 0x1a19f83a90>"
      ]
     },
     "metadata": {},
     "output_type": "display_data"
    }
   ],
   "source": [
    "# Plot value function\n",
    "plt.figure()\n",
    "fig, ax = plt.subplots()\n",
    "ax.plot(k_grid[1:], VF[1:, 0], label='$z$ = ' + str(round(z_grid[0], 3)))\n",
    "ax.plot(k_grid[1:], VF[1:, 15], label='$z$ = ' + str(round(z_grid[15], 3)))\n",
    "ax.plot(k_grid[1:], VF[1:, 30], label='$z$ = ' + str(round(z_grid[30], 3)))\n",
    "ax.plot(k_grid[1:], VF[1:, 45], label='$z$ = ' + str(round(z_grid[45], 3)))\n",
    "# Now add the legend with some customizations.\n",
    "legend = ax.legend(loc='lower right', shadow=False)\n",
    "# Set the fontsize\n",
    "for label in legend.get_texts():\n",
    "    label.set_fontsize('large')\n",
    "for label in legend.get_lines():\n",
    "    label.set_linewidth(1.5)  # the legend line width\n",
    "plt.xlabel('Size of Capital')\n",
    "plt.ylabel('Value Function')\n",
    "plt.title('Value Function - neoclassical growth model')\n",
    "plt.show()\n"
   ]
  },
  {
   "cell_type": "markdown",
   "metadata": {},
   "source": [
    "### Plot optimal consumption rule"
   ]
  },
  {
   "cell_type": "code",
   "execution_count": 21,
   "metadata": {},
   "outputs": [
    {
     "data": {
      "text/plain": [
       "<matplotlib.figure.Figure at 0x10913cf60>"
      ]
     },
     "metadata": {},
     "output_type": "display_data"
    },
    {
     "data": {
      "image/png": "[encoded data removed]",
      "text/plain": [
       "<matplotlib.figure.Figure at 0x1a19a31438>"
      ]
     },
     "metadata": {},
     "output_type": "display_data"
    }
   ],
   "source": [
    "# Plot optimal consumption rule as a function of capital size\n",
    "optK = k_grid[PF]\n",
    "optC = z_grid * k_grid ** (alpha) + (1 - delta) * k_grid - optK\n",
    "plt.figure()\n",
    "fig, ax = plt.subplots()\n",
    "ax.plot(k_grid[:], optC[:][4], label='Consumption')\n",
    "# Now add the legend with some customizations.\n",
    "#legend = ax.legend(loc='upper left', shadow=False)\n",
    "# Set the fontsize\n",
    "for label in legend.get_texts():\n",
    "    label.set_fontsize('large')\n",
    "for label in legend.get_lines():\n",
    "    label.set_linewidth(1.5)  # the legend line width\n",
    "plt.xlabel('Size of Capital')\n",
    "plt.ylabel('Optimal Consumption')\n",
    "plt.title('Optimal consumption as size of capital')\n",
    "plt.show()\n"
   ]
  },
  {
   "cell_type": "code",
   "execution_count": 20,
   "metadata": {},
   "outputs": [
    {
     "data": {
      "text/plain": [
       "<matplotlib.figure.Figure at 0x1a19f47160>"
      ]
     },
     "metadata": {},
     "output_type": "display_data"
    },
    {
     "data": {
      "image/png": "[encoded data removed]",
      "text/plain": [
       "<matplotlib.figure.Figure at 0x1a19f47dd8>"
      ]
     },
     "metadata": {},
     "output_type": "display_data"
    }
   ],
   "source": [
    "# Plot optimal consumption rule as a function of capital next period\n",
    "plt.figure()\n",
    "fig, ax = plt.subplots()\n",
    "ax.plot(k_grid[:], optK[:][17], label='Consumption')\n",
    "# Now add the legend with some customizations.\n",
    "#legend = ax.legend(loc='upper left', shadow=False)\n",
    "# Set the fontsize\n",
    "for label in legend.get_texts():\n",
    "    label.set_fontsize('large')\n",
    "for label in legend.get_lines():\n",
    "    label.set_linewidth(1.5)  # the legend line width\n",
    "plt.xlabel('Size of Capital next period')\n",
    "plt.ylabel('Optimal Consumption')\n",
    "plt.title('Optimal consumption as size of capital next period')\n",
    "plt.show()"
   ]
  },
  {
   "cell_type": "markdown",
   "metadata": {},
   "source": [
    "## Question 3"
   ]
  },
  {
   "cell_type": "markdown",
   "metadata": {},
   "source": [
    "### 1. Bellman equation"
   ]
  },
  {
   "cell_type": "markdown",
   "metadata": {},
   "source": [
    "$$V(z_t, k_t) = Max_c\\{U(C_{t}) + \\beta E_tV(z_{t+1}, k_{t+1})\\}$$\n"
   ]
  },
  {
   "cell_type": "markdown",
   "metadata": {},
   "source": [
    "### Set Parameters\n",
    "\n",
    "Parameters:\n",
    "* $\\gamma$ : Coefficient of Relative Risk Aversion\n",
    "* $\\beta$ : Discount factor\n",
    "* $\\delta$ : Rate of depreciation\n",
    "* $\\alpha$ : Curvature of production function\n",
    "* $\\sigma_z$ : Standard dev of productivity shocks\n"
   ]
  },
  {
   "cell_type": "code",
   "execution_count": 76,
   "metadata": {},
   "outputs": [],
   "source": [
    "gamma = 0.5\n",
    "beta  = 0.96\n",
    "delta = 0.05\n",
    "alpha = 0.4\n",
    "sigma_v = 0.1\n",
    "mu    = 0\n",
    "rho   = 0.8"
   ]
  },
  {
   "cell_type": "code",
   "execution_count": 77,
   "metadata": {},
   "outputs": [],
   "source": [
    "'''\n",
    "------------------------------------------------------------------------\n",
    "Create Grid for State Space - Capital    \n",
    "------------------------------------------------------------------------\n",
    "lb_k      = scalar, lower bound of capital grid\n",
    "ub_k      = scalar, upper bound of capital grid \n",
    "size_k    = integer, number of grid points in capital state space\n",
    "k_grid    = vector, size_k x 1 vector of capital grid points \n",
    "------------------------------------------------------------------------\n",
    "'''\n",
    "lb_k   = 5 #Note that the steady state of k is 11.65 so we create grid around that\n",
    "ub_k   = 15 \n",
    "size_k = 20  # Number of grid points for k\n",
    "size_z = 20\n",
    "k_grid = np.linspace(lb_k, ub_k, size_k)"
   ]
  },
  {
   "cell_type": "code",
   "execution_count": 78,
   "metadata": {},
   "outputs": [],
   "source": [
    "'''\n",
    "Create grid of shocks\n",
    "'''\n",
    "ln_z_grid, pi_t = ar1.addacooper(size_z, mu, rho, sigma_v)\n",
    "z_grid = np.exp(ln_z_grid)\n",
    "pi = np.transpose(pi_t)"
   ]
  },
  {
   "cell_type": "code",
   "execution_count": 79,
   "metadata": {},
   "outputs": [],
   "source": [
    "'''\n",
    "------------------------------------------------------------------------\n",
    "Create grid of current utility values    \n",
    "------------------------------------------------------------------------\n",
    "C        = matrix, current consumption (c=z_tk_t^a - k_t+1 + (1-delta)k_t)\n",
    "U        = matrix, current period utility value for all possible\n",
    "           choices of w and w' (rows are w, columns w')\n",
    "------------------------------------------------------------------------\n",
    "'''\n",
    "\n",
    "C = np.zeros((size_k, size_k, size_z)) \n",
    "for i in range(size_k): # loop over k\n",
    "    for j in range(size_k): # loop over k'\n",
    "        for t in range(size_z): # loop over z\n",
    "            C[i, j, t] = z_grid[t]*k_grid[i]**alpha + (1 - delta)*k_grid[i] - k_grid[j] # note that if w'>w, consumption negative\n",
    "# replace 0 and negative consumption with a tiny value \n",
    "# This is a way to impose non-negativity on cons\n",
    "C[C<=0] = 1e-8\n",
    "if gamma == 0.5:\n",
    "    U = np.log(C)\n",
    "else:\n",
    "    U = (C ** (1 - sigma)) / (1 - sigma)\n",
    "U[C<0] = -9999999"
   ]
  },
  {
   "cell_type": "code",
   "execution_count": 80,
   "metadata": {},
   "outputs": [
    {
     "name": "stdout",
     "output_type": "stream",
     "text": [
      "Value function converged after this many iterations: 324\n"
     ]
    }
   ],
   "source": [
    "'''\n",
    "------------------------------------------------------------------------\n",
    "Value Function Iteration    \n",
    "------------------------------------------------------------------------\n",
    "VFtol     = scalar, tolerance required for value function to converge\n",
    "VFdist    = scalar, distance between last two value functions\n",
    "VFmaxiter = integer, maximum number of iterations for value function\n",
    "V         = vector, the value functions at each iteration\n",
    "Vmat      = matrix, the value for each possible combination of w and w'\n",
    "Vstore    = matrix, stores V at each iteration \n",
    "VFiter    = integer, current iteration number\n",
    "TV        = vector, the value function after applying the Bellman operator\n",
    "PF        = vector, indicies of choices of w' for all w \n",
    "VF        = vector, the \"true\" value function\n",
    "------------------------------------------------------------------------\n",
    "'''\n",
    "\n",
    "VFtol = 1e-6\n",
    "VFdist = 7.0\n",
    "VFmaxiter = 5000\n",
    "V = np.zeros((size_k, size_z)) # initial guess at value function\n",
    "Vmat = np.zeros((size_k, size_k, size_z))\n",
    "Vstore = np.zeros((size_k, size_k, VFmaxiter)) # initialize Vstore array\n",
    "VFiter = 1\n",
    "while VFdist > VFtol and VFiter < VFmaxiter:\n",
    "    for i in range(size_k): # loop over w\n",
    "        for j in range(size_k): # loop over w'\n",
    "            for k in range(size_z): # loop over z\n",
    "                EV = 0\n",
    "                for ii in range(size_z):\n",
    "                    EV += pi[k, ii]*V[max(j - 1, 0), ii]\n",
    "                Vmat[i, j, k] = U[i, j, k] + beta * EV\n",
    "    Vstore[:, :, VFiter] = V.reshape(size_k, size_z,) # store value function at each iteration for graphing later\n",
    "    TV = Vmat.max(1)\n",
    "    PF = np.argmax(Vmat, axis=1)\n",
    "    VFdist = (np.absolute(V - TV)).max()  # check distance\n",
    "    V = TV\n",
    "    VFiter += 1\n",
    "\n",
    "if VFiter < VFmaxiter:\n",
    "    print('Value function converged after this many iterations:', VFiter)\n",
    "else:\n",
    "    print('Value function did not converge')\n",
    "\n",
    "\n",
    "VF = V # solution to the functional equation"
   ]
  },
  {
   "cell_type": "code",
   "execution_count": 81,
   "metadata": {},
   "outputs": [
    {
     "data": {
      "text/plain": [
       "<matplotlib.figure.Figure at 0x1a2f701ac8>"
      ]
     },
     "metadata": {},
     "output_type": "display_data"
    },
    {
     "data": {
      "image/png": "[encoded data removed]",
      "text/plain": [
       "<matplotlib.figure.Figure at 0x1a2f86d1d0>"
      ]
     },
     "metadata": {},
     "output_type": "display_data"
    }
   ],
   "source": [
    "# Plot value function\n",
    "plt.figure()\n",
    "fig, ax = plt.subplots()\n",
    "ax.plot(k_grid[1:], VF[1:, 0], label='$z$ = ' + str(z_grid[0]))\n",
    "ax.plot(k_grid[1:], VF[1:, 5], label='$z$ = ' + str(z_grid[5]))\n",
    "ax.plot(k_grid[1:], VF[1:, 15], label='$z$ = ' + str(z_grid[15]))\n",
    "ax.plot(k_grid[1:], VF[1:, 19], label='$z$ = ' + str(z_grid[19]))\n",
    "# Now add the legend with some customizations.\n",
    "legend = ax.legend(loc='lower right', shadow=False)\n",
    "# Set the fontsize\n",
    "for label in legend.get_texts():\n",
    "    label.set_fontsize('large')\n",
    "for label in legend.get_lines():\n",
    "    label.set_linewidth(1.5)  # the legend line width\n",
    "plt.xlabel('Size of Capital')\n",
    "plt.ylabel('Value Function')\n",
    "plt.title('Value Function - neoclassical growth model')\n",
    "plt.show()\n"
   ]
  },
  {
   "cell_type": "code",
   "execution_count": 87,
   "metadata": {},
   "outputs": [
    {
     "data": {
      "text/plain": [
       "<matplotlib.figure.Figure at 0x1a2f929ac8>"
      ]
     },
     "metadata": {},
     "output_type": "display_data"
    },
    {
     "data": {
      "image/png": "[encoded data removed]",
      "text/plain": [
       "<matplotlib.figure.Figure at 0x1a2f929390>"
      ]
     },
     "metadata": {},
     "output_type": "display_data"
    }
   ],
   "source": [
    "# Plot optimal consumption rule as a function of capital size\n",
    "optK = k_grid[PF]\n",
    "optC = z_grid * k_grid ** (alpha) + (1 - delta) * k_grid - optK\n",
    "plt.figure()\n",
    "fig, ax = plt.subplots()\n",
    "ax.plot(k_grid[:], optC[:][0], label='Consumption')\n",
    "ax.plot(k_grid[:], optC[:][4], label='Consumption')\n",
    "ax.plot(k_grid[:], optC[:][10], label='Consumption')\n",
    "ax.plot(k_grid[:], optC[:][17], label='Consumption')\n",
    "# Now add the legend with some customizations.\n",
    "#legend = ax.legend(loc='upper left', shadow=False)\n",
    "# Set the fontsize\n",
    "for label in legend.get_texts():\n",
    "    label.set_fontsize('large')\n",
    "for label in legend.get_lines():\n",
    "    label.set_linewidth(1.5)  # the legend line width\n",
    "plt.xlabel('Size of Capital')\n",
    "plt.ylabel('Optimal Consumption')\n",
    "plt.title('Optimal consumption as size of capital')\n",
    "plt.show()"
   ]
  },
  {
   "cell_type": "code",
   "execution_count": 88,
   "metadata": {},
   "outputs": [
    {
     "data": {
      "text/plain": [
       "<matplotlib.figure.Figure at 0x1a2f3e9710>"
      ]
     },
     "metadata": {},
     "output_type": "display_data"
    },
    {
     "data": {
      "image/png": "[encoded data removed]",
      "text/plain": [
       "<matplotlib.figure.Figure at 0x1a2f3e9da0>"
      ]
     },
     "metadata": {},
     "output_type": "display_data"
    }
   ],
   "source": [
    "# Plot optimal consumption rule as a function of capital next period\n",
    "plt.figure()\n",
    "fig, ax = plt.subplots()\n",
    "ax.plot(k_grid[:], optK[:][17], label='Consumption')\n",
    "# Now add the legend with some customizations.\n",
    "#legend = ax.legend(loc='upper left', shadow=False)\n",
    "# Set the fontsize\n",
    "for label in legend.get_texts():\n",
    "    label.set_fontsize('large')\n",
    "for label in legend.get_lines():\n",
    "    label.set_linewidth(1.5)  # the legend line width\n",
    "plt.xlabel('Size of Capital')\n",
    "plt.ylabel('Optimal Consumption')\n",
    "plt.title('Optimal consumption as size of capital next period')\n",
    "plt.show()"
   ]
  },
  {
   "cell_type": "markdown",
   "metadata": {},
   "source": [
    "## Question 4"
   ]
  },
  {
   "cell_type": "markdown",
   "metadata": {},
   "source": [
    "### Bellman equation:\n",
    "$V(w_t) = \\max\\left\\{ V^U(w_t), V^J(w_t) \\right\\}$\n",
    "\n",
    "where:\n",
    "$V^U(w)=b+\\beta EV(w')$\n",
    "\n",
    "and\n",
    "$V^J(w)=E_0\\sum_{t=0}^\\infty\\beta^tw=\\frac{w}{1-\\beta}$"
   ]
  },
  {
   "cell_type": "markdown",
   "metadata": {},
   "source": [
    "### Set Parameters\n",
    "\n",
    "Parameters:\n",
    "* $\\gamma$ : Coefficient of Relative Risk Aversion\n",
    "* $\\beta$ : Discount factor\n",
    "* $\\delta$ : Rate of depreciation\n",
    "* $\\alpha$ : Curvature of production function\n",
    "* $\\sigma_z$ : Standard dev of productivity shocks"
   ]
  },
  {
   "cell_type": "code",
   "execution_count": 118,
   "metadata": {},
   "outputs": [],
   "source": [
    "beta  = 0.96\n",
    "b     = np.linspace(0.05,1,0.005)\n",
    "size_b = len(b)\n",
    "mu    = 0\n",
    "sigma = 0.15\n",
    "rho   = 0"
   ]
  },
  {
   "cell_type": "code",
   "execution_count": 119,
   "metadata": {},
   "outputs": [],
   "source": [
    "size_w = 10\n",
    "'''\n",
    "Create grid of wage shocks\n",
    "'''\n",
    "import ar1_approx as ar1\n",
    "ln_w_grid, pi_t = ar1.addacooper(size_w, mu, rho, sigma)\n",
    "w_grid = np.exp(ln_w_grid)\n",
    "pi = np.transpose(pi_t)\n",
    "U = w_grid / (1-beta)"
   ]
  },
  {
   "cell_type": "code",
   "execution_count": 120,
   "metadata": {},
   "outputs": [
    {
     "data": {
      "text/plain": [
       "array([0.76855166, 0.85496446, 0.90339441, 0.94367365, 0.98127786,\n",
       "       1.01907935, 1.05968837, 1.10693622, 1.16963927, 1.30114871])"
      ]
     },
     "execution_count": 120,
     "metadata": {},
     "output_type": "execute_result"
    }
   ],
   "source": [
    "w_grid"
   ]
  },
  {
   "cell_type": "code",
   "execution_count": 121,
   "metadata": {},
   "outputs": [
    {
     "name": "stdout",
     "output_type": "stream",
     "text": [
      "Value function converged after this many iterations: 3\n"
     ]
    }
   ],
   "source": [
    "'''\n",
    "------------------------------------------------------------------------\n",
    "Value Function Iteration    \n",
    "------------------------------------------------------------------------\n",
    "VFtol       = scalar, tolerance required for value function to converge\n",
    "VFdist      = scalar, distance between last two value functions\n",
    "VFmaxiter   = integer, maximum number of iterations for value function\n",
    "V           = matrix, the value functions at each iteration\n",
    "TV          = matrix, the value function after applying the Bellman operator\n",
    "PF_discrete = matrix, matrix of policy function: eat=1, not eat=0 \n",
    "Vstore      = array, stores V at each iteration \n",
    "VFiter      = integer, current iteration number\n",
    "EV          = scalar, expected value function for a given state\n",
    "U_eat       = matrix, utility from eating cake now\n",
    "Vwait       = matrix, value of waiting to eat the cake\n",
    "VF          = vector, the \"true\" value function\n",
    "------------------------------------------------------------------------\n",
    "'''\n",
    "VFtol = 1e-8 \n",
    "VFdist = 7.0 \n",
    "VFmaxiter = 3000 \n",
    "V = np.zeros(size_w, size_b) # initial guess at value function\n",
    "TV = np.zeros(size_w, size_b)\n",
    "PF_discrete = np.zeros(size_w, size_b)\n",
    "Vstore = np.zeros((size_w, size_b, VFmaxiter)) #initialize Vstore array\n",
    "VFiter = 1 \n",
    "while VFdist > VFtol and VFiter < VFmaxiter:\n",
    "    for i in range(size_w): # loop over w\n",
    "        EV = 0\n",
    "        for ii in range(size_w):  # loop over w\n",
    "            EV += pi[i, ii] * V[ii]   # note can move one space because of how we constructed grid\n",
    "        U_job = U[i]\n",
    "        for j in range(size_b):\n",
    "            Vwait = b[j] + beta * EV \n",
    "            TV[i, j] = max(U_job, Vwait)\n",
    "            PF_discrete[i, j] = U_job >= Vwait  \n",
    "            \n",
    "    Vstore[:,:, VFiter] = TV # store value function at each iteration for graphing later \n",
    "    VFdist = (np.absolute(V - TV)).max(0)  # check distance\n",
    "    V = TV\n",
    "    VFiter += 1 \n",
    "\n",
    "if VFiter < VFmaxiter:\n",
    "    print('Value function converged after this many iterations:', VFiter)\n",
    "else:\n",
    "    print('Value function did not converge')            \n",
    "\n",
    "\n",
    "VF = V # solution to the functional equation"
   ]
  },
  {
   "cell_type": "code",
   "execution_count": 122,
   "metadata": {},
   "outputs": [],
   "source": [
    "'''\n",
    "------------------------------------------------------------------------\n",
    "Find threshold policy functions   \n",
    "------------------------------------------------------------------------\n",
    "'''\n",
    "threshold_w = w_grid[np.argmax(PF_discrete, axis=0)]"
   ]
  },
  {
   "cell_type": "code",
   "execution_count": 127,
   "metadata": {},
   "outputs": [
    {
     "data": {
      "text/plain": [
       "<matplotlib.figure.Figure at 0x1a2f2a31d0>"
      ]
     },
     "metadata": {},
     "output_type": "display_data"
    },
    {
     "data": {
      "image/png": "[encoded data removed]",
      "text/plain": [
       "<matplotlib.figure.Figure at 0x1a2f2a3cc0>"
      ]
     },
     "metadata": {},
     "output_type": "display_data"
    }
   ],
   "source": [
    "# Plot value function \n",
    "plt.figure()\n",
    "fig, ax = plt.subplots()\n",
    "ax.plot(w_grid[:], VF[:])\n",
    "# Now add the legend with some customizations.\n",
    "# Set the fontsize\n",
    "for label in legend.get_texts():\n",
    "    label.set_fontsize('large')\n",
    "for label in legend.get_lines():\n",
    "    label.set_linewidth(1.5)  # the legend line width\n",
    "plt.xlabel('wage')\n",
    "plt.ylabel('Value Function')\n",
    "plt.title('Value Function')\n",
    "plt.show()"
   ]
  },
  {
   "cell_type": "code",
   "execution_count": null,
   "metadata": {},
   "outputs": [],
   "source": []
  }
 ],
 "metadata": {
  "kernelspec": {
   "display_name": "Python 3",
   "language": "python",
   "name": "python3"
  },
  "language_info": {
   "codemirror_mode": {
    "name": "ipython",
    "version": 3
   },
   "file_extension": ".py",
   "mimetype": "text/x-python",
   "name": "python",
   "nbconvert_exporter": "python",
   "pygments_lexer": "ipython3",
   "version": "3.6.4"
  }
 },
 "nbformat": 4,
 "nbformat_minor": 2
}
