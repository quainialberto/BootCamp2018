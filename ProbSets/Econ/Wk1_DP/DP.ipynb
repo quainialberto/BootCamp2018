{
 "cells": [
  {
   "cell_type": "markdown",
   "metadata": {},
   "source": [
    "# Dynamic Programming Exercises"
   ]
  },
  {
   "cell_type": "markdown",
   "metadata": {},
   "source": [
    "## Exercise 1\n",
    "\n",
    "\n",
    "### 1. State variables:\n",
    "\n",
    "Stock of oil $s_t$ and price $p_t$.\n",
    "\n",
    "### 2. Control variables:\n",
    "\n",
    "Amount of oil to sell $x_t$.\n",
    "\n",
    "### 3. Transition equation:\n",
    "\n",
    "$s_{t+1} = s_t - x_t$.\n",
    "\n",
    "### 4. Problem\n",
    "\n",
    "The sequence problem is:\n",
    "\n",
    "$\\underset{\\{x_t\\}_{t\\in\\mathbb N}}{\\max}\n",
    "\\left\\{\\sum_{t\\in\\mathbb N} \n",
    "\\left(\\frac{1}{1+r}\\right)^tp_t x_t \\right\\}$\n",
    "\n",
    "subject to: $s_0 = B$, $s_{t+1} = s_t - x_t$ and $x_t \\ge 0$ for all $t$.\n",
    "\n",
    "The Bellman equation is of the form:\n",
    "\n",
    "$V(s) = \\max_x\\left\\{px + \\frac{1}{1+r} V(s - x)\\right\\}$\n",
    "\n",
    "or\n",
    "\n",
    "$V(s) = \\max_x\\left\\{p(s-s') + \\frac{1}{1+r} V(s')\\right\\}$\n",
    "\n",
    "### 5. The Euler equation\n",
    "\n",
    "FOC wrt $s'$: \n",
    "\n",
    "$p = \\frac{1}{1+r}\\frac{dV'(s')}{ds'}$,\n",
    "\n",
    "and\n",
    "\n",
    "$\\frac{dV'(s')}{ds'} = p' - p'\\frac{ds''}{ds'} +\n",
    "\\frac{1}{1+r}\\frac{dV''(s'')}{ds''}\\frac{ds''}{ds'} = p'$.\n",
    "\n",
    "Therefore the Euler equation is:\n",
    "\n",
    "$p = p'\\frac{1}{1+r}$.\n",
    "\n",
    "### 6. The solution\n",
    "\n",
    "Since the utility function is linear, the solution is piecewise.\n",
    "\n",
    "If $p_{t+1} = p_t$ for all t, then we sell everything today: $x_0 = B$. This follows from the fact that we get the same absolute payoff from selling a marginal unit in any period, but we discount the future.\n",
    "\n",
    "If $p_{t+1} > (1+r)p_t$, then $x_t = 0$ for all $t$. \n",
    "This is actually a violation of the transversality condition, and so the model is not stationary in this case.\n",
    "\n",
    "A necessary condition for an interior solution is $p_t(1+r) = p_{t+1}$.\n"
   ]
  },
  {
   "cell_type": "markdown",
   "metadata": {},
   "source": [
    "## Exercise 2\n",
    "\n",
    "### 1. State variables:\n",
    "\n",
    "Amount of capital $k_t$ and shock to production $z_t$.\n",
    "\n",
    "### 2. Control variables:\n",
    "\n",
    "Consumption $c_t$.\n",
    "\n",
    "### 3. Bellman Equation:\n",
    "\n",
    "$V(z, k) = \\max_c\\{U(c) + \\beta\\mathbb EV(z', k')\\}$\n",
    "\n",
    "subject to:\n",
    "\n",
    "$k' + c = z k^\\alpha + (1-\\delta)k$.\n",
    "\n"
   ]
  },
  {
   "cell_type": "markdown",
   "metadata": {},
   "source": [
    "#### Import some packages"
   ]
  },
  {
   "cell_type": "code",
   "execution_count": 2,
   "metadata": {},
   "outputs": [],
   "source": [
    "# Imports\n",
    "import numpy as np\n",
    "import matplotlib.pyplot as plt\n",
    "import ar1_approx as ar1\n",
    "\n",
    "# to print plots inline\n",
    "%matplotlib inline"
   ]
  },
  {
   "cell_type": "markdown",
   "metadata": {},
   "source": [
    "### Set Parameters\n",
    "\n",
    "Parameters:\n",
    "* $\\gamma$ : Coefficient of Relative Risk Aversion\n",
    "* $\\beta$ : Discount factor\n",
    "* $\\delta$ : Rate of depreciation\n",
    "* $\\alpha$ : Curvature of production function\n",
    "* $\\sigma_z$ : Standard dev of productivity shocks\n"
   ]
  },
  {
   "cell_type": "code",
   "execution_count": 3,
   "metadata": {},
   "outputs": [],
   "source": [
    "gamma = 0.5\n",
    "beta = 0.96\n",
    "delta = 0.05\n",
    "alpha = 0.4\n",
    "sigma = 0.2\n",
    "mu    = 0\n",
    "rho   = 0"
   ]
  },
  {
   "cell_type": "markdown",
   "metadata": {},
   "source": [
    "### Create Grid Space"
   ]
  },
  {
   "cell_type": "code",
   "execution_count": 4,
   "metadata": {},
   "outputs": [],
   "source": [
    "'''\n",
    "------------------------------------------------------------------------\n",
    "Create Grid for State Space - Capital    \n",
    "------------------------------------------------------------------------\n",
    "lb_k      = scalar, lower bound of capital grid\n",
    "ub_k      = scalar, upper bound of capital grid \n",
    "size_k    = integer, number of grid points in capital state space\n",
    "k_grid    = vector, size_k x 1 vector of capital grid points \n",
    "------------------------------------------------------------------------\n",
    "'''\n",
    "lb_k   = 10 # Note that the steady state of k is 11.65 so we create grid around that\n",
    "ub_k   = 13 \n",
    "size_k = 30  # Number of grid points for k\n",
    "k_grid = np.linspace(lb_k, ub_k, size_k)\n",
    "\n",
    "'''\n",
    "Create grid of shocks\n",
    "'''\n",
    "size_z = 30\n",
    "ln_z_grid, pi_t = ar1.addacooper(size_z, mu, rho, sigma)\n",
    "z_grid = np.exp(ln_z_grid)\n",
    "pi = np.transpose(pi_t)"
   ]
  },
  {
   "cell_type": "code",
   "execution_count": 5,
   "metadata": {},
   "outputs": [],
   "source": [
    "'''\n",
    "------------------------------------------------------------------------------\n",
    "Create grid of current utility values    \n",
    "------------------------------------------------------------------------------\n",
    "C        = matrix, current consumption (c=z_tk_t^alpha - k_t+1 + (1-delta)k_t)\n",
    "U        = matrix, current period utility value for all possible\n",
    "           choices of w and w' (rows are w, columns w')\n",
    "------------------------------------------------------------------------------\n",
    "'''\n",
    "\n",
    "C = np.zeros((size_k, size_k, size_z)) \n",
    "for i in range(size_k): # loop over k\n",
    "    for j in range(size_k): # loop over k'\n",
    "        for q in range(size_z):\n",
    "            C[i, j, q] = z_grid[q] * k_grid[i] **alpha + (1 - delta)*k_grid[i] - k_grid[j]\n",
    "            # note that if w'>w, consumption negative\n",
    "# replace 0 and negative consumption with a tiny value \n",
    "# This is a way to impose non-negativity on cons\n",
    "\n",
    "#Not sure if it's good\n",
    "C[C<=0] = 1e-15\n",
    "if gamma == 1:\n",
    "    U = np.log(C)\n",
    "else:\n",
    "    U = (C ** (1 - gamma)) / (1 - gamma)\n",
    "U[C<0] = -9999999"
   ]
  },
  {
   "cell_type": "markdown",
   "metadata": {},
   "source": [
    "### Value function iteration"
   ]
  },
  {
   "cell_type": "code",
   "execution_count": 6,
   "metadata": {},
   "outputs": [
    {
     "name": "stdout",
     "output_type": "stream",
     "text": [
      "Value function converged after this many iterations: 367\n"
     ]
    }
   ],
   "source": [
    "'''\n",
    "------------------------------------------------------------------------\n",
    "Value Function Iteration    \n",
    "------------------------------------------------------------------------\n",
    "VFtol     = scalar, tolerance required for value function to converge\n",
    "VFdist    = scalar, distance between last two value functions\n",
    "VFmaxiter = integer, maximum number of iterations for value function\n",
    "V         = vector, the value functions at each iteration\n",
    "Vmat      = matrix, the value for each possible combination of w and w'\n",
    "Vstore    = matrix, stores V at each iteration \n",
    "VFiter    = integer, current iteration number\n",
    "TV        = vector, the value function after applying the Bellman operator\n",
    "PF        = vector, indicies of choices of w' for all w \n",
    "VF        = vector, the \"true\" value function\n",
    "------------------------------------------------------------------------\n",
    "'''\n",
    "\n",
    "VFtol = 1e-6\n",
    "VFdist = 7.0 \n",
    "VFmaxiter = 500 \n",
    "V = np.zeros((size_k, size_z)) # initial guess at value function\n",
    "Vmat = np.zeros((size_k, size_k, size_z))\n",
    "Vstore = np.zeros((size_k, size_k, VFmaxiter)) #initialize Vstore array\n",
    "VFiter = 1 \n",
    "while VFdist > VFtol and VFiter < VFmaxiter:\n",
    "    for i in range(size_k): # loop over epsilon\n",
    "        for j in range(size_k): # loop over w\n",
    "            for k in range(size_z):\n",
    "                EV = 0\n",
    "                for ii in range(size_z):\n",
    "                    EV += pi[k, ii]*V[j, ii]\n",
    "                Vmat[i, j, k] = U[i, j, k] + beta * EV\n",
    "    Vstore[:, :, VFiter] = V.reshape(size_k, size_z,) # store value function at each iteration for graphing later \n",
    "    TV = Vmat.max(1)\n",
    "    PF = np.argmax(Vmat, axis=1)\n",
    "    VFdist = (np.absolute(V - TV)).max()  # check distance\n",
    "    V = TV\n",
    "    VFiter += 1 \n",
    "\n",
    "if VFiter < VFmaxiter:\n",
    "    print('Value function converged after this many iterations:', VFiter)\n",
    "else:\n",
    "    print('Value function did not converge')            \n",
    "\n",
    "\n",
    "VF = V # solution to the functional equation"
   ]
  },
  {
   "cell_type": "markdown",
   "metadata": {},
   "source": [
    "### Plot Value Function"
   ]
  },
  {
   "cell_type": "code",
   "execution_count": null,
   "metadata": {
    "scrolled": true
   },
   "outputs": [],
   "source": [
    "# Plot value function\n",
    "plt.figure()\n",
    "fig, ax = plt.subplots()\n",
    "ax.plot(k_grid[5:], VF[5:, 0], label='$z$ = ' + str(round(z_grid[0], 3)))\n",
    "ax.plot(k_grid[5:], VF[5:, 15], label='$z$ = ' + str(round(z_grid[15], 3)))\n",
    "ax.plot(k_grid[5:], VF[5:, 30], label='$z$ = ' + str(round(z_grid[30], 3)))\n",
    "ax.plot(k_grid[5:], VF[5:, 45], label='$z$ = ' + str(round(z_grid[45], 3)))\n",
    "# Now add the legend with some customizations.\n",
    "legend = ax.legend(loc='lower right', shadow=False)\n",
    "# Set the fontsize\n",
    "for label in legend.get_texts():\n",
    "    label.set_fontsize('large')\n",
    "for label in legend.get_lines():\n",
    "    label.set_linewidth(1.5)  # the legend line width\n",
    "plt.xlabel('Size of Capital')\n",
    "plt.ylabel('Value Function')\n",
    "plt.title('Value Function - neoclassical growth model')\n",
    "plt.show()\n"
   ]
  },
  {
   "cell_type": "markdown",
   "metadata": {},
   "source": [
    "### Plot optimal consumption rule"
   ]
  },
  {
   "cell_type": "code",
   "execution_count": null,
   "metadata": {},
   "outputs": [],
   "source": [
    "# Plot optimal consumption rule as a function of capital size\n",
    "optK = k_grid[PF]\n",
    "optC = z_grid * k_grid ** (alpha) + (1 - delta) * k_grid - optK\n",
    "plt.figure()\n",
    "fig, ax = plt.subplots()\n",
    "ax.plot(k_grid[:], optC[:][20], label='Consumption')\n",
    "# Now add the legend with some customizations.\n",
    "#legend = ax.legend(loc='upper left', shadow=False)\n",
    "# Set the fontsize\n",
    "for label in legend.get_texts():\n",
    "    label.set_fontsize('large')\n",
    "for label in legend.get_lines():\n",
    "    label.set_linewidth(1.5)  # the legend line width\n",
    "plt.xlabel('Size of Capital')\n",
    "plt.ylabel('Optimal Consumption')\n",
    "plt.title('Optimal consumption as size of capital')\n",
    "plt.show()\n"
   ]
  },
  {
   "cell_type": "code",
   "execution_count": null,
   "metadata": {},
   "outputs": [],
   "source": [
    "# Plot policy function rule as a function of capital next period\n",
    "plt.figure()\n",
    "fig, ax = plt.subplots()\n",
    "ax.plot(optK[1:][15], optC[1:][15], label='Capital in period t+1')\n",
    "# Now add the legend with some customizations.\n",
    "#legend = ax.legend(loc='upper left', shadow=False)\n",
    "# Set the fontsize\n",
    "for label in legend.get_texts():\n",
    "    label.set_fontsize('large')\n",
    "for label in legend.get_lines():\n",
    "    label.set_linewidth(1.5)  # the legend line width\n",
    "plt.xlabel('Size of Capital in next period')\n",
    "plt.ylabel('Optimal policy')\n",
    "plt.title('Policy Function, capital next period - growth model')\n",
    "plt.show()"
   ]
  },
  {
   "cell_type": "code",
   "execution_count": null,
   "metadata": {},
   "outputs": [],
   "source": [
    "k_grid[:]"
   ]
  },
  {
   "cell_type": "code",
   "execution_count": null,
   "metadata": {},
   "outputs": [],
   "source": [
    "optK[1:][11]"
   ]
  },
  {
   "cell_type": "code",
   "execution_count": null,
   "metadata": {},
   "outputs": [],
   "source": [
    "# Plot policy function rule as a function of capital next period\n",
    "plt.figure()\n",
    "fig, ax = plt.subplots()\n",
    "ax.plot(k_grid[:], optK[1:][15], label='Capital in period t+1')\n",
    "# Now add the legend with some customizations.\n",
    "#legend = ax.legend(loc='upper left', shadow=False)\n",
    "# Set the fontsize\n",
    "for label in legend.get_texts():\n",
    "    label.set_fontsize('large')\n",
    "for label in legend.get_lines():\n",
    "    label.set_linewidth(1.5)  # the legend line width\n",
    "plt.xlabel('Size of Capital in next period')\n",
    "plt.ylabel('Optimal policy')\n",
    "plt.title('Policy Function, capital next period - growth model')\n",
    "plt.show()"
   ]
  },
  {
   "cell_type": "markdown",
   "metadata": {},
   "source": [
    "## Question 3"
   ]
  },
  {
   "cell_type": "markdown",
   "metadata": {},
   "source": [
    "### 1. Bellman equation"
   ]
  },
  {
   "cell_type": "markdown",
   "metadata": {},
   "source": [
    "$V(z, k) = \\max_c\\left\\{\n",
    "U(c) + \\beta\\mathbb E\\left[V(z', k)\\ |\\ z\\right]\n",
    "\\right\\}$\n"
   ]
  },
  {
   "cell_type": "markdown",
   "metadata": {},
   "source": [
    "### Set Parameters\n",
    "\n",
    "Parameters:\n",
    "* $\\gamma$ : Coefficient of Relative Risk Aversion\n",
    "* $\\beta$ : Discount factor\n",
    "* $\\delta$ : Rate of depreciation\n",
    "* $\\alpha$ : Curvature of production function\n",
    "* $\\mu_z$ : Mean of productivity shock\n",
    "* $\\rho_z$ : AR1 coefficient of productivity shock\n",
    "* $\\sigma_v$ : Standard deviation of v\n"
   ]
  },
  {
   "cell_type": "code",
   "execution_count": null,
   "metadata": {},
   "outputs": [],
   "source": [
    "#Parameters\n",
    "gamma = 0.5\n",
    "beta = 0.96\n",
    "delta = 0.05\n",
    "alpha = 0.4\n",
    "sigmaz = 0.2\n",
    "mu_z = 0\n",
    "rho_z = 0.8\n",
    "sigma_v = 0.1"
   ]
  },
  {
   "cell_type": "code",
   "execution_count": null,
   "metadata": {},
   "outputs": [],
   "source": [
    "'''\n",
    "------------------------------------------------------------------------\n",
    "Create Grid for State Space - Shock   \n",
    "------------------------------------------------------------------------\n",
    "lb_z      = scalar, lower bound of shock grid\n",
    "ub_z      = scalar, upper bound of shock grid \n",
    "size_z    = integer, number of grid points in shock state space\n",
    "z_grid    = vector, size_z x 1 vector of shock grid points \n",
    "------------------------------------------------------------------------\n",
    "'''\n",
    "\n",
    "'''\n",
    "Create grid of taste shocks\n",
    "'''\n",
    "size_z = 30  # Number of grid points\n",
    "import ar1_approx as ar1\n",
    "ln_z_grid, pi = ar1.addacooper(size_z, mu_z, rho_z, sigma_v)\n",
    "z_grid = np.exp(ln_z_grid)\n",
    "pi_z = np.transpose(pi)\n"
   ]
  },
  {
   "cell_type": "code",
   "execution_count": null,
   "metadata": {},
   "outputs": [],
   "source": [
    "'''\n",
    "------------------------------------------------------------------------\n",
    "Create grid of current utility values    \n",
    "------------------------------------------------------------------------\n",
    "C        = matrix, current consumption \n",
    "U        = matrix, current period utility value \n",
    "------------------------------------------------------------------------\n",
    "'''\n",
    "\n",
    "C = np.zeros((size_k, size_k, size_z)) \n",
    "for i in range(size_k): # loop over w\n",
    "    for j in range(size_k): # loop over w'\n",
    "        for q in range(size_z):\n",
    "            C[i, j, q] = z_grid[q] * k_grid[i] **alpha + (1 - delta)*k_grid[i] - k_grid[j]\n",
    "            # note that if w'>w, consumption negative\n",
    "# replace 0 and negative consumption with a tiny value \n",
    "# This is a way to impose non-negativity on cons\n",
    "\n",
    "#Not sure if it's good\n",
    "C[C<=0] = 1e-15\n",
    "if gamma == 1:\n",
    "    U = np.log(C)\n",
    "else:\n",
    "    U = (C ** (1 - gamma)) / (1 - gamma)\n",
    "U[C<0] = -9999999"
   ]
  },
  {
   "cell_type": "code",
   "execution_count": null,
   "metadata": {},
   "outputs": [],
   "source": [
    "'''\n",
    "------------------------------------------------------------------------\n",
    "Value Function Iteration    \n",
    "------------------------------------------------------------------------\n",
    "VFtol       = scalar, tolerance required for value function to converge\n",
    "VFdist      = scalar, distance between last two value functions\n",
    "VFmaxiter   = integer, maximum number of iterations for value function\n",
    "V           = matrix, the value functions at each iteration\n",
    "TV          = matrix, the value function after applying the Bellman operator\n",
    "PF_discrete = matrix, matrix of policy function: eat=1, not eat=0 \n",
    "Vstore      = array, stores V at each iteration \n",
    "VFiter      = integer, current iteration number\n",
    "EV          = scalar, expected value function for a given state\n",
    "VF          = vector, the \"true\" value function\n",
    "------------------------------------------------------------------------\n",
    "'''\n",
    "VFtol = 1e-6\n",
    "VFdist = 7.0 \n",
    "VFmaxiter = 500 \n",
    "V = np.zeros((size_k, size_z)) # initial guess at value function\n",
    "Vmat = np.zeros((size_k, size_k, size_z))\n",
    "Vstore = np.zeros((size_k, size_k, VFmaxiter)) #initialize Vstore array\n",
    "VFiter = 1 \n",
    "while VFdist > VFtol and VFiter < VFmaxiter:\n",
    "    for i in range(size_k): # loop over k\n",
    "        for j in range(size_k): # loop over k\n",
    "            for k in range(size_z):\n",
    "                EV = 0\n",
    "                for ii in range(size_z):\n",
    "                    EV += pi_z[k, ii]*V[j, ii]\n",
    "                Vmat[i, j, k] = U[i, j, k] + beta * EV\n",
    "    Vstore[:, :, VFiter] = V.reshape(size_k, size_z,) # store value function at each iteration for graphing later \n",
    "    TV = Vmat.max(1)\n",
    "    PF = np.argmax(Vmat, axis=1)\n",
    "    VFdist = (np.absolute(V - TV)).max()  # check distance\n",
    "    V = TV\n",
    "    VFiter += 1 \n",
    "\n",
    "if VFiter < VFmaxiter:\n",
    "    print('Value function converged after this many iterations:', VFiter)\n",
    "else:\n",
    "    print('Value function did not converge')            \n"
   ]
  },
  {
   "cell_type": "code",
   "execution_count": null,
   "metadata": {},
   "outputs": [],
   "source": [
    "# Plot value function \n",
    "plt.figure()\n",
    "fig, ax = plt.subplots()\n",
    "ax.plot(k_grid[1:], VF[1:, 0], label='$z$ = ' + str(round(z_grid[0], 3)))\n",
    "ax.plot(k_grid[1:], VF[1:, 5], label='$z$ = ' + str(round(z_grid[5], 3)))\n",
    "ax.plot(k_grid[1:], VF[1:, 15], label='$z$ = ' + str(round(z_grid[15], 3)))\n",
    "ax.plot(k_grid[1:], VF[1:, 19], label='$z$ = ' + str(round(z_grid[19], 3)))\n",
    "# Now add the legend with some customizations.\n",
    "legend = ax.legend(loc='lower right', shadow=False)\n",
    "# Set the fontsize\n",
    "for label in legend.get_texts():\n",
    "    label.set_fontsize('large')\n",
    "for label in legend.get_lines():\n",
    "    label.set_linewidth(1.5)  # the legend line width\n",
    "plt.xlabel('Size of Capital')\n",
    "plt.ylabel('Value Function')\n",
    "plt.title('Value Function ')\n",
    "plt.show()"
   ]
  },
  {
   "cell_type": "code",
   "execution_count": null,
   "metadata": {},
   "outputs": [],
   "source": [
    "#Plot optimal consumption rule\n",
    "optK = k_grid[PF]\n",
    "optC = z_grid * k_grid ** (alpha) + (1 - delta) * k_grid - optK\n",
    "plt.figure()\n",
    "fig, ax = plt.subplots()\n",
    "ax.plot(k_grid[:], optC[:][2], label='Consumption' + str(z_grid[2]))\n",
    "ax.plot(k_grid[:], optC[:][5], label='Consumption' + str(z_grid[5]))\n",
    "ax.plot(k_grid[:], optC[:][17], label='Consumption' + str(z_grid[17]))\n",
    "ax.plot(k_grid[:], optC[:][27], label='Consumption' + str(z_grid[27]))\n",
    "# Now add the legend with some customizations.\n",
    "#legend = ax.legend(loc='upper left', shadow=False)\n",
    "# Set the fontsize\n",
    "for label in legend.get_texts():\n",
    "    label.set_fontsize('large')\n",
    "for label in legend.get_lines():\n",
    "    label.set_linewidth(1.5)  # the legend line width\n",
    "plt.xlabel('Size of Capital')\n",
    "plt.ylabel('Optimal Consumption')\n",
    "plt.title('Capital, consumption')\n",
    "plt.show()"
   ]
  },
  {
   "cell_type": "code",
   "execution_count": null,
   "metadata": {},
   "outputs": [],
   "source": [
    "#Plot optimal capital next period\n",
    "optK = k_grid[PF]\n",
    "plt.figure()\n",
    "fig, ax = plt.subplots()\n",
    "ax.plot(k_grid[:], optK[:][2], label='Consumption' + str(z_grid[2]))\n",
    "ax.plot(k_grid[:], optK[:][5], label='Consumption' + str(z_grid[5]))\n",
    "ax.plot(k_grid[:], optK[:][17], label='Consumption' + str(z_grid[17]))\n",
    "ax.plot(k_grid[:], optK[:][27], label='Consumption' + str(z_grid[27]))\n",
    "# Now add the legend with some customizations.\n",
    "#legend = ax.legend(loc='upper left', shadow=False)\n",
    "# Set the fontsize\n",
    "for label in legend.get_texts():\n",
    "    label.set_fontsize('large')\n",
    "for label in legend.get_lines():\n",
    "    label.set_linewidth(1.5)  # the legend line width\n",
    "plt.xlabel('Size of Capital')\n",
    "plt.ylabel('Optimal Capital next period')\n",
    "plt.title('consumption, consumption next period')\n",
    "plt.show()"
   ]
  },
  {
   "cell_type": "markdown",
   "metadata": {},
   "source": [
    "## Question 4"
   ]
  },
  {
   "cell_type": "markdown",
   "metadata": {},
   "source": [
    "### Bellman equation:\n",
    "$V(w_t) = \\max\\left\\{ V^U(w_t), V^J(w_t) \\right\\}$\n",
    "\n",
    "where:\n",
    "$V^U(w)=b+\\beta EV(w')$\n",
    "\n",
    "and\n",
    "$V^J(w)=E_0\\sum_{t=0}^\\infty\\beta^tw=\\frac{w}{1-\\beta}$"
   ]
  },
  {
   "cell_type": "markdown",
   "metadata": {},
   "source": [
    "### Set Parameters\n",
    "\n",
    "Parameters:\n",
    "* $\\gamma$ : Coefficient of Relative Risk Aversion\n",
    "* $\\beta$ : Discount factor\n",
    "* $\\delta$ : Rate of depreciation\n",
    "* $\\alpha$ : Curvature of production function\n",
    "* $\\sigma_z$ : Standard dev of productivity shocks"
   ]
  },
  {
   "cell_type": "code",
   "execution_count": null,
   "metadata": {},
   "outputs": [],
   "source": [
    "beta  = 0.96\n",
    "b     = np.linspace(0.05,1,0.005)\n",
    "size_b = len(b)\n",
    "mu    = 0\n",
    "sigma = 0.15\n",
    "rho   = 0"
   ]
  },
  {
   "cell_type": "code",
   "execution_count": null,
   "metadata": {},
   "outputs": [],
   "source": [
    "size_w = 10\n",
    "'''\n",
    "Create grid of wage shocks\n",
    "'''\n",
    "import ar1_approx as ar1\n",
    "ln_w_grid, pi_t = ar1.addacooper(size_w, mu, rho, sigma)\n",
    "w_grid = np.exp(ln_w_grid)\n",
    "pi = np.transpose(pi_t)\n",
    "U = w_grid / (1-beta)"
   ]
  },
  {
   "cell_type": "code",
   "execution_count": null,
   "metadata": {},
   "outputs": [],
   "source": [
    "w_grid"
   ]
  },
  {
   "cell_type": "code",
   "execution_count": null,
   "metadata": {},
   "outputs": [],
   "source": [
    "'''\n",
    "------------------------------------------------------------------------\n",
    "Value Function Iteration    \n",
    "------------------------------------------------------------------------\n",
    "VFtol       = scalar, tolerance required for value function to converge\n",
    "VFdist      = scalar, distance between last two value functions\n",
    "VFmaxiter   = integer, maximum number of iterations for value function\n",
    "V           = matrix, the value functions at each iteration\n",
    "TV          = matrix, the value function after applying the Bellman operator\n",
    "PF_discrete = matrix, matrix of policy function: eat=1, not eat=0 \n",
    "Vstore      = array, stores V at each iteration \n",
    "VFiter      = integer, current iteration number\n",
    "EV          = scalar, expected value function for a given state\n",
    "U_eat       = matrix, utility from eating cake now\n",
    "Vwait       = matrix, value of waiting to eat the cake\n",
    "VF          = vector, the \"true\" value function\n",
    "------------------------------------------------------------------------\n",
    "'''\n",
    "VFtol = 1e-8 \n",
    "VFdist = 7.0 \n",
    "VFmaxiter = 3000 \n",
    "V = np.zeros(size_w, size_b) # initial guess at value function\n",
    "TV = np.zeros(size_w, size_b)\n",
    "PF_discrete = np.zeros(size_w, size_b)\n",
    "Vstore = np.zeros((size_w, size_b, VFmaxiter)) #initialize Vstore array\n",
    "VFiter = 1 \n",
    "while VFdist > VFtol and VFiter < VFmaxiter:\n",
    "    for i in range(size_w): # loop over w\n",
    "        EV = 0\n",
    "        for ii in range(size_w):  # loop over w\n",
    "            EV += pi[i, ii] * V[ii]   # note can move one space because of how we constructed grid\n",
    "        U_job = U[i]\n",
    "        for j in range(size_b):\n",
    "            Vwait = b[j] + beta * EV \n",
    "            TV[i, j] = max(U_job, Vwait)\n",
    "            PF_discrete[i, j] = U_job >= Vwait  \n",
    "            \n",
    "    Vstore[:,:, VFiter] = TV # store value function at each iteration for graphing later \n",
    "    VFdist = (np.absolute(V - TV)).max(0)  # check distance\n",
    "    V = TV\n",
    "    VFiter += 1 \n",
    "\n",
    "if VFiter < VFmaxiter:\n",
    "    print('Value function converged after this many iterations:', VFiter)\n",
    "else:\n",
    "    print('Value function did not converge')            \n",
    "\n",
    "\n",
    "VF = V # solution to the functional equation"
   ]
  },
  {
   "cell_type": "code",
   "execution_count": null,
   "metadata": {},
   "outputs": [],
   "source": [
    "'''\n",
    "------------------------------------------------------------------------\n",
    "Find threshold policy functions   \n",
    "------------------------------------------------------------------------\n",
    "'''\n",
    "threshold_w = w_grid[np.argmax(PF_discrete, axis=0)]"
   ]
  },
  {
   "cell_type": "code",
   "execution_count": null,
   "metadata": {},
   "outputs": [],
   "source": [
    "# Plot value function \n",
    "plt.figure()\n",
    "fig, ax = plt.subplots()\n",
    "ax.plot(w_grid[:], VF[:])\n",
    "# Now add the legend with some customizations.\n",
    "# Set the fontsize\n",
    "for label in legend.get_texts():\n",
    "    label.set_fontsize('large')\n",
    "for label in legend.get_lines():\n",
    "    label.set_linewidth(1.5)  # the legend line width\n",
    "plt.xlabel('wage')\n",
    "plt.ylabel('Value Function')\n",
    "plt.title('Value Function')\n",
    "plt.show()"
   ]
  },
  {
   "cell_type": "code",
   "execution_count": null,
   "metadata": {},
   "outputs": [],
   "source": []
  }
 ],
 "metadata": {
  "kernelspec": {
   "display_name": "Python 3",
   "language": "python",
   "name": "python3"
  },
  "language_info": {
   "codemirror_mode": {
    "name": "ipython",
    "version": 3
   },
   "file_extension": ".py",
   "mimetype": "text/x-python",
   "name": "python",
   "nbconvert_exporter": "python",
   "pygments_lexer": "ipython3",
   "version": "3.6.4"
  }
 },
 "nbformat": 4,
 "nbformat_minor": 2
}
