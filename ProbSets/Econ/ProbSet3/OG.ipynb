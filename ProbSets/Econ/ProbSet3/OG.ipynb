{
 "cells": [
  {
   "cell_type": "markdown",
   "metadata": {},
   "source": [
    "# Econ: Overlapping Generations | Problemset"
   ]
  },
  {
   "cell_type": "markdown",
   "metadata": {},
   "source": [
    "Alberto Quaini"
   ]
  },
  {
   "cell_type": "markdown",
   "metadata": {},
   "source": [
    "### Import libraries"
   ]
  },
  {
   "cell_type": "code",
   "execution_count": 203,
   "metadata": {},
   "outputs": [],
   "source": [
    "import numpy as np\n",
    "import time\n",
    "import scipy.optimize as opt\n",
    "import matplotlib.pyplot as plt"
   ]
  },
  {
   "cell_type": "markdown",
   "metadata": {},
   "source": [
    "### Parameters"
   ]
  },
  {
   "cell_type": "code",
   "execution_count": 8,
   "metadata": {},
   "outputs": [],
   "source": [
    "beta = 0.96**20               # 20-year discount factor\n",
    "delta = 1 - (1 - 0.05)**20    # 20-year capital depreciation rate\n",
    "sigma = 3                     # risk-aversion parameter\n",
    "A = 1                         # productivity scale parameter\n",
    "alpha = 0.35                  # capital share of income"
   ]
  },
  {
   "cell_type": "markdown",
   "metadata": {},
   "source": [
    "## Exercise 2.1"
   ]
  },
  {
   "cell_type": "markdown",
   "metadata": {},
   "source": [
    "Define 'feasible' function"
   ]
  },
  {
   "cell_type": "code",
   "execution_count": 63,
   "metadata": {},
   "outputs": [],
   "source": [
    "def feasible(f_params, bvec_guess):\n",
    "    \"\"\"\n",
    "    -------\n",
    "    inputs: \n",
    "    -------\n",
    "    f_params, tuple = (nvec, A, alpha, delta).\n",
    "        nvec, array(3,1): labour supply of various generations.\n",
    "        A, scalar: productivity scale parameter.\n",
    "        alpha, scalar: capital share of income.\n",
    "        delta, scalar: 20-year capital depreciation rate.\n",
    "    bvec_guess, array(2,1): guess of steady-state savings vector.\n",
    "    --------\n",
    "    returns:\n",
    "    --------\n",
    "    b_cnstr, boolean(2,1): ith entry True if ith bvec_guess \n",
    "                           is responsible for any nonnegativity\n",
    "                           constraint violation in c_cnstr.\n",
    "    c_cnstr, boolean(3,1): True if c_s <= 0, s=1,2,3.\n",
    "    K_cnstr, boolean(1,1): True if K <= 0.\n",
    "    \"\"\"\n",
    "    \n",
    "    K_cnstr = bvec_guess.sum() <= 0\n",
    "    b_cnstr = np.array([False, False])\n",
    "    c_cnstr = np.array([False, False, False])\n",
    "    c = np.zeros((3, 1))\n",
    "    \n",
    "    K = bvec_guess.sum()\n",
    "    L = f_param[0].sum()\n",
    "    r = f_param[2] * f_param[1] * (L / K)**(1 - f_param[2]) - f_param[3]\n",
    "    w = (1 - f_param[2]) * f_param[1] * (K / L)**f_param[2]\n",
    "    c[0] = w * f_param[0][0] - bvec_guess[0]\n",
    "    c[1] = w * f_param[0][1] + (1 + r) * bvec_guess[1]\n",
    "    c[2] = w * f_param[0][2] + (1 + r) * bvec_guess[1]\n",
    "    \n",
    "    c_cnstr = c <= 0\n",
    "    if c_cnstr[0]:\n",
    "        b_cnstr[0] = True\n",
    "    if c_cnstr[1]:\n",
    "        b_cnstr[0] = True\n",
    "        b_cnstr[1] = True\n",
    "    if c_cnstr[2]:\n",
    "        b_cnstr[1] = True\n",
    "    \n",
    "    return b_cnstr, c_cnstr, K_cnstr"
   ]
  },
  {
   "cell_type": "code",
   "execution_count": 64,
   "metadata": {},
   "outputs": [
    {
     "name": "stdout",
     "output_type": "stream",
     "text": [
      "(array([ True, False]), array([[ True],\n",
      "       [False],\n",
      "       [False]]), False)\n",
      "(array([False, False]), array([[False],\n",
      "       [False],\n",
      "       [False]]), False)\n",
      "(array([False, False]), array([[False],\n",
      "       [False],\n",
      "       [False]]), False)\n"
     ]
    }
   ],
   "source": [
    "nvec = np.array([1, 1, 0.2])\n",
    "f_param = (nvec, A, alpha, delta)\n",
    "bvec_guess = np.array([1, 1.2])\n",
    "\n",
    "print(feasible(f_params, bvec_guess))\n",
    "bvec_guess = np.array([0.06, -0.001])\n",
    "print(feasible(f_params, bvec_guess))\n",
    "bvec_guess = np.array([0.1, 0.1])\n",
    "print(feasible(f_params, bvec_guess))\n"
   ]
  },
  {
   "cell_type": "markdown",
   "metadata": {},
   "source": [
    "## Exercise 2.2"
   ]
  },
  {
   "cell_type": "code",
   "execution_count": 127,
   "metadata": {},
   "outputs": [],
   "source": [
    "def u_prime(c, params):\n",
    "    \"\"\" Compute the derivative of utility function\n",
    "    \"\"\"\n",
    "    \n",
    "    if c >= 1e-6:\n",
    "        return c**(-params[1])\n",
    "    else:\n",
    "        return 1e6**3"
   ]
  },
  {
   "cell_type": "code",
   "execution_count": 128,
   "metadata": {},
   "outputs": [],
   "source": [
    "def get_r(b_ss, params):\n",
    "    \"\"\" Compute the steady-state interest rate\n",
    "    \"\"\"\n",
    "    \n",
    "    arg = params[2].sum() / b_ss.sum()\n",
    "    return params[5] * params[4] * arg**(1 - params[5]) - params[6]"
   ]
  },
  {
   "cell_type": "code",
   "execution_count": 129,
   "metadata": {},
   "outputs": [],
   "source": [
    "def get_w(b_ss, params):\n",
    "    \"\"\" Comute the steady-state wage \n",
    "    \"\"\"\n",
    "    \n",
    "    arg = b_ss.sum() / params[2].sum()\n",
    "    return (1 - params[5]) * params[4] * arg**params[5]"
   ]
  },
  {
   "cell_type": "code",
   "execution_count": 166,
   "metadata": {},
   "outputs": [],
   "source": [
    "def get_EulErr(b_ss, params):\n",
    "    \"\"\" Compute the steady-state Euler equations errors\n",
    "    \"\"\"\n",
    "    \n",
    "    r_ss = get_r(b_ss, params)\n",
    "    w_ss = get_w(b_ss, params)\n",
    "    \n",
    "    c1_ss = params[2][0] * w_ss - b_ss[0]\n",
    "    c2_ss = params[2][1] * w_ss + (1 + r_ss) * b_ss[0] - b_ss[1]\n",
    "    c3_ss = params[2][2] * w_ss + (1 + r_ss) * b_ss[1]\n",
    "    \n",
    "    eulerr1_ss = u_prime(c1_ss, params) - params[0] * (1 + r_ss) * u_prime(c2_ss, params)\n",
    "    eulerr2_ss = u_prime(c2_ss, params) - params[0] * (1 + r_ss) * u_prime(c3_ss, params)\n",
    "    \n",
    "    return np.array([eulerr1_ss, eulerr2_ss])\n",
    "    "
   ]
  },
  {
   "cell_type": "code",
   "execution_count": 219,
   "metadata": {},
   "outputs": [],
   "source": [
    "def plot_c_ss(c_ss):\n",
    "    x = np.arange(3)\n",
    "    plt.bar(x, c_ss)\n",
    "    plt.xticks(x, ('C 1', 'C 2', 'C 3'))\n",
    "    plt.title('Steady-state consumption')\n",
    "    plt.show()"
   ]
  },
  {
   "cell_type": "code",
   "execution_count": 220,
   "metadata": {},
   "outputs": [],
   "source": [
    "def plot_b_ss(b_ss):\n",
    "    x = np.arange(2)\n",
    "    plt.bar(x, b_ss)\n",
    "    plt.xticks(x, ('b 2', 'b 3'))\n",
    "    plt.title('Steady-state savings')\n",
    "    plt.show()"
   ]
  },
  {
   "cell_type": "code",
   "execution_count": 221,
   "metadata": {},
   "outputs": [],
   "source": [
    "def get_ss(params, bvec_guess, ss_graphs = False):\n",
    "    \"\"\"\n",
    "    ------\n",
    "    inputs\n",
    "    ------\n",
    "    params, tuple: ((beta, sigma, nvec, L, A, alpha, delta, SS tol)).\n",
    "    bvec_guess, array(2,1): guess of steady-state savings vector.\n",
    "    ss_graphs, boolean: generates a figure of the steady-state \n",
    "                        distribution of consump- tion and savings \n",
    "                        if it is set to True.\n",
    "    --------\n",
    "    outputs:\n",
    "    --------\n",
    "    ss_output, dict: dictionary with the steady-state solution values \n",
    "                     for the following endogenous objects.\n",
    "    \"\"\"\n",
    "    start_time = time.clock()\n",
    "    \n",
    "    result = opt.root(get_EulErr, bvec_guess, args = params, tol = params[7])\n",
    "    b_ss = np.round(result.x, 5)\n",
    "    r_ss = np.round(get_r(b_ss, params), 5)\n",
    "    w_ss = np.round(get_w(b_ss, params), 5)\n",
    "    \n",
    "    c1_ss = np.round(params[2][0] * w_ss - b_ss[0], 5)\n",
    "    c2_ss = np.round(params[2][1] * w_ss + (1 + r_ss) * b_ss[0] - b_ss[1], 5)\n",
    "    c3_ss = np.round(params[2][2] * w_ss + (1 + r_ss) * b_ss[1], 5)\n",
    "    \n",
    "    c_ss = np.round(np.array([c1_ss, c2_ss, c3_ss]), 5)\n",
    "    K_ss = np.round(b_ss.sum(), 5)\n",
    "    L_ss = np.round(params[2].sum(), 5)\n",
    "    Y_ss = np.round(params[4] * K_ss**params[5] * L_ss**(1 - params[5]), 5)\n",
    "    C_ss = np.round(Y_ss - params[6] * K_ss, 5)\n",
    "    EulErr_ss = result.fun\n",
    "    RCerr_ss = Y_ss - C_ss - params[6] * K_ss\n",
    "    \n",
    "    ss_time = np.round(time.clock() - start_time, 5)\n",
    "    \n",
    "    if ss_graphs:\n",
    "        plot_c_ss(c_ss)\n",
    "        plot_b_ss(b_ss)\n",
    "    \n",
    "    ss_output = {\n",
    "        'b_ss': b_ss, 'c_ss': c_ss, 'w_ss': w_ss, 'r_ss': r_ss,\n",
    "        'K_ss': K_ss, 'Y_ss': Y_ss, 'C_ss': C_ss,\n",
    "        'EulErr_ss': EulErr_ss, 'RCerr_ss': RCerr_ss,\n",
    "        'ss_time': ss_time}\n",
    "    \n",
    "    return ss_output\n"
   ]
  },
  {
   "cell_type": "code",
   "execution_count": 222,
   "metadata": {},
   "outputs": [],
   "source": [
    "bvec_guess = np.array([.1, .1])\n",
    "ss_tol = 1e-6\n",
    "L = nvec.sum()\n",
    "params = [beta, sigma, nvec, L, A, alpha, delta, ss_tol]"
   ]
  },
  {
   "cell_type": "code",
   "execution_count": 223,
   "metadata": {},
   "outputs": [
    {
     "data": {
      "image/png": "[encoded data removed]",
      "text/plain": [
       "<matplotlib.figure.Figure at 0x151eacb7f0>"
      ]
     },
     "metadata": {},
     "output_type": "display_data"
    },
    {
     "data": {
      "image/png": "[encoded data removed]",
      "text/plain": [
       "<matplotlib.figure.Figure at 0x151e93f5c0>"
      ]
     },
     "metadata": {},
     "output_type": "display_data"
    },
    {
     "data": {
      "text/plain": [
       "{'C_ss': 0.63289,\n",
       " 'EulErr_ss': array([ 4.58641125e-10, -8.88931595e-10]),\n",
       " 'K_ss': 0.07772,\n",
       " 'RCerr_ss': 1.525889591895424e-06,\n",
       " 'Y_ss': 0.68275,\n",
       " 'b_ss': array([0.01931, 0.05841]),\n",
       " 'c_ss': array([0.18241, 0.2096 , 0.24087]),\n",
       " 'r_ss': 2.43314,\n",
       " 'ss_time': 0.00076,\n",
       " 'w_ss': 0.20172}"
      ]
     },
     "execution_count": 223,
     "metadata": {},
     "output_type": "execute_result"
    }
   ],
   "source": [
    "get_ss(params, bvec_guess, ss_graphs = True)"
   ]
  },
  {
   "cell_type": "code",
   "execution_count": 224,
   "metadata": {},
   "outputs": [],
   "source": [
    "beta = 0.55               # 20-year discount factor\n",
    "params = [beta, sigma, nvec, L, A, alpha, delta, ss_tol]"
   ]
  },
  {
   "cell_type": "code",
   "execution_count": 225,
   "metadata": {},
   "outputs": [
    {
     "data": {
      "image/png": "[encoded data removed]",
      "text/plain": [
       "<matplotlib.figure.Figure at 0x1515bb0dd8>"
      ]
     },
     "metadata": {},
     "output_type": "display_data"
    },
    {
     "data": {
      "image/png": "[encoded data removed]",
      "text/plain": [
       "<matplotlib.figure.Figure at 0x1138d76d8>"
      ]
     },
     "metadata": {},
     "output_type": "display_data"
    },
    {
     "data": {
      "text/plain": [
       "{'C_ss': 0.6913,\n",
       " 'EulErr_ss': array([-6.82537689e-08, -2.50616949e-08]),\n",
       " 'K_ss': 0.10505,\n",
       " 'RCerr_ss': -1.0538509827295872e-06,\n",
       " 'Y_ss': 0.75869,\n",
       " 'b_ss': array([0.02818, 0.07687]),\n",
       " 'c_ss': array([0.19598, 0.22862, 0.2667 ]),\n",
       " 'r_ss': 1.88624,\n",
       " 'ss_time': 0.00063,\n",
       " 'w_ss': 0.22416}"
      ]
     },
     "execution_count": 225,
     "metadata": {},
     "output_type": "execute_result"
    }
   ],
   "source": [
    "get_ss(params, bvec_guess, ss_graphs = True)"
   ]
  },
  {
   "cell_type": "code",
   "execution_count": null,
   "metadata": {},
   "outputs": [],
   "source": []
  }
 ],
 "metadata": {
  "kernelspec": {
   "display_name": "Python 3",
   "language": "python",
   "name": "python3"
  },
  "language_info": {
   "codemirror_mode": {
    "name": "ipython",
    "version": 3
   },
   "file_extension": ".py",
   "mimetype": "text/x-python",
   "name": "python",
   "nbconvert_exporter": "python",
   "pygments_lexer": "ipython3",
   "version": "3.6.4"
  }
 },
 "nbformat": 4,
 "nbformat_minor": 2
}
