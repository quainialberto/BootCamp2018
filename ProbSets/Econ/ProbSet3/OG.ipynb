{
 "cells": [
  {
   "cell_type": "markdown",
   "metadata": {},
   "source": [
    "# Econ: Overlapping Generations | Problem set"
   ]
  },
  {
   "cell_type": "markdown",
   "metadata": {},
   "source": [
    "Alberto Quaini"
   ]
  },
  {
   "cell_type": "markdown",
   "metadata": {},
   "source": [
    "### Import libraries"
   ]
  },
  {
   "cell_type": "code",
   "execution_count": 1,
   "metadata": {},
   "outputs": [],
   "source": [
    "import numpy as np\n",
    "import time\n",
    "import scipy.optimize as opt\n",
    "import scipy.linalg as la\n",
    "import matplotlib.pyplot as plt"
   ]
  },
  {
   "cell_type": "markdown",
   "metadata": {},
   "source": [
    "### Parameters"
   ]
  },
  {
   "cell_type": "code",
   "execution_count": 2,
   "metadata": {},
   "outputs": [],
   "source": [
    "beta = 0.96**20               # 20-year discount factor\n",
    "delta = 1 - (1 - 0.05)**20    # 20-year capital depreciation rate\n",
    "sigma = 3                     # risk-aversion parameter\n",
    "A = 1                         # productivity scale parameter\n",
    "alpha = 0.35                  # capital share of income"
   ]
  },
  {
   "cell_type": "markdown",
   "metadata": {},
   "source": [
    "## Exercise 2.1"
   ]
  },
  {
   "cell_type": "markdown",
   "metadata": {},
   "source": [
    "Define 'feasible' function"
   ]
  },
  {
   "cell_type": "code",
   "execution_count": 14,
   "metadata": {},
   "outputs": [],
   "source": [
    "def feasible(f_params, bvec_guess):\n",
    "    \"\"\"\n",
    "    -------\n",
    "    inputs: \n",
    "    -------\n",
    "    f_params, tuple = (nvec, A, alpha, delta).\n",
    "        nvec, array(3,1): labour supply of various generations.\n",
    "        A, scalar: productivity scale parameter.\n",
    "        alpha, scalar: capital share of income.\n",
    "        delta, scalar: 20-year capital depreciation rate.\n",
    "    bvec_guess, array(2,1): guess of steady-state savings vector.\n",
    "    --------\n",
    "    returns:\n",
    "    --------\n",
    "    b_cnstr, boolean(2,1): ith entry True if ith bvec_guess \n",
    "                           is responsible for any nonnegativity\n",
    "                           constraint violation in c_cnstr.\n",
    "    c_cnstr, boolean(3,1): True if c_s <= 0, s=1,2,3.\n",
    "    K_cnstr, boolean(1,1): True if K <= 0.\n",
    "    \"\"\"\n",
    "    \n",
    "    K_cnstr = bvec_guess.sum() <= 0\n",
    "    b_cnstr = np.array([False, False])\n",
    "    c_cnstr = np.array([False, False, False])\n",
    "    c = np.zeros((3, 1))\n",
    "    \n",
    "    K = bvec_guess.sum()\n",
    "    L = f_params[0].sum()\n",
    "    r = f_params[2] * f_params[1] * (L / K)**(1 - f_params[2]) \n",
    "    - f_params[3]\n",
    "    w = (1 - f_params[2]) * f_params[1] * (K / L)**f_params[2]\n",
    "    c[0] = w * f_params[0][0] - bvec_guess[0]\n",
    "    c[1] = w * f_params[0][1] + (1 + r) * bvec_guess[1]\n",
    "    c[2] = w * f_params[0][2] + (1 + r) * bvec_guess[1]\n",
    "    \n",
    "    c_cnstr = c <= 0\n",
    "    if c_cnstr[0]:\n",
    "        b_cnstr[0] = True\n",
    "    if c_cnstr[1]:\n",
    "        b_cnstr[0] = True\n",
    "        b_cnstr[1] = True\n",
    "    if c_cnstr[2]:\n",
    "        b_cnstr[1] = True\n",
    "    print(b_cnstr)\n",
    "    print(c_cnstr.T[0])\n",
    "    print(K_cnstr)\n",
    "    \n",
    "    #return b_cnstr, c_cnstr, K_cnstr"
   ]
  },
  {
   "cell_type": "code",
   "execution_count": 15,
   "metadata": {},
   "outputs": [
    {
     "name": "stdout",
     "output_type": "stream",
     "text": [
      "Test (a):\n",
      "[ True False]\n",
      "[ True False False]\n",
      "False\n",
      "---------\n",
      "Test (b):\n",
      "[False False]\n",
      "[False False False]\n",
      "False\n",
      "---------\n",
      "Test (c):\n",
      "[False False]\n",
      "[False False False]\n",
      "False\n"
     ]
    }
   ],
   "source": [
    "nvec = np.array([1, 1, 0.2])\n",
    "f_params = (nvec, A, alpha, delta)\n",
    "bvec_guess = np.array([1, 1.2])\n",
    "print('Test (a):')\n",
    "feasible(f_params, bvec_guess)\n",
    "bvec_guess = np.array([0.06, -0.001])\n",
    "print('---------')\n",
    "print('Test (b):')\n",
    "feasible(f_params, bvec_guess)\n",
    "print('---------')\n",
    "print('Test (c):')\n",
    "bvec_guess = np.array([0.1, 0.1])\n",
    "feasible(f_params, bvec_guess)\n"
   ]
  },
  {
   "cell_type": "markdown",
   "metadata": {},
   "source": [
    "## Exercise 2.2"
   ]
  },
  {
   "cell_type": "code",
   "execution_count": 16,
   "metadata": {},
   "outputs": [],
   "source": [
    "def u_prime(c, params):\n",
    "    \"\"\" Compute the derivative of utility function\n",
    "    \"\"\"\n",
    "    \n",
    "    if c >= 1e-6:\n",
    "        return c**(-params[1])\n",
    "    else:\n",
    "        return 1e6**3"
   ]
  },
  {
   "cell_type": "code",
   "execution_count": 17,
   "metadata": {},
   "outputs": [],
   "source": [
    "def get_r(b_ss, params):\n",
    "    \"\"\" Compute the steady-state interest rate\n",
    "    \"\"\"\n",
    "    \n",
    "    arg = params[2].sum() / b_ss.sum()\n",
    "    return params[5] * params[4] * arg**(1 - params[5]) - params[6]"
   ]
  },
  {
   "cell_type": "code",
   "execution_count": 18,
   "metadata": {},
   "outputs": [],
   "source": [
    "def get_w(b_ss, params):\n",
    "    \"\"\" Comute the steady-state wage \n",
    "    \"\"\"\n",
    "    \n",
    "    arg = b_ss.sum() / params[2].sum()\n",
    "    return (1 - params[5]) * params[4] * arg**params[5]"
   ]
  },
  {
   "cell_type": "code",
   "execution_count": 19,
   "metadata": {},
   "outputs": [],
   "source": [
    "def get_EulErr(b_ss, params):\n",
    "    \"\"\" Compute the steady-state Euler equations errors\n",
    "    \"\"\"\n",
    "    \n",
    "    r_ss = get_r(b_ss, params)\n",
    "    w_ss = get_w(b_ss, params)\n",
    "    \n",
    "    c1_ss = params[2][0] * w_ss - b_ss[0]\n",
    "    c2_ss = params[2][1] * w_ss + (1 + r_ss) * b_ss[0] - b_ss[1]\n",
    "    c3_ss = params[2][2] * w_ss + (1 + r_ss) * b_ss[1]\n",
    "    \n",
    "    eulerr1_ss = u_prime(c1_ss, params) - params[0] * (1 + r_ss) * u_prime(c2_ss, params)\n",
    "    eulerr2_ss = u_prime(c2_ss, params) - params[0] * (1 + r_ss) * u_prime(c3_ss, params)\n",
    "    \n",
    "    return np.array([eulerr1_ss, eulerr2_ss])    "
   ]
  },
  {
   "cell_type": "code",
   "execution_count": 20,
   "metadata": {},
   "outputs": [],
   "source": [
    "def plot_c_ss(c_ss):\n",
    "    x = np.arange(3)\n",
    "    plt.bar(x, c_ss)\n",
    "    plt.xticks(x, ('C 1', 'C 2', 'C 3'))\n",
    "    plt.title('Steady-state consumption')\n",
    "    plt.show()"
   ]
  },
  {
   "cell_type": "code",
   "execution_count": 21,
   "metadata": {},
   "outputs": [],
   "source": [
    "def plot_b_ss(b_ss):\n",
    "    x = np.arange(2)\n",
    "    plt.bar(x, b_ss)\n",
    "    plt.xticks(x, ('b 2', 'b 3'))\n",
    "    plt.title('Steady-state savings')\n",
    "    plt.show()"
   ]
  },
  {
   "cell_type": "code",
   "execution_count": 22,
   "metadata": {},
   "outputs": [],
   "source": [
    "def get_ss(params, bvec_guess, ss_graphs = False):\n",
    "    \"\"\"\n",
    "    ------\n",
    "    inputs\n",
    "    ------\n",
    "    params, tuple: ((beta, sigma, nvec, L, A, alpha, delta, SS tol)).\n",
    "    bvec_guess, array(2,1): guess of steady-state savings vector.\n",
    "    ss_graphs, boolean: generates a figure of the steady-state \n",
    "                        distribution of consump- tion and savings \n",
    "                        if it is set to True.\n",
    "    --------\n",
    "    outputs:\n",
    "    --------\n",
    "    ss_output, dict: dictionary with the steady-state solution values \n",
    "                     for the following endogenous objects.\n",
    "    \"\"\"\n",
    "    start_time = time.clock()\n",
    "    \n",
    "    result = opt.root(get_EulErr, bvec_guess, args = params, tol = params[7])\n",
    "    b_ss = np.round(result.x, 5)\n",
    "    r_ss = np.round(get_r(b_ss, params), 5)\n",
    "    w_ss = np.round(get_w(b_ss, params), 5)\n",
    "    \n",
    "    c1_ss = np.round(params[2][0] * w_ss - b_ss[0], 5)\n",
    "    c2_ss = np.round(params[2][1] * w_ss + (1 + r_ss) * b_ss[0] - b_ss[1], 5)\n",
    "    c3_ss = np.round(params[2][2] * w_ss + (1 + r_ss) * b_ss[1], 5)\n",
    "    \n",
    "    c_ss = np.round(np.array([c1_ss, c2_ss, c3_ss]), 5)\n",
    "    K_ss = np.round(b_ss.sum(), 5)\n",
    "    L_ss = np.round(params[2].sum(), 5)\n",
    "    Y_ss = np.round(params[4] * K_ss**params[5] * L_ss**(1 - params[5]), 5)\n",
    "    C_ss = np.round(Y_ss - params[6] * K_ss, 5)\n",
    "    EulErr_ss = result.fun\n",
    "    RCerr_ss = Y_ss - C_ss - params[6] * K_ss\n",
    "    \n",
    "    ss_time = np.round(time.clock() - start_time, 5)\n",
    "    \n",
    "    if ss_graphs:\n",
    "        plot_c_ss(c_ss)\n",
    "        plot_b_ss(b_ss)\n",
    "    \n",
    "    ss_output = {\n",
    "        'b_ss': b_ss, 'c_ss': c_ss, 'w_ss': w_ss, 'r_ss': r_ss,\n",
    "        'K_ss': K_ss, 'Y_ss': Y_ss, 'C_ss': C_ss,\n",
    "        'EulErr_ss': EulErr_ss, 'RCerr_ss': RCerr_ss,\n",
    "        'ss_time': ss_time}\n",
    "    \n",
    "    return ss_output"
   ]
  },
  {
   "cell_type": "code",
   "execution_count": 23,
   "metadata": {},
   "outputs": [],
   "source": [
    "bvec_guess = np.array([.1, .1])\n",
    "ss_tol = 1e-6\n",
    "L = nvec.sum()\n",
    "params = [beta, sigma, nvec, L, A, alpha, delta, ss_tol]"
   ]
  },
  {
   "cell_type": "code",
   "execution_count": 24,
   "metadata": {},
   "outputs": [
    {
     "data": {
      "image/png": "[encoded data removed]",
      "text/plain": [
       "<matplotlib.figure.Figure at 0x1517ad5278>"
      ]
     },
     "metadata": {},
     "output_type": "display_data"
    },
    {
     "data": {
      "image/png": "[encoded data removed]",
      "text/plain": [
       "<matplotlib.figure.Figure at 0x1517a3f2e8>"
      ]
     },
     "metadata": {},
     "output_type": "display_data"
    },
    {
     "data": {
      "text/plain": [
       "{'C_ss': 0.63289,\n",
       " 'EulErr_ss': array([ 4.58641125e-10, -8.88931595e-10]),\n",
       " 'K_ss': 0.07772,\n",
       " 'RCerr_ss': 1.525889591895424e-06,\n",
       " 'Y_ss': 0.68275,\n",
       " 'b_ss': array([0.01931, 0.05841]),\n",
       " 'c_ss': array([0.18241, 0.2096 , 0.24087]),\n",
       " 'r_ss': 2.43314,\n",
       " 'ss_time': 0.00078,\n",
       " 'w_ss': 0.20172}"
      ]
     },
     "execution_count": 24,
     "metadata": {},
     "output_type": "execute_result"
    }
   ],
   "source": [
    "get_ss(params, bvec_guess, ss_graphs = True)"
   ]
  },
  {
   "cell_type": "code",
   "execution_count": 25,
   "metadata": {},
   "outputs": [],
   "source": [
    "beta = 0.55               # 20-year discount factor\n",
    "params = [beta, sigma, nvec, L, A, alpha, delta, ss_tol]"
   ]
  },
  {
   "cell_type": "code",
   "execution_count": 26,
   "metadata": {},
   "outputs": [
    {
     "data": {
      "image/png": "[encoded data removed]",
      "text/plain": [
       "<matplotlib.figure.Figure at 0x150ed14940>"
      ]
     },
     "metadata": {},
     "output_type": "display_data"
    },
    {
     "data": {
      "image/png": "[encoded data removed]",
      "text/plain": [
       "<matplotlib.figure.Figure at 0x1517c71d30>"
      ]
     },
     "metadata": {},
     "output_type": "display_data"
    },
    {
     "data": {
      "text/plain": [
       "{'C_ss': 0.6913,\n",
       " 'EulErr_ss': array([-6.82537689e-08, -2.50616949e-08]),\n",
       " 'K_ss': 0.10505,\n",
       " 'RCerr_ss': -1.0538509827295872e-06,\n",
       " 'Y_ss': 0.75869,\n",
       " 'b_ss': array([0.02818, 0.07687]),\n",
       " 'c_ss': array([0.19598, 0.22862, 0.2667 ]),\n",
       " 'r_ss': 1.88624,\n",
       " 'ss_time': 0.00076,\n",
       " 'w_ss': 0.22416}"
      ]
     },
     "execution_count": 26,
     "metadata": {},
     "output_type": "execute_result"
    }
   ],
   "source": [
    "get_ss(params, bvec_guess, ss_graphs = True)"
   ]
  },
  {
   "cell_type": "markdown",
   "metadata": {},
   "source": [
    "## Exercise 2.3"
   ]
  },
  {
   "cell_type": "markdown",
   "metadata": {},
   "source": [
    "Set additional parameters"
   ]
  },
  {
   "cell_type": "code",
   "execution_count": 27,
   "metadata": {},
   "outputs": [],
   "source": [
    "# Set parameters\n",
    "beta = 0.96**20               # 20-year discount factor\n",
    "T = 25                        # Steady-state horizon\n",
    "tol = 1e-9                    # tolerance\n",
    "xi = 0.2\n",
    "nvec = np.array([1, 1, 0.2])  # Labour supply\n",
    "eul_tol = 1e-6                # tolerance for Euler errors\n",
    "max_iter = 10_000\n",
    "params = [beta, sigma, nvec, L, A, alpha, delta, eul_tol, max_iter]"
   ]
  },
  {
   "cell_type": "markdown",
   "metadata": {},
   "source": [
    "Solve for the steady-state"
   ]
  },
  {
   "cell_type": "code",
   "execution_count": 28,
   "metadata": {},
   "outputs": [],
   "source": [
    "output_ss = get_ss(params, bvec_guess)\n",
    "b2bar = output_ss['b_ss'][0]\n",
    "b3bar = output_ss['b_ss'][1]\n",
    "b_ss = np.array([b2bar, b3bar])"
   ]
  },
  {
   "cell_type": "code",
   "execution_count": 29,
   "metadata": {},
   "outputs": [
    {
     "data": {
      "text/plain": [
       "array([0.01931, 0.05841])"
      ]
     },
     "execution_count": 29,
     "metadata": {},
     "output_type": "execute_result"
    }
   ],
   "source": [
    "b_ss"
   ]
  },
  {
   "cell_type": "markdown",
   "metadata": {},
   "source": [
    "Set initial conditions"
   ]
  },
  {
   "cell_type": "code",
   "execution_count": 30,
   "metadata": {},
   "outputs": [],
   "source": [
    "b21 = 0.8 * b2bar\n",
    "b31 = 1.1 * b3bar\n",
    "bvec_guess = np.array([b21, b31])"
   ]
  },
  {
   "cell_type": "markdown",
   "metadata": {},
   "source": [
    "Guess path of K"
   ]
  },
  {
   "cell_type": "code",
   "execution_count": 31,
   "metadata": {
    "scrolled": true
   },
   "outputs": [],
   "source": [
    "K1 = b21 + b31\n",
    "Kbar = b2bar + b3bar\n",
    "Kpath = np.linspace(K1, Kbar, T)\n",
    "Kpath = np.append(Kpath, Kbar)"
   ]
  },
  {
   "cell_type": "markdown",
   "metadata": {},
   "source": [
    "Get interest rates and wages paths depending on capital path"
   ]
  },
  {
   "cell_type": "code",
   "execution_count": 32,
   "metadata": {},
   "outputs": [],
   "source": [
    "def get_wr_paths(T, Kpath, Kbar, params):\n",
    "    \n",
    "    rpath = np.zeros(T)\n",
    "    wpath = np.zeros(T)\n",
    "    for t in range(T):\n",
    "        rpath[t] = get_r(Kpath[t], params)\n",
    "        wpath[t] = get_w(Kpath[t], params)\n",
    "    rbar = get_r(Kbar, params)\n",
    "    wbar = get_w(Kbar, params)\n",
    "    rpath = np.append(rpath, rbar)\n",
    "    wpath = np.append(wpath, wbar)\n",
    "    \n",
    "    return np.array([rpath, wpath])"
   ]
  },
  {
   "cell_type": "markdown",
   "metadata": {},
   "source": [
    "Define function that computes the Euler Errors for b32"
   ]
  },
  {
   "cell_type": "code",
   "execution_count": 33,
   "metadata": {},
   "outputs": [],
   "source": [
    "# Euler error for b32\n",
    "def b32_EulErr(b32, b32_params):\n",
    "    \"\"\" b32_params = (b21, b22, rpath, wpath, params)\n",
    "    \"\"\"\n",
    "    \n",
    "    b21    = b32_params[0]\n",
    "    b22    = b32_params[1]\n",
    "    rpath  = b32_params[2]\n",
    "    wpath  = b32_params[3]\n",
    "    params = b32_params[4]\n",
    "    \n",
    "    c1 = (1 + rpath[0]) * b21 + wpath[0] * params[2][1] - b32\n",
    "    u1 = u_prime(c1, params)\n",
    "    c2 = (1 + rpath[1]) * b32 + wpath[1] * params[2][2]\n",
    "    u2 = u_prime(c2, params)\n",
    "    \n",
    "    return u1 - params[0] * (1 + rpath[1]) * u2"
   ]
  },
  {
   "cell_type": "markdown",
   "metadata": {},
   "source": [
    "Define the function to get the Euler errors for $b_{32}$"
   ]
  },
  {
   "cell_type": "code",
   "execution_count": 34,
   "metadata": {},
   "outputs": [],
   "source": [
    "def get_b32(b21, b22, rpath, wpath, params, bvec_guess):\n",
    "    \n",
    "    b32_params = [b21, b22, rpath, wpath, params]\n",
    "    result = opt.root(b32_EulErr, \n",
    "                      bvec_guess[0], \n",
    "                      args = b32_params, \n",
    "                      tol = params[7])\n",
    "    b32 = result.x\n",
    "    b32_EulErrs = result.fun\n",
    "    \n",
    "    return np.array([b32, b32_EulErrs])"
   ]
  },
  {
   "cell_type": "markdown",
   "metadata": {},
   "source": [
    "Define function that computes the Euler Errors for $b_{2t}$ and $b_{3t+1}$"
   ]
  },
  {
   "cell_type": "code",
   "execution_count": 35,
   "metadata": {},
   "outputs": [],
   "source": [
    "# Euler error for b2t and b3tp1 collected in b\n",
    "def b_EulErr(b, b_params):\n",
    "    \"\"\" b = (b2t, b3tp1)\n",
    "    bt_params = (t, rpath, wpath, params)\n",
    "    \"\"\"\n",
    "    \n",
    "    t      = b_params[0]\n",
    "    rpath  = b_params[1]\n",
    "    wpath  = b_params[2]\n",
    "    params = b_params[3]\n",
    "    \n",
    "    c21 = wpath[t] * params[2][0] - b[0]\n",
    "    u21 = u_prime(c21, params)\n",
    "    c22 = (1 + rpath[t+1]) * b[0] + wpath[t+1] * params[2][1] - b[1]\n",
    "    u22 = u_prime(c22, params)\n",
    "    b2_EulErr = u21 - params[0] * (1 + rpath[t+1]) * u22\n",
    "    \n",
    "    c31 = (1 + rpath[t+1]) * b[0] + wpath[t+1] * params[2][1] - b[1]\n",
    "    u31 = u_prime(c31, params)\n",
    "    c32 = (1 + rpath[t+2]) * b[1] + wpath[t+2] * params[2][2]\n",
    "    u32 = u_prime(c32, params)\n",
    "    b3_EulErrs = u31 - params[0] * (1 + rpath[t+2]) * u32\n",
    "    \n",
    "    return np.array([b2_EulErr, b3_EulErrs])"
   ]
  },
  {
   "cell_type": "markdown",
   "metadata": {},
   "source": [
    "Define the function to get the Euler errors for $b_{2t}$ and $b_{3t+1}$"
   ]
  },
  {
   "cell_type": "code",
   "execution_count": 36,
   "metadata": {},
   "outputs": [],
   "source": [
    "def get_b(t, rpath, wpath, params, bvec_guess):\n",
    "    \n",
    "    b_params = [t, rpath, wpath, params]\n",
    "    result = opt.root(b_EulErr, \n",
    "                      bvec_guess, \n",
    "                      args = b_params, \n",
    "                      tol = params[7])\n",
    "    b = result.x\n",
    "    b_EulErrs = result.fun\n",
    "    \n",
    "    return np.array([b, b_EulErrs])"
   ]
  },
  {
   "cell_type": "markdown",
   "metadata": {},
   "source": [
    "Define function to compute aggregate errors for each time path"
   ]
  },
  {
   "cell_type": "code",
   "execution_count": 37,
   "metadata": {},
   "outputs": [],
   "source": [
    "def aggregate_errs(Kpath, rpath, wpath, bmat, params):\n",
    "    \n",
    "    L = params[2].sum()\n",
    "    C = L * wpath[:-1] + (1 + rpath[:-1]) * bmat[:-1,0] - bmat[1:,0] + (1 + rpath[:-1]) * bmat[:-1,1] - bmat[1:,1]\n",
    "    Y = params[4] * (Kpath[:-1]**params[5]) * L**(1 - params[5])\n",
    "    \n",
    "    agg_err = Y - C - Kpath[1:] + (1 - params[6]) * Kpath[:-1]\n",
    "    max_agg_err = np.abs(agg_err).max()\n",
    "    \n",
    "    return max_agg_err\n",
    "    "
   ]
  },
  {
   "cell_type": "markdown",
   "metadata": {},
   "source": [
    "Compute time path of the $b_{2t}$ and $b_{3t}$, Euler errors and aggregate resources errors"
   ]
  },
  {
   "cell_type": "code",
   "execution_count": 38,
   "metadata": {},
   "outputs": [],
   "source": [
    "def twisted_donut(T, rpath, wpath, Kpath, bvec_guess, b_ss, params):\n",
    "    \n",
    "    bmat = np.zeros((T+1, 2))\n",
    "    bmat[0,:] = bvec_guess\n",
    "    EulErrs = np.zeros((T+1, 2))\n",
    "    cols = [0,1]\n",
    "    for t in range(T-1):\n",
    "        rows = [t+1, t+2]\n",
    "        bmat[rows, cols], EulErrs[rows, cols] = get_b(t, \n",
    "                                                      rpath, \n",
    "                                                      wpath, \n",
    "                                                      params, \n",
    "                                                      bvec_guess)\n",
    "    \n",
    "    bmat[1,1], EulErrs[1,1] = get_b32(bmat[0,0], \n",
    "                                      bmat[0,1], \n",
    "                                      rpath, \n",
    "                                      wpath, \n",
    "                                      params, \n",
    "                                      bvec_guess)\n",
    "    max_EulErrs = np.abs(EulErrs).max(axis = 0)\n",
    "    agg_errs = aggregate_errs(Kpath, rpath, wpath, bmat, params)\n",
    "    \n",
    "    \n",
    "    return bmat, max_EulErrs, agg_errs"
   ]
  },
  {
   "cell_type": "markdown",
   "metadata": {},
   "source": [
    "Compute K'"
   ]
  },
  {
   "cell_type": "code",
   "execution_count": 39,
   "metadata": {},
   "outputs": [],
   "source": [
    "def Kprime(bmat, Kbar):\n",
    "    \n",
    "    Kp_path = bmat[:-1,:].sum(axis = 1)\n",
    "    Kp_path = np.append(Kp_path, Kbar)\n",
    "    \n",
    "    return Kp_path"
   ]
  },
  {
   "cell_type": "markdown",
   "metadata": {},
   "source": [
    "Compute TPI to get the equilibrium time path of the economy"
   ]
  },
  {
   "cell_type": "code",
   "execution_count": 51,
   "metadata": {},
   "outputs": [],
   "source": [
    "def TPI(T, Kpath, Kbar, bvec_guess, b_ss, params, tol, max_iter):\n",
    "    \n",
    "    dist = tol + 1\n",
    "    i = 0\n",
    "    \n",
    "    while (dist > tol) & (i < max_iter):\n",
    "        i += 1\n",
    "        rpath, wpath = get_wr_paths(T, Kpath, Kbar, params)\n",
    "        bmat, max_EulErrs, max_agg_errs = twisted_donut(T, rpath, wpath, Kpath, bvec_guess, b_ss, params)\n",
    "        Kp_path = Kprime(bmat, Kbar)\n",
    "        dist = la.norm(Kp_path - Kpath, 2)\n",
    "        Kpath = xi * Kp_path + (1 - xi) * Kpath\n",
    "    \n",
    "    print('Max absolute Euler errors for generation 2: ', max_EulErrs[0])\n",
    "    print('Max absolute Euler errors for generation 3: ', max_EulErrs[1])\n",
    "    print('Max absolute aggregate resources constraint error:', max_agg_errs)\n",
    "    \n",
    "    return Kpath, rpath, wpath"
   ]
  },
  {
   "cell_type": "code",
   "execution_count": 52,
   "metadata": {},
   "outputs": [
    {
     "name": "stdout",
     "output_type": "stream",
     "text": [
      "Max absolute Euler errors for generation 2:  3.160021435633098e-07\n",
      "Max absolute Euler errors for generation 3:  9.312326199051313e-08\n",
      "Max absolute aggregate resources constraint error: 0.019309231549849922\n"
     ]
    }
   ],
   "source": [
    "Kstd_path, rstd_path, wstd_path = TPI(T, Kpath, Kbar, bvec_guess, b_ss, params, tol, max_iter)"
   ]
  },
  {
   "cell_type": "code",
   "execution_count": 42,
   "metadata": {},
   "outputs": [
    {
     "data": {
      "image/png": "[encoded data removed]",
      "text/plain": [
       "<matplotlib.figure.Figure at 0x1517dc5048>"
      ]
     },
     "metadata": {},
     "output_type": "display_data"
    }
   ],
   "source": [
    "plt.plot(Kstd_path)\n",
    "plt.title('Equilibrium time path of aggregate capital')\n",
    "plt.xlabel('time')\n",
    "plt.ylabel('K')\n",
    "plt.grid(True)\n",
    "plt.show()"
   ]
  },
  {
   "cell_type": "code",
   "execution_count": 43,
   "metadata": {},
   "outputs": [
    {
     "data": {
      "image/png": "[encoded data removed]",
      "text/plain": [
       "<matplotlib.figure.Figure at 0x1517da51d0>"
      ]
     },
     "metadata": {},
     "output_type": "display_data"
    }
   ],
   "source": [
    "plt.plot(rstd_path)\n",
    "plt.title('Equilibrium time path of interest rate')\n",
    "plt.xlabel('time')\n",
    "plt.ylabel('r')\n",
    "plt.grid(True)\n",
    "plt.show()"
   ]
  },
  {
   "cell_type": "code",
   "execution_count": 44,
   "metadata": {},
   "outputs": [
    {
     "data": {
      "image/png": "[encoded data removed]",
      "text/plain": [
       "<matplotlib.figure.Figure at 0x1517dc5588>"
      ]
     },
     "metadata": {},
     "output_type": "display_data"
    }
   ],
   "source": [
    "plt.plot(wstd_path)\n",
    "plt.title('Equilibrium time path of wages')\n",
    "plt.xlabel('time')\n",
    "plt.ylabel('w')\n",
    "plt.grid(True)\n",
    "plt.show()"
   ]
  },
  {
   "cell_type": "code",
   "execution_count": 45,
   "metadata": {},
   "outputs": [
    {
     "name": "stdout",
     "output_type": "stream",
     "text": [
      "Number of periods taken by the economy to get within 1e-5 of the steady state aggregate capital:  2\n",
      "Number of periods from which the economy stays within 1e-5 of the steady state aggregate capital:  10\n"
     ]
    }
   ],
   "source": [
    "Kstd_dist = np.abs(Kstd_path - Kbar)\n",
    "err = 1e-5\n",
    "loc = np.where(Kstd_dist < err)[0]\n",
    "print('Number of periods taken by the economy to get within 1e-5 of the steady state aggregate capital: ', loc.min())\n",
    "loc_cons = np.ediff1d(loc) == 1\n",
    "print('Number of periods from which the economy stays within 1e-5 of the steady state aggregate capital: ', loc[-len(loc_cons)])"
   ]
  },
  {
   "cell_type": "code",
   "execution_count": null,
   "metadata": {},
   "outputs": [],
   "source": []
  }
 ],
 "metadata": {
  "kernelspec": {
   "display_name": "Python 3",
   "language": "python",
   "name": "python3"
  },
  "language_info": {
   "codemirror_mode": {
    "name": "ipython",
    "version": 3
   },
   "file_extension": ".py",
   "mimetype": "text/x-python",
   "name": "python",
   "nbconvert_exporter": "python",
   "pygments_lexer": "ipython3",
   "version": "3.6.4"
  }
 },
 "nbformat": 4,
 "nbformat_minor": 2
}
