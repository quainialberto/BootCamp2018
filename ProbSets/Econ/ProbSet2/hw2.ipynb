{
 "cells": [
  {
   "cell_type": "markdown",
   "metadata": {},
   "source": [
    "# Homework 2"
   ]
  },
  {
   "cell_type": "markdown",
   "metadata": {},
   "source": [
    "## Exercise 3"
   ]
  },
  {
   "cell_type": "markdown",
   "metadata": {},
   "source": [
    "Let $A\\in\\mathbb M_{nxn}$ with spectral radius $r(A)<1$.\n",
    "Take an arbitrary $\\epsilon$ satisfying $0<\\epsilon<1-r(A)$. \n",
    "By Gelfand's formula we know that there exists a $K(\\epsilon)\\in\\mathbb N$ such that for any $k\\geq K(\\epsilon)$ we have \n",
    "$$(r(A)-\\epsilon)^k<||A^k||<(r(A)+\\epsilon)^k.$$\n",
    "\n",
    "Since $||A^k||\\geq 0$, we can rewrite the previous inequalities as\n",
    "$$0<||A^k||<(r(A)+\\epsilon)^k.$$\n",
    "By our choice of $\\epsilon$ we know that \n",
    "$(r(A)+\\epsilon)^k\\to 0$ as $k\\to\\infty$.\n",
    "Therefore $||A^k||\\to 0$ as $k\\to\\infty$."
   ]
  },
  {
   "cell_type": "code",
   "execution_count": null,
   "metadata": {},
   "outputs": [],
   "source": []
  }
 ],
 "metadata": {
  "kernelspec": {
   "display_name": "Python 3",
   "language": "python",
   "name": "python3"
  },
  "language_info": {
   "codemirror_mode": {
    "name": "ipython",
    "version": 3
   },
   "file_extension": ".py",
   "mimetype": "text/x-python",
   "name": "python",
   "nbconvert_exporter": "python",
   "pygments_lexer": "ipython3",
   "version": "3.6.4"
  }
 },
 "nbformat": 4,
 "nbformat_minor": 2
}
