{
 "cells": [
  {
   "cell_type": "markdown",
   "metadata": {},
   "source": [
    "# The Drazin Inverse"
   ]
  },
  {
   "cell_type": "markdown",
   "metadata": {},
   "source": [
    "### Import libraries"
   ]
  },
  {
   "cell_type": "code",
   "execution_count": 129,
   "metadata": {},
   "outputs": [],
   "source": [
    "import numpy as np\n",
    "import pandas as pd\n",
    "import scipy.linalg as la"
   ]
  },
  {
   "cell_type": "markdown",
   "metadata": {},
   "source": [
    "## Problem 1"
   ]
  },
  {
   "cell_type": "code",
   "execution_count": 18,
   "metadata": {},
   "outputs": [],
   "source": [
    "def isDrazin(A, k, AD):\n",
    "    \n",
    "    m, n = A.shape\n",
    "    md, nd = AD.shape\n",
    "    if not m == n or not md == nd:\n",
    "        raise ValueError('A and AD are required to be square')\n",
    "    \n",
    "    ADA = AD @ A\n",
    "    cond1 = np.allclose(A @ AD, ADA)\n",
    "    Ak = np.linalg.matrix_power(A, k)\n",
    "    Akp1 = A @ Ak\n",
    "    cond2 = np.allclose(Akp1 @ AD, Ak)\n",
    "    cond3 = np.allclose(ADA @ AD, AD)\n",
    "    \n",
    "    cond = cond1 and cond2 and cond3\n",
    "    return cond"
   ]
  },
  {
   "cell_type": "code",
   "execution_count": 19,
   "metadata": {},
   "outputs": [
    {
     "data": {
      "text/plain": [
       "True"
      ]
     },
     "execution_count": 19,
     "metadata": {},
     "output_type": "execute_result"
    }
   ],
   "source": [
    "A = np.eye(4)\n",
    "A[3,3] = 0\n",
    "A[[0,1,2],[1,2,3]] = 3\n",
    "AD = np.array([\n",
    "    [1,-3,9,81],\n",
    "    [0,1,-3,-18],\n",
    "    [0,0,1,3],\n",
    "    [0,0,0,0]\n",
    "])\n",
    "k = 1\n",
    "isDrazin(A, k, AD)"
   ]
  },
  {
   "cell_type": "code",
   "execution_count": 20,
   "metadata": {},
   "outputs": [
    {
     "data": {
      "text/plain": [
       "True"
      ]
     },
     "execution_count": 20,
     "metadata": {},
     "output_type": "execute_result"
    }
   ],
   "source": [
    "BD = np.zeros((3,3))\n",
    "B = np.array([\n",
    "    [1,1,3],\n",
    "    [5,2,6],\n",
    "    [-2,-1,-3]\n",
    "])\n",
    "k=3\n",
    "isDrazin(B, k, BD)"
   ]
  },
  {
   "cell_type": "markdown",
   "metadata": {},
   "source": [
    "## Problem 2"
   ]
  },
  {
   "cell_type": "code",
   "execution_count": 35,
   "metadata": {},
   "outputs": [],
   "source": [
    "def Drazin(A, tol):\n",
    "    m, n = A.shape\n",
    "    if not m == n:\n",
    "        raise ValueError('A is required to be square')\n",
    "    \n",
    "    f1 = lambda x: abs(x) > tol\n",
    "    Q1, S, k1 = la.schur(A, sort = f1)\n",
    "    f2 = lambda x: abs(x) <= tol\n",
    "    Q2, T, k2 = la.schur(A, sort = f2)\n",
    "    \n",
    "    U = np.column_stack((S[:,:k1], T[:,:n-k1]))\n",
    "    Uinv = la.inv(U)\n",
    "    V = Uinv @ A @ U\n",
    "    Z = np.zeros((n,n))\n",
    "    if not k1 == 0:\n",
    "        Minv = la.inv(V[:k1,:k1])\n",
    "        Z[:k1,:k1] = Minv\n",
    "    \n",
    "    return U @ Z @ Uinv"
   ]
  },
  {
   "cell_type": "code",
   "execution_count": 39,
   "metadata": {},
   "outputs": [
    {
     "data": {
      "text/plain": [
       "True"
      ]
     },
     "execution_count": 39,
     "metadata": {},
     "output_type": "execute_result"
    }
   ],
   "source": [
    "np.allclose(Drazin(A, 1e-2), AD)"
   ]
  },
  {
   "cell_type": "code",
   "execution_count": 38,
   "metadata": {},
   "outputs": [
    {
     "data": {
      "text/plain": [
       "True"
      ]
     },
     "execution_count": 38,
     "metadata": {},
     "output_type": "execute_result"
    }
   ],
   "source": [
    "np.allclose(Drazin(B, 1e-2), BD)"
   ]
  },
  {
   "cell_type": "markdown",
   "metadata": {},
   "source": [
    "## Problem 3"
   ]
  },
  {
   "cell_type": "code",
   "execution_count": 160,
   "metadata": {},
   "outputs": [],
   "source": [
    "def graph_res(A, tol = 1e-2):\n",
    "    \n",
    "    m, n = A.shape\n",
    "    if not m == n:\n",
    "        raise ValueError('A is supposed to be square')\n",
    "    \n",
    "    D = np.diag(np.sum(A + A * np.eye(n), axis = 1))\n",
    "    L = D - A\n",
    "    \n",
    "    R = np.zeros((n,n))\n",
    "    for i in range(n):\n",
    "        for j in range(n):\n",
    "            if not i == j:\n",
    "                Ltilde = np.copy(L)\n",
    "                Ltilde[j,:] = np.eye(n,n)[j,:]\n",
    "                R[i,j] = Drazin(Ltilde, tol)[i,i]\n",
    "    \n",
    "    return R"
   ]
  },
  {
   "cell_type": "code",
   "execution_count": 122,
   "metadata": {},
   "outputs": [
    {
     "data": {
      "text/plain": [
       "True"
      ]
     },
     "execution_count": 122,
     "metadata": {},
     "output_type": "execute_result"
    }
   ],
   "source": [
    "A = np.zeros((4,4))\n",
    "rows = [0,1,1,2,2,3]\n",
    "cols = [1,0,2,1,3,2]\n",
    "A[rows,cols] = 1\n",
    "\n",
    "R = graph_res(A)\n",
    "np.allclose(R[0,3], 3)"
   ]
  },
  {
   "cell_type": "code",
   "execution_count": 123,
   "metadata": {},
   "outputs": [
    {
     "data": {
      "text/plain": [
       "True"
      ]
     },
     "execution_count": 123,
     "metadata": {},
     "output_type": "execute_result"
    }
   ],
   "source": [
    "B = 1 - np.eye(2)\n",
    "R = graph_res(B)\n",
    "np.allclose(R[0,1], 1)"
   ]
  },
  {
   "cell_type": "code",
   "execution_count": 125,
   "metadata": {},
   "outputs": [
    {
     "data": {
      "text/plain": [
       "True"
      ]
     },
     "execution_count": 125,
     "metadata": {},
     "output_type": "execute_result"
    }
   ],
   "source": [
    "C = np.ones((3,3)) - np.eye(3)\n",
    "R = graph_res(C)\n",
    "np.allclose(R[0,2], 2/3)"
   ]
  },
  {
   "cell_type": "code",
   "execution_count": 126,
   "metadata": {},
   "outputs": [
    {
     "data": {
      "text/plain": [
       "True"
      ]
     },
     "execution_count": 126,
     "metadata": {},
     "output_type": "execute_result"
    }
   ],
   "source": [
    "D = (1 - np.eye(2)) * 3\n",
    "R = graph_res(D)\n",
    "np.allclose(R[0,1], 1/3)"
   ]
  },
  {
   "cell_type": "code",
   "execution_count": 127,
   "metadata": {},
   "outputs": [
    {
     "data": {
      "text/plain": [
       "True"
      ]
     },
     "execution_count": 127,
     "metadata": {},
     "output_type": "execute_result"
    }
   ],
   "source": [
    "E = (1 - np.eye(2)) * 2\n",
    "R = graph_res(E)\n",
    "np.allclose(R[0,1], 1/2)"
   ]
  },
  {
   "cell_type": "code",
   "execution_count": 128,
   "metadata": {},
   "outputs": [
    {
     "data": {
      "text/plain": [
       "True"
      ]
     },
     "execution_count": 128,
     "metadata": {},
     "output_type": "execute_result"
    }
   ],
   "source": [
    "F = (1 - np.eye(2)) * 4\n",
    "R = graph_res(F)\n",
    "np.allclose(R[0,1], 1/4)"
   ]
  },
  {
   "cell_type": "markdown",
   "metadata": {},
   "source": [
    "## Problem 4"
   ]
  },
  {
   "cell_type": "code",
   "execution_count": 205,
   "metadata": {},
   "outputs": [],
   "source": [
    "class LinkPredictor:\n",
    "    \"\"\"  Class to perform link prediction\n",
    "    \"\"\"\n",
    "    def __init__(self, file):\n",
    "        \n",
    "        graph = pd.read_csv(file, header = None).as_matrix()\n",
    "        m, n = graph.shape\n",
    "        \n",
    "        nodes, idx = np.unique(graph, return_inverse = True)\n",
    "        self.nodes = nodes\n",
    "        \n",
    "        idx = idx.reshape((m, n))\n",
    "        self.len = len(nodes)\n",
    "        Adj = np.zeros((self.len, self.len))\n",
    "        \n",
    "        for i in range(m):\n",
    "            Adj[idx[i, 0], idx[i, 1]] = 1\n",
    "            Adj[idx[i, 1], idx[i, 0]] = 1\n",
    "        self.Adj = Adj\n",
    "        \n",
    "        R = graph_res(Adj)\n",
    "        self.R = R\n",
    "        self.maxR = R.max()\n",
    "        \n",
    "    def predict_link(self, node = None):\n",
    "    \n",
    "        if node == None:\n",
    "            Adj_cp = np.copy(self.Adj)\n",
    "            R_cp = np.copy(self.R)\n",
    "            newL = R_cp + self.maxR * Adj_cp + self.maxR * np.eye(self.len)\n",
    "            idx_min = np.unravel_index(newL.argmin(), newL.shape)\n",
    "            return (self.nodes[idx_min[0]], self.nodes[idx_min[1]])\n",
    "        \n",
    "        else: \n",
    "            if node in self.nodes:\n",
    "                idx = np.where(self.nodes == node)[0][0]\n",
    "                Adj_cp = np.copy(self.Adj)\n",
    "                R_cp = np.copy(self.R)\n",
    "                newL = R_cp + Adj_cp + np.eye(self.len)\n",
    "                newL = newL[:,idx]\n",
    "                idx_min = np.unravel_index(newL.argmin(), newL.shape)\n",
    "                return self.nodes[idx_min[0]]\n",
    "                \n",
    "            else:\n",
    "                raise ValueError(\"The node must be in the network.\")\n",
    "                \n",
    "        \n",
    "    def add_link(self, node1, node2):\n",
    "    \n",
    "        if node1 in self.nodes and node2 in self.nodes:\n",
    "            idx1 = np.where(self.nodes == node1)[0][0]\n",
    "            idx2 = np.where(self.nodes == node2)[0][0]\n",
    "            \n",
    "            self.Adj[idx1,idx2] = self.Adj[idx1,idx2] + 1\n",
    "            self.Adj[idx2,idx1] = self.Adj[idx2,idx1] + 1\n",
    "            self.R = graph_res(self.Adj)\n",
    "        else:\n",
    "            raise ValueError(\"node1 and node2 must be present in the network.\")\n",
    "        "
   ]
  },
  {
   "cell_type": "code",
   "execution_count": 206,
   "metadata": {},
   "outputs": [
    {
     "data": {
      "text/plain": [
       "('Oliver', 'Emily')"
      ]
     },
     "execution_count": 206,
     "metadata": {},
     "output_type": "execute_result"
    }
   ],
   "source": [
    "social_ntw = LinkPredictor('social_network.csv')\n",
    "social_ntw.predict_link()"
   ]
  },
  {
   "cell_type": "code",
   "execution_count": 207,
   "metadata": {},
   "outputs": [
    {
     "data": {
      "text/plain": [
       "'Carol'"
      ]
     },
     "execution_count": 207,
     "metadata": {},
     "output_type": "execute_result"
    }
   ],
   "source": [
    "social_ntw.predict_link('Melanie')"
   ]
  },
  {
   "cell_type": "code",
   "execution_count": 208,
   "metadata": {},
   "outputs": [
    {
     "data": {
      "text/plain": [
       "'Sonia'"
      ]
     },
     "execution_count": 208,
     "metadata": {},
     "output_type": "execute_result"
    }
   ],
   "source": [
    "social_ntw.predict_link('Alan')"
   ]
  },
  {
   "cell_type": "code",
   "execution_count": 209,
   "metadata": {},
   "outputs": [
    {
     "data": {
      "text/plain": [
       "'Piers'"
      ]
     },
     "execution_count": 209,
     "metadata": {},
     "output_type": "execute_result"
    }
   ],
   "source": [
    "social_ntw.add_link('Alan', 'Sonia')\n",
    "social_ntw.predict_link('Alan')"
   ]
  },
  {
   "cell_type": "code",
   "execution_count": 210,
   "metadata": {},
   "outputs": [
    {
     "data": {
      "text/plain": [
       "'Abigail'"
      ]
     },
     "execution_count": 210,
     "metadata": {},
     "output_type": "execute_result"
    }
   ],
   "source": [
    "social_ntw.add_link('Alan', 'Piers')\n",
    "social_ntw.predict_link('Alan')"
   ]
  },
  {
   "cell_type": "code",
   "execution_count": null,
   "metadata": {},
   "outputs": [],
   "source": []
  }
 ],
 "metadata": {
  "kernelspec": {
   "display_name": "Python 3",
   "language": "python",
   "name": "python3"
  },
  "language_info": {
   "codemirror_mode": {
    "name": "ipython",
    "version": 3
   },
   "file_extension": ".py",
   "mimetype": "text/x-python",
   "name": "python",
   "nbconvert_exporter": "python",
   "pygments_lexer": "ipython3",
   "version": "3.6.4"
  }
 },
 "nbformat": 4,
 "nbformat_minor": 2
}
