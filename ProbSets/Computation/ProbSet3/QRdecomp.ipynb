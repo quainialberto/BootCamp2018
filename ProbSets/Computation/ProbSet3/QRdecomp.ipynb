{
 "cells": [
  {
   "cell_type": "markdown",
   "metadata": {},
   "source": [
    "# QR decomposition"
   ]
  },
  {
   "cell_type": "markdown",
   "metadata": {},
   "source": [
    "Alberto Quaini"
   ]
  },
  {
   "cell_type": "markdown",
   "metadata": {},
   "source": [
    "### Import some libraries"
   ]
  },
  {
   "cell_type": "code",
   "execution_count": 2,
   "metadata": {},
   "outputs": [],
   "source": [
    "import numpy as np\n",
    "from scipy import linalg as la"
   ]
  },
  {
   "cell_type": "markdown",
   "metadata": {},
   "source": [
    "## Problem 1"
   ]
  },
  {
   "cell_type": "code",
   "execution_count": 3,
   "metadata": {},
   "outputs": [],
   "source": [
    "def mod_gram_schmidt(A):\n",
    "    \"\"\" Compute the modified Gram-Schmidt QR decomposition of A\n",
    "    Input: A, array(m, n)\n",
    "    Output: Q, array(m, n) orthonormal\n",
    "            R, array(n, n) upper triangular\n",
    "    \"\"\"\n",
    "    \n",
    "    m, n = A.shape\n",
    "    r = np.linalg.matrix_rank(A)\n",
    "    if r < n:\n",
    "        print(\"A is not full column rank\")\n",
    "    Q = np.copy(A)\n",
    "    R = np.zeros((n, n))\n",
    "    \n",
    "    for i in range(n):\n",
    "        R[i,i] = la.norm(Q[:,i])\n",
    "        Q[:,i] = Q[:,i] / R[i,i]\n",
    "        for j in range(i+1, n):\n",
    "            R[i,j] = np.dot(np.transpose(Q[:,j]), Q[:,i])\n",
    "            Q[:,j] = Q[:,j] - R[i,j] * Q[:,i]\n",
    "    \n",
    "    return Q, R"
   ]
  },
  {
   "cell_type": "code",
   "execution_count": 4,
   "metadata": {},
   "outputs": [],
   "source": [
    "A = np.random.random((6,4))\n",
    "Q, R = mod_gram_schmidt(A)"
   ]
  },
  {
   "cell_type": "code",
   "execution_count": 11,
   "metadata": {},
   "outputs": [
    {
     "name": "stdout",
     "output_type": "stream",
     "text": [
      "Is R upper triangular?  True\n",
      "Is Q orthonormal?  True\n",
      "Is true that A = QR?  True\n",
      "Is Q close to Q1?  True\n",
      "Is R close to R1?  True\n"
     ]
    }
   ],
   "source": [
    "print(\"Is R upper triangular? \", np.allclose(np.triu(R), R))\n",
    "print(\"Is Q orthonormal? \", np.allclose(Q.T @ Q, np.identity(4)))\n",
    "print(\"Is true that A = QR? \", np.allclose(Q @ R, A))\n",
    "Q1, R1 = la.qr(A, mode=\"economic\")\n",
    "print(\"Is Q close to Q1? \", np.allclose(np.abs(Q), np.abs(Q1)))\n",
    "print(\"Is R close to R1? \", np.allclose(np.abs(R), np.abs(R1)))"
   ]
  },
  {
   "cell_type": "markdown",
   "metadata": {},
   "source": [
    "## Problem 2"
   ]
  },
  {
   "cell_type": "code",
   "execution_count": 13,
   "metadata": {},
   "outputs": [],
   "source": [
    "def det_QR(A):\n",
    "    \"\"\" Compute the determinant of invertible matrix A\n",
    "    via QR decomposition\n",
    "    \"\"\"\n",
    "    \n",
    "    m, n = A.shape\n",
    "    r = np.linalg.matrix_rank(A)\n",
    "    if not n == m:\n",
    "        print(\"A is not square\")\n",
    "    if r < n:\n",
    "        print(\"A is not invertible\")\n",
    "    \n",
    "    Q, R = la.qr(A, mode=\"economic\")\n",
    "    return abs(np.prod(np.diag(R)))"
   ]
  },
  {
   "cell_type": "code",
   "execution_count": 14,
   "metadata": {},
   "outputs": [
    {
     "name": "stdout",
     "output_type": "stream",
     "text": [
      "Rank of A is:  0.0068\n",
      "Rank of A via scipy linear algebra package is:  0.0068\n"
     ]
    }
   ],
   "source": [
    "A = np.random.random((6,6))\n",
    "r = round(det_QR(A), 4)\n",
    "print(\"Rank of A is: \", r)\n",
    "r1 = round(abs(la.det(A)), 4)\n",
    "print(\"Rank of A via scipy linear algebra package is: \", r1)"
   ]
  },
  {
   "cell_type": "markdown",
   "metadata": {},
   "source": [
    "Function in one line:"
   ]
  },
  {
   "cell_type": "code",
   "execution_count": 15,
   "metadata": {},
   "outputs": [],
   "source": [
    "det_oneline = lambda A: abs(np.prod(np.diag(la.qr(A, mode='economic')[1])))"
   ]
  },
  {
   "cell_type": "code",
   "execution_count": 16,
   "metadata": {},
   "outputs": [
    {
     "name": "stdout",
     "output_type": "stream",
     "text": [
      "Rank of A from one-line function is:  0.0068\n"
     ]
    }
   ],
   "source": [
    "# Test\n",
    "r2 = round(det_oneline(A), 4)\n",
    "print(\"Rank of A from one-line function is: \", r2)"
   ]
  },
  {
   "cell_type": "markdown",
   "metadata": {},
   "source": [
    "## Problem 3"
   ]
  },
  {
   "cell_type": "code",
   "execution_count": 17,
   "metadata": {},
   "outputs": [],
   "source": [
    "def lin_sys(A, b):\n",
    "    \"\"\" Solve a linear system\n",
    "    \"\"\"\n",
    "    \n",
    "    m, n = A.shape\n",
    "    l = len(b)\n",
    "    r = np.linalg.matrix_rank(A)\n",
    "    if not n == m:\n",
    "        print(\"A is not square\")\n",
    "    if r < n:\n",
    "        print(\"A is not invertible\")\n",
    "    if not l == n:\n",
    "        print(\"b is not of the right length\")\n",
    "        \n",
    "    Q, R = la.qr(A, mode = 'economic')\n",
    "    y = np.dot(np.transpose(Q), b)\n",
    "    x = np.zeros(n)\n",
    "\n",
    "    for j in range(n-1, -1, -1):\n",
    "        x[j] = (y[j] - np.dot(R[j, j+1:], x[j+1:])) / R[j,j]\n",
    "    \n",
    "    return x"
   ]
  },
  {
   "cell_type": "code",
   "execution_count": 18,
   "metadata": {},
   "outputs": [
    {
     "name": "stdout",
     "output_type": "stream",
     "text": [
      "Is the result of lin_sys the same as numpy linalg 'solve'? True\n"
     ]
    }
   ],
   "source": [
    "A = np.random.random((4, 4))\n",
    "b = np.random.random(4)\n",
    "x = lin_sys(A, b)\n",
    "x1 = np.linalg.solve(A, b)\n",
    "print(\"Is the result of lin_sys the same as numpy linalg 'solve'?\", np.allclose(x, x1))"
   ]
  },
  {
   "cell_type": "markdown",
   "metadata": {},
   "source": [
    "## Problem 4"
   ]
  },
  {
   "cell_type": "code",
   "execution_count": 19,
   "metadata": {},
   "outputs": [],
   "source": [
    "sign = lambda x: 1 if x >= 0 else -1"
   ]
  },
  {
   "cell_type": "code",
   "execution_count": 20,
   "metadata": {},
   "outputs": [],
   "source": [
    "def householder(A):\n",
    "    \"\"\" Compute QR decomposition of A via householder method\n",
    "    \"\"\"\n",
    "    \n",
    "    m, n = A.shape\n",
    "    r = np.linalg.matrix_rank(A)\n",
    "    if r < n:\n",
    "        print(\"A is not full column rank\")\n",
    "    \n",
    "    R = np.copy(A)\n",
    "    Q = np.eye(m)\n",
    "    \n",
    "    for k in range(n):\n",
    "        u = np.copy(R[k:,k])\n",
    "        u[0] = u[0] + sign(u[0]) * la.norm(u)\n",
    "        u = u / la.norm(u)\n",
    "        R[k:,k:] = R[k:,k:] - 2 * np.outer(u, np.dot(np.transpose(u), R[k:,k:]))\n",
    "        Q[k:,:] = Q[k:,:] - 2 * np.outer(u, np.dot(np.transpose(u), Q[k:,:]))\n",
    "    \n",
    "    return np.transpose(Q), R"
   ]
  },
  {
   "cell_type": "code",
   "execution_count": 21,
   "metadata": {
    "scrolled": true
   },
   "outputs": [
    {
     "name": "stdout",
     "output_type": "stream",
     "text": [
      "Is R upper triangular?  True\n",
      "Is Q orthonormal?  True\n",
      "Is true that A = QR?  True\n"
     ]
    }
   ],
   "source": [
    "A = np.random.random((5, 3))\n",
    "Q,R = householder(A) \n",
    "print(\"Is R upper triangular? \", np.allclose(np.triu(R), R))\n",
    "print(\"Is Q orthonormal? \", np.allclose(Q.T @ Q, np.identity(5)))\n",
    "print(\"Is true that A = QR? \", np.allclose(Q @ R, A))"
   ]
  },
  {
   "cell_type": "markdown",
   "metadata": {},
   "source": [
    "## Problem 5"
   ]
  },
  {
   "cell_type": "code",
   "execution_count": 22,
   "metadata": {},
   "outputs": [],
   "source": [
    "def hessenberg(A):\n",
    "    \"\"\" Compute Hessenberg QR decomposition of A\n",
    "    \"\"\"\n",
    "    \n",
    "    m, n = A.shape\n",
    "    r = np.linalg.matrix_rank(A)\n",
    "    if not n == m:\n",
    "        print(\"A is not square\")\n",
    "    if r < n:\n",
    "        print(\"A is not invertible\")\n",
    "        \n",
    "    H = np.copy(A)\n",
    "    Q = np.eye(m)\n",
    "    \n",
    "    for k in range(n-2):\n",
    "        u = np.copy(H[k+1:,k])\n",
    "        u[0] = u[0] + sign(u[0]) * la.norm(u)\n",
    "        u = u / la.norm(u)\n",
    "        H[k+1:,k:] = H[k+1:,k:] - 2 * np.outer(u, np.dot(np.transpose(u), H[k+1:,k:]))\n",
    "        H[:,k+1:] = H[:,k+1:] - 2 * np.outer(np.dot(H[:,k+1:], u), np.transpose(u))\n",
    "        Q[k+1:,:] = Q[k+1:,:] - 2 * np.outer(u, np.dot(np.transpose(u), Q[k+1:,:]))\n",
    "        \n",
    "    return H, np.transpose(Q)"
   ]
  },
  {
   "cell_type": "code",
   "execution_count": 23,
   "metadata": {},
   "outputs": [
    {
     "name": "stdout",
     "output_type": "stream",
     "text": [
      "H has all zeros below the first subdiagonal?  True\n",
      "Is true that QHQ^T = A?  True\n"
     ]
    }
   ],
   "source": [
    "A = np.random.random((8,8))\n",
    "H, Q = hessenberg(A)\n",
    "print(\"H has all zeros below the first subdiagonal? \", np.allclose(np.triu(H, -1), H))\n",
    "print(\"Is true that QHQ^T = A? \", np.allclose(Q @ H @ Q.T, A))"
   ]
  },
  {
   "cell_type": "code",
   "execution_count": null,
   "metadata": {},
   "outputs": [],
   "source": []
  }
 ],
 "metadata": {
  "kernelspec": {
   "display_name": "Python 3",
   "language": "python",
   "name": "python3"
  },
  "language_info": {
   "codemirror_mode": {
    "name": "ipython",
    "version": 3
   },
   "file_extension": ".py",
   "mimetype": "text/x-python",
   "name": "python",
   "nbconvert_exporter": "python",
   "pygments_lexer": "ipython3",
   "version": "3.6.4"
  }
 },
 "nbformat": 4,
 "nbformat_minor": 2
}
