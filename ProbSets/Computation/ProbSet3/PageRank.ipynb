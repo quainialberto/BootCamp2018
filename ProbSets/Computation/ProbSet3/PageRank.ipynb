{
 "cells": [
  {
   "cell_type": "markdown",
   "metadata": {},
   "source": [
    "# Page Rank"
   ]
  },
  {
   "cell_type": "markdown",
   "metadata": {},
   "source": [
    "Alberto Quaini"
   ]
  },
  {
   "cell_type": "markdown",
   "metadata": {},
   "source": [
    "### Import libraries"
   ]
  },
  {
   "cell_type": "code",
   "execution_count": 1,
   "metadata": {},
   "outputs": [],
   "source": [
    "import numpy as np\n",
    "import pandas as pd\n",
    "import scipy.linalg as la\n",
    "import scipy.sparse as sp"
   ]
  },
  {
   "cell_type": "markdown",
   "metadata": {},
   "source": [
    "## Problem 1"
   ]
  },
  {
   "cell_type": "code",
   "execution_count": 37,
   "metadata": {},
   "outputs": [],
   "source": [
    "def graph_adj(file, N):\n",
    "    \n",
    "    Adj = sp.dok_matrix((N,N))\n",
    "    with open(file, 'r') as myfile:\n",
    "        for line in myfile:\n",
    "            try:\n",
    "                line = line.strip().split()\n",
    "                Adj[int(line[0]), int(line[1])] = 1\n",
    "            except ValueError:\n",
    "                pass\n",
    "    \n",
    "    return Adj"
   ]
  },
  {
   "cell_type": "code",
   "execution_count": 40,
   "metadata": {},
   "outputs": [
    {
     "name": "stdout",
     "output_type": "stream",
     "text": [
      "  (0, 7)\t1.0\n",
      "  (1, 0)\t1.0\n",
      "  (3, 0)\t1.0\n",
      "  (3, 2)\t1.0\n",
      "  (3, 6)\t1.0\n",
      "  (4, 0)\t1.0\n",
      "  (4, 5)\t1.0\n",
      "  (4, 6)\t1.0\n",
      "  (5, 0)\t1.0\n",
      "  (5, 6)\t1.0\n",
      "  (6, 0)\t1.0\n",
      "  (7, 0)\t1.0\n"
     ]
    }
   ],
   "source": [
    "print(graph_adj('matrix.txt', 8))"
   ]
  },
  {
   "cell_type": "code",
   "execution_count": 99,
   "metadata": {},
   "outputs": [],
   "source": [
    "A = np.array([[ 0,  0,  0,  0,  0,  0,  0,  1],\n",
    "              [ 1,  0,  0,  0,  0,  0,  0,  0],\n",
    "              [ 0,  0,  0,  0,  0,  0,  0,  0],\n",
    "              [ 1,  0,  1,  0,  0,  0,  1,  0],\n",
    "              [ 1,  0,  0,  0,  0,  1,  1,  0],\n",
    "              [ 1,  0,  0,  0,  0,  0,  1,  0],\n",
    "              [ 1,  0,  0,  0,  0,  0,  0,  0],\n",
    "              [ 1,  0,  0,  0,  0,  0,  0,  0]])"
   ]
  },
  {
   "cell_type": "markdown",
   "metadata": {},
   "source": [
    "## Problem 2"
   ]
  },
  {
   "cell_type": "code",
   "execution_count": 100,
   "metadata": {},
   "outputs": [],
   "source": [
    "def produce_K(A):\n",
    "    rows = np.where(~A.any(axis=1))[0]\n",
    "    A[rows,:] = 1\n",
    "    D = A.sum(axis=1)\n",
    "    #D = np.diag(1/D)\n",
    "    K = np.copy(A)\n",
    "    K = A.T / D\n",
    "    \n",
    "    return K"
   ]
  },
  {
   "cell_type": "code",
   "execution_count": 102,
   "metadata": {},
   "outputs": [
    {
     "data": {
      "text/plain": [
       "array([[0.        , 1.        , 0.125     , 0.33333333, 0.33333333,\n",
       "        0.5       , 1.        , 1.        ],\n",
       "       [0.        , 0.        , 0.125     , 0.        , 0.        ,\n",
       "        0.        , 0.        , 0.        ],\n",
       "       [0.        , 0.        , 0.125     , 0.33333333, 0.        ,\n",
       "        0.        , 0.        , 0.        ],\n",
       "       [0.        , 0.        , 0.125     , 0.        , 0.        ,\n",
       "        0.        , 0.        , 0.        ],\n",
       "       [0.        , 0.        , 0.125     , 0.        , 0.        ,\n",
       "        0.        , 0.        , 0.        ],\n",
       "       [0.        , 0.        , 0.125     , 0.        , 0.33333333,\n",
       "        0.        , 0.        , 0.        ],\n",
       "       [0.        , 0.        , 0.125     , 0.33333333, 0.33333333,\n",
       "        0.5       , 0.        , 0.        ],\n",
       "       [1.        , 0.        , 0.125     , 0.        , 0.        ,\n",
       "        0.        , 0.        , 0.        ]])"
      ]
     },
     "execution_count": 102,
     "metadata": {},
     "output_type": "execute_result"
    }
   ],
   "source": [
    "produce_K(A)"
   ]
  },
  {
   "cell_type": "markdown",
   "metadata": {},
   "source": [
    "## Problem 3"
   ]
  },
  {
   "cell_type": "code",
   "execution_count": 108,
   "metadata": {},
   "outputs": [],
   "source": [
    "def steady_graph(A, N = None, d = .85, tol = 1e-5):\n",
    "    if not N == None:\n",
    "        A = A[:N,:N]\n",
    "    m, n = A.shape\n",
    "    if not m == n:\n",
    "        raise ValueError('A must be a square matrix.')\n",
    "        \n",
    "    K = produce_K(A)\n",
    "    ones = np.ones((m, 1))\n",
    "    update = lambda p: d * K @ p + (1 - d) / n * ones\n",
    "    p = np.random.rand(m,1)\n",
    "    dist = tol + 1\n",
    "    while dist > tol:\n",
    "        new_p = update(p)\n",
    "        dist = abs(la.norm(new_p - p))\n",
    "        p = new_p\n",
    "    \n",
    "    return p"
   ]
  },
  {
   "cell_type": "code",
   "execution_count": 109,
   "metadata": {},
   "outputs": [
    {
     "data": {
      "text/plain": [
       "array([[0.43869797],\n",
       "       [0.02171029],\n",
       "       [0.02786154],\n",
       "       [0.02171029],\n",
       "       [0.02171029],\n",
       "       [0.02786154],\n",
       "       [0.04585394],\n",
       "       [0.39461031]])"
      ]
     },
     "execution_count": 109,
     "metadata": {},
     "output_type": "execute_result"
    }
   ],
   "source": [
    "steady_graph(A)"
   ]
  },
  {
   "cell_type": "markdown",
   "metadata": {},
   "source": [
    "## Problem 4"
   ]
  },
  {
   "cell_type": "code",
   "execution_count": 126,
   "metadata": {},
   "outputs": [],
   "source": [
    "def Steady_Graph(A, N = None, d = .85, tol = 1e-5):\n",
    "    if not N == None:\n",
    "        A = A[:N,:N]\n",
    "    m, n = A.shape\n",
    "    if not m == n:\n",
    "        raise ValueError('A must be a square matrix.')\n",
    "        \n",
    "    K = produce_K(A)\n",
    "    p = la.solve(np.eye(m) - d * K, ((1 - d) / n) * np.ones(m))\n",
    "    \n",
    "    return p"
   ]
  },
  {
   "cell_type": "code",
   "execution_count": 127,
   "metadata": {},
   "outputs": [
    {
     "data": {
      "text/plain": [
       "array([0.43869288, 0.02171029, 0.02786154, 0.02171029, 0.02171029,\n",
       "       0.02786154, 0.04585394, 0.39459924])"
      ]
     },
     "execution_count": 127,
     "metadata": {},
     "output_type": "execute_result"
    }
   ],
   "source": [
    "Steady_Graph(A)"
   ]
  },
  {
   "cell_type": "markdown",
   "metadata": {},
   "source": [
    "## Problem 5"
   ]
  },
  {
   "cell_type": "code",
   "execution_count": 178,
   "metadata": {},
   "outputs": [
    {
     "name": "stdout",
     "output_type": "stream",
     "text": [
      "The top 5 ranked teams are, in order:\n",
      "Duke\n",
      "Butler\n",
      "Louisville\n",
      "Illinois\n",
      "Indiana\n"
     ]
    }
   ],
   "source": [
    "ncaa = pd.read_csv('ncaa2013.csv', header = 0).as_matrix()\n",
    "m, n = ncaa.shape\n",
    "teams, idx = np.unique(ncaa, return_inverse = True)\n",
    "idx = idx.reshape((m, n))\n",
    "\n",
    "t = len(teams)\n",
    "Adj = np.zeros((t,t))\n",
    "\n",
    "for i in range(m):\n",
    "    Adj[idx[i, 1], idx[i, 0]] = 1\n",
    "\n",
    "ranks = steady_graph(Adj, d = 0.7)\n",
    "np.argsort(ranks.T)\n",
    "ranks = teams[np.argsort(ranks.T)].T[::-1]\n",
    "\n",
    "print('The top 5 ranked teams are, in order:')\n",
    "for i in range(5):\n",
    "    print(ranks[i][0])"
   ]
  },
  {
   "cell_type": "code",
   "execution_count": null,
   "metadata": {},
   "outputs": [],
   "source": []
  }
 ],
 "metadata": {
  "kernelspec": {
   "display_name": "Python 3",
   "language": "python",
   "name": "python3"
  },
  "language_info": {
   "codemirror_mode": {
    "name": "ipython",
    "version": 3
   },
   "file_extension": ".py",
   "mimetype": "text/x-python",
   "name": "python",
   "nbconvert_exporter": "python",
   "pygments_lexer": "ipython3",
   "version": "3.6.4"
  }
 },
 "nbformat": 4,
 "nbformat_minor": 2
}
