{
 "cells": [
  {
   "cell_type": "markdown",
   "metadata": {},
   "source": [
    "# Numerical Integration"
   ]
  },
  {
   "cell_type": "code",
   "execution_count": 21,
   "metadata": {},
   "outputs": [],
   "source": [
    "import numpy as np\n",
    "from matplotlib import pyplot as plt\n",
    "from scipy import integrate\n",
    "from scipy import stats as sts"
   ]
  },
  {
   "cell_type": "markdown",
   "metadata": {},
   "source": [
    "## Problem 1"
   ]
  },
  {
   "cell_type": "code",
   "execution_count": 22,
   "metadata": {},
   "outputs": [],
   "source": [
    "def  numericalIntegral(g, a, b, N, method):\n",
    "    \n",
    "    int_sum = 0\n",
    "    \n",
    "    if method == 'midpoint':\n",
    "        x = np.zeros(N, dtype=np.float64)\n",
    "        for i in range(N):\n",
    "            x[i] = a + (2*i + 1)*(b - a) / (2*N)\n",
    "            int_sum += g(x[i])\n",
    "            \n",
    "        int_sum = (b - a) / N*int_sum\n",
    "        \n",
    "    elif method == 'trapezoid':\n",
    "        x = np.zeros(N + 1, dtype=np.float64)\n",
    "        for i in range(N + 1):\n",
    "            x[i] = a + i*(b - a) / N\n",
    "            if i == 0:\n",
    "                int_sum += g(x[i])\n",
    "            elif i == N:\n",
    "                int_sum += g(x[i])\n",
    "            elif i != N and i != 0:\n",
    "                int_sum += 2 * g(x[i])\n",
    "                \n",
    "        int_sum = (b - a) / (2*N) * int_sum\n",
    "        \n",
    "    elif method == 'Simpsons':\n",
    "        x = np.zeros(2*N + 1, dtype=np.float64)\n",
    "        for i in range(2*N + 1):\n",
    "            x[i] = a + ( i*(b - a) / (2*N) )\n",
    "            if i == 0:\n",
    "                int_sum += g(x[i])\n",
    "            elif i == 2*N:\n",
    "                int_sum += g(x[i])\n",
    "            elif i % 2 == 1:\n",
    "                int_sum += 4 * g(x[i])\n",
    "            elif i % 2 == 0:\n",
    "                int_sum += 2 * g(x[i])  \n",
    "                \n",
    "        int_sum *= (b - a) / ( 3*(2*N + 1) )\n",
    "        \n",
    "    else:\n",
    "        raise ValueError('Choose a valid method')    \n",
    "        \n",
    "    return int_sum"
   ]
  },
  {
   "cell_type": "code",
   "execution_count": 23,
   "metadata": {},
   "outputs": [],
   "source": [
    "g = lambda x: .1 * x ** 4 - 1.5 * x ** 3 + .53 * x ** 2 + 2 * x + 1"
   ]
  },
  {
   "cell_type": "code",
   "execution_count": 24,
   "metadata": {},
   "outputs": [
    {
     "name": "stdout",
     "output_type": "stream",
     "text": [
      "Integral computed via midpoint method:   4373.333196466632\n",
      "Integral computed via trapezoid method:  4373.333607066684\n",
      "Integral computed via Simpson method:    4373.333607066684\n"
     ]
    }
   ],
   "source": [
    "midpoint = numericalIntegral(g, -10, 10, 10000, 'midpoint')\n",
    "print('Integral computed via midpoint method:  ', midpoint)\n",
    "trap = numericalIntegral(g, -10, 10, 10000, 'trapezoid')\n",
    "print('Integral computed via trapezoid method: ', trap)\n",
    "simp = numericalIntegral(g, -10, 10, 10000, 'trapezoid')\n",
    "print('Integral computed via Simpson method:   ', simp)"
   ]
  },
  {
   "cell_type": "markdown",
   "metadata": {},
   "source": [
    "## Problem 2"
   ]
  },
  {
   "cell_type": "code",
   "execution_count": 25,
   "metadata": {},
   "outputs": [],
   "source": [
    "def nc_approx_normal(mu, sd, N, k):\n",
    "    \n",
    "    z = np.linspace(mu - k*sd, mu + k*sd, N)\n",
    "    w = np.zeros(N, dtype=np.float64)\n",
    "    \n",
    "    for i in range(1, N+1):\n",
    "        if i == 1:\n",
    "            w[i-1] = sts.norm.cdf((z[i-1] + z[i]) / 2, loc=mu, scale=sd)\n",
    "        elif i == N:\n",
    "            w[i-1] = 1 - sts.norm.cdf((z[N-2] + z[N-1]) / 2, loc=mu, scale=sd)\n",
    "        else:\n",
    "            w[i-1] = sts.norm.pdf(z[i-1], loc=mu, scale=sd)*(z[N-1] - z[0])/N\n",
    "    \n",
    "    return w, z"
   ]
  },
  {
   "cell_type": "code",
   "execution_count": 28,
   "metadata": {},
   "outputs": [
    {
     "name": "stdout",
     "output_type": "stream",
     "text": [
      "w:  [1.59108590e-04 1.73388233e-03 1.62869311e-02 8.06696979e-02\n",
      " 2.10684766e-01 2.90139840e-01 2.10684766e-01 8.06696979e-02\n",
      " 1.62869311e-02 1.73388233e-03 1.59108590e-04]\n",
      "Z:  [-4.  -3.2 -2.4 -1.6 -0.8  0.   0.8  1.6  2.4  3.2  4. ]\n"
     ]
    },
    {
     "data": {
      "image/png": "[encoded data removed]",
      "text/plain": [
       "<matplotlib.figure.Figure at 0x1a0ce43da0>"
      ]
     },
     "metadata": {},
     "output_type": "display_data"
    }
   ],
   "source": [
    "w, z = nc_approx_normal(0, 1, 11, 4)\n",
    "print('w: ', w)\n",
    "print('Z: ', z)\n",
    "fig = plt.figure(figsize=(8,5))\n",
    "plt.plot(z, w, 'bo')\n",
    "plt.xlabel('x')\n",
    "plt.ylabel('Weight')\n",
    "plt.show()"
   ]
  },
  {
   "cell_type": "markdown",
   "metadata": {},
   "source": [
    "## Problem 3"
   ]
  },
  {
   "cell_type": "code",
   "execution_count": 29,
   "metadata": {},
   "outputs": [],
   "source": [
    "def approx_log_norm(mu, sd, N, k):\n",
    "    \n",
    "    w, z = nc_approx_normal(mu, sd, N, k)\n",
    "    A = np.exp(z)\n",
    "    \n",
    "    return w, A"
   ]
  },
  {
   "cell_type": "code",
   "execution_count": 32,
   "metadata": {},
   "outputs": [
    {
     "name": "stdout",
     "output_type": "stream",
     "text": [
      "w:  [1.59108590e-04 1.73388233e-03 1.62869311e-02 8.06696979e-02\n",
      " 2.10684766e-01 2.90139840e-01 2.10684766e-01 8.06696979e-02\n",
      " 1.62869311e-02 1.73388233e-03 1.59108590e-04]\n",
      "\n",
      "A:  [1.83156389e-02 4.07622040e-02 9.07179533e-02 2.01896518e-01\n",
      " 4.49328964e-01 1.00000000e+00 2.22554093e+00 4.95303242e+00\n",
      " 1.10231764e+01 2.45325302e+01 5.45981500e+01]\n"
     ]
    },
    {
     "data": {
      "image/png": "[encoded data removed]",
      "text/plain": [
       "<matplotlib.figure.Figure at 0x1a0cebc908>"
      ]
     },
     "metadata": {},
     "output_type": "display_data"
    }
   ],
   "source": [
    "w, A = approx_log_norm(0, 1, 11, 4)\n",
    "print('w: ', w)\n",
    "print('')\n",
    "print('A: ', A)\n",
    "fig = plt.figure(figsize=(8,5))\n",
    "plt.plot(A, w, 'bo')\n",
    "plt.xlabel('x')\n",
    "plt.ylabel('Weight')\n",
    "plt.show()"
   ]
  },
  {
   "cell_type": "markdown",
   "metadata": {},
   "source": [
    "## Problem 4"
   ]
  },
  {
   "cell_type": "code",
   "execution_count": 34,
   "metadata": {},
   "outputs": [
    {
     "data": {
      "image/png": "[encoded data removed]",
      "text/plain": [
       "<matplotlib.figure.Figure at 0x1a15ee6550>"
      ]
     },
     "metadata": {},
     "output_type": "display_data"
    }
   ],
   "source": [
    "mu = 10.5\n",
    "sd = .8\n",
    "N = 100\n",
    "k = 4\n",
    "w, A = approx_log_norm(mu, sd, N, k)\n",
    "fig = plt.figure(figsize=(8,5))\n",
    "plt.plot(A, w, 'bo')\n",
    "plt.xlabel('x')\n",
    "plt.ylabel('Weight')\n",
    "plt.show()"
   ]
  },
  {
   "cell_type": "code",
   "execution_count": 36,
   "metadata": {},
   "outputs": [
    {
     "name": "stdout",
     "output_type": "stream",
     "text": [
      "Exact expected value:         50011.087008521754\n",
      "Approximated expected value:  50005.43188241741\n"
     ]
    }
   ],
   "source": [
    "exact = np.exp(mu + (sd**2)/2)\n",
    "print('Exact expected value:        ', exact)\n",
    "aveinc = np.average(A, weights=w)\n",
    "print('Approximated expected value: ', aveinc)"
   ]
  },
  {
   "cell_type": "markdown",
   "metadata": {},
   "source": [
    "## Problem 6"
   ]
  },
  {
   "cell_type": "code",
   "execution_count": 37,
   "metadata": {},
   "outputs": [
    {
     "name": "stdout",
     "output_type": "stream",
     "text": [
      "Value:  4373.333333333334\n",
      "Error:  8.109531705284936e-11\n"
     ]
    }
   ],
   "source": [
    "val, error = integrate.quad(g, -10, 10)\n",
    "print('Value: ', val)\n",
    "print('Error: ', error)"
   ]
  },
  {
   "cell_type": "markdown",
   "metadata": {},
   "source": [
    "## Problem 7"
   ]
  },
  {
   "cell_type": "code",
   "execution_count": 38,
   "metadata": {},
   "outputs": [],
   "source": [
    "def montecarlo(g, Omega, N):\n",
    "    x_min, x_max = Omega\n",
    "    x = np.random.uniform(x_min, x_max, (2, N))\n",
    "    return (4 / N) * np.sum(g(x[0], x[1]))"
   ]
  },
  {
   "cell_type": "code",
   "execution_count": 44,
   "metadata": {},
   "outputs": [
    {
     "name": "stdout",
     "output_type": "stream",
     "text": [
      "Approximate pi with 1e5 points:  3.1436800000000003\n",
      "Approximate pi with 1e7 points:  3.1415395999999998\n"
     ]
    }
   ],
   "source": [
    "g = lambda x, y: np.sum(x ** 2 + y ** 2 <= 1)\n",
    "\n",
    "Omega = np.array([-1, 1])\n",
    "print('Approximate pi with 1e5 points: ', montecarlo(g, Omega, int(1e5)))\n",
    "print('Approximate pi with 1e7 points: ', montecarlo(g, Omega, int(1e7)))"
   ]
  },
  {
   "cell_type": "code",
   "execution_count": null,
   "metadata": {},
   "outputs": [],
   "source": []
  }
 ],
 "metadata": {
  "kernelspec": {
   "display_name": "Python 3",
   "language": "python",
   "name": "python3"
  },
  "language_info": {
   "codemirror_mode": {
    "name": "ipython",
    "version": 3
   },
   "file_extension": ".py",
   "mimetype": "text/x-python",
   "name": "python",
   "nbconvert_exporter": "python",
   "pygments_lexer": "ipython3",
   "version": "3.6.4"
  }
 },
 "nbformat": 4,
 "nbformat_minor": 2
}
