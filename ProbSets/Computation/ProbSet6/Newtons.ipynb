{
 "cells": [
  {
   "cell_type": "markdown",
   "metadata": {},
   "source": [
    "# Newton's method"
   ]
  },
  {
   "cell_type": "code",
   "execution_count": 40,
   "metadata": {},
   "outputs": [],
   "source": [
    "import numpy as np\n",
    "from scipy import optimize\n",
    "from matplotlib import pyplot as plt\n",
    "from scipy.linalg import norm\n",
    "import autograd.numpy as anp\n",
    "from autograd import grad, jacobian\n",
    "from autograd.numpy.linalg import solve, norm"
   ]
  },
  {
   "cell_type": "markdown",
   "metadata": {},
   "source": [
    "## Problem 1"
   ]
  },
  {
   "cell_type": "code",
   "execution_count": 16,
   "metadata": {},
   "outputs": [],
   "source": [
    "def one_dim_newton(f, x0, fprime, tol=1e-5, maxiter=15):\n",
    "    \n",
    "    for i in range(int(maxiter)):\n",
    "        x1 = x0 - f(x0)/fprime(x0)\n",
    "        if ( np.abs(x0-x1) < tol ):\n",
    "            break\n",
    "        x0 = x1\n",
    "    \n",
    "    if ( i<maxiter-1 ):\n",
    "        print(\"Newton's algorithm converged\")\n",
    "    else:\n",
    "        print(\"Newton's algorithm did not converge\")\n",
    "    \n",
    "    return x1"
   ]
  },
  {
   "cell_type": "code",
   "execution_count": 17,
   "metadata": {},
   "outputs": [
    {
     "name": "stdout",
     "output_type": "stream",
     "text": [
      "Newton's algorithm converged\n",
      "My Newton's solution is:  0.6931471805600254\n",
      "Optimize.newton's solution is:  0.6931471805599453\n"
     ]
    }
   ],
   "source": [
    "f = lambda x: np.exp(x)-2\n",
    "fprime = lambda x: np.exp(x)\n",
    "sol = one_dim_newton(f, 1, fprime)\n",
    "print(\"My Newton's solution is: \", sol)\n",
    "print(\"Optimize.newton's solution is: \", optimize.newton(f, 1, fprime))"
   ]
  },
  {
   "cell_type": "markdown",
   "metadata": {},
   "source": [
    "## Problem 2"
   ]
  },
  {
   "cell_type": "code",
   "execution_count": 18,
   "metadata": {},
   "outputs": [
    {
     "name": "stdout",
     "output_type": "stream",
     "text": [
      "Newton's algorithm converged\n"
     ]
    },
    {
     "data": {
      "text/plain": [
       "0.038786670117328476"
      ]
     },
     "execution_count": 18,
     "metadata": {},
     "output_type": "execute_result"
    }
   ],
   "source": [
    "def interest(N1, N2, P1, P2):\n",
    "    inter = lambda r: P1 * ((1 + r) ** N1 - 1) - P2 * (1 - (1 + r) ** -N2)\n",
    "    inter1 = lambda r: P1 * N1 * (1 + r) ** (N1 - 1) + P2 * N2 * (1 + r) ** (-N2 - 1)\n",
    "    root = one_dim_newton(inter, .1, inter1, 1e-5, 100)\n",
    "    return root\n",
    "\n",
    "interest(30, 20, 2000, 8000)"
   ]
  },
  {
   "cell_type": "markdown",
   "metadata": {},
   "source": [
    "## Problem 3"
   ]
  },
  {
   "cell_type": "code",
   "execution_count": 19,
   "metadata": {},
   "outputs": [],
   "source": [
    "def backtrk_one_dim_newton(f, x0, fprime, alpha=1, tol=1e-5, maxiter=15):\n",
    "    \n",
    "    for i in range(int(maxiter)):\n",
    "        x1 = x0 - alpha*f(x0)/fprime(x0)\n",
    "        if ( np.abs(x0-x1) < tol ):\n",
    "            break\n",
    "        x0 = x1\n",
    "    \n",
    "    if ( i<maxiter-1 ):\n",
    "        print(\"Newton's algorithm converged\")\n",
    "    else:\n",
    "        print(\"Newton's algorithm did not converge\")\n",
    "    \n",
    "    return x1"
   ]
  },
  {
   "cell_type": "code",
   "execution_count": 20,
   "metadata": {},
   "outputs": [
    {
     "name": "stdout",
     "output_type": "stream",
     "text": [
      "Newton's algorithm did not converge\n"
     ]
    }
   ],
   "source": [
    "f = lambda x: np.sign(x) * np.power(np.abs(x), 1./3)\n",
    "x0 = .01\n",
    "fprime = lambda x: (1./3) * np.power(np.abs(x), -2./3)\n",
    "sol = backtrk_one_dim_newton(f, x0, fprime)"
   ]
  },
  {
   "cell_type": "code",
   "execution_count": 21,
   "metadata": {},
   "outputs": [
    {
     "name": "stdout",
     "output_type": "stream",
     "text": [
      "Newton's algorithm converged\n",
      "Root is approximately:  6.400000000000134e-07\n"
     ]
    }
   ],
   "source": [
    "alpha=.4\n",
    "root = backtrk_one_dim_newton(f, x0, fprime, alpha)\n",
    "print('Root is approximately: ', root)"
   ]
  },
  {
   "cell_type": "markdown",
   "metadata": {},
   "source": [
    "## Problem 4"
   ]
  },
  {
   "cell_type": "code",
   "execution_count": 22,
   "metadata": {},
   "outputs": [],
   "source": [
    "def noalpha_one_dim_newton(f, x0, fprime, tol=1e-5, maxiter=15):\n",
    "    \n",
    "    alpha = np.linspace(.01, 1, 100)\n",
    "    numiter = np.zeros(len(alpha))\n",
    "    \n",
    "    for i, a in enumerate(alpha):\n",
    "        x1 = x0\n",
    "        err = tol+1\n",
    "        for ii in range(1, maxiter+1):\n",
    "            x1p1 = x1 - a * f(x1) / fprime(x1)\n",
    "            err = np.abs(x1p1 - x1)\n",
    "            x1 = x1p1\n",
    "            if err < tol:\n",
    "                break\n",
    "        numiter[i] = ii\n",
    "\n",
    "    return numiter"
   ]
  },
  {
   "cell_type": "code",
   "execution_count": 23,
   "metadata": {},
   "outputs": [
    {
     "data": {
      "image/png": "[encoded data removed]",
      "text/plain": [
       "<matplotlib.figure.Figure at 0x1170a1668>"
      ]
     },
     "metadata": {},
     "output_type": "display_data"
    }
   ],
   "source": [
    "alpha = np.linspace(.01, 1, 100)\n",
    "numiter = noalpha_one_dim_newton(f, .01, fprime, maxiter=150)\n",
    "fig = plt.figure(figsize=(8,5))\n",
    "plt.plot(alpha, numiter)\n",
    "plt.xlabel(r'$\\alpha$')\n",
    "plt.ylabel(r'Number of Iterations')\n",
    "plt.title(r'Convergence of Newton Method wrt $\\alpha$')\n",
    "plt.show()"
   ]
  },
  {
   "cell_type": "markdown",
   "metadata": {},
   "source": [
    "## Problem 5"
   ]
  },
  {
   "cell_type": "code",
   "execution_count": 27,
   "metadata": {},
   "outputs": [],
   "source": [
    "def backtrk_newton(f, x0, Df, alpha=1, tol=1e-5, maxiter=15):\n",
    "    \n",
    "    diff = tol+1\n",
    "    \n",
    "    if np.isscalar(x0):\n",
    "        return backtrk_one_dim_newton(f, x0, Df, alpha, tol, maxiter)\n",
    "    else:\n",
    "        for i in range(int(maxiter)):\n",
    "            x1 = x0 - alpha * np.linalg.solve(Df(x0), f(x0))\n",
    "            diff = norm(x1 - x0, np.inf)\n",
    "            if (diff < tol):\n",
    "                break\n",
    "            x0 = x1\n",
    "        return x1"
   ]
  },
  {
   "cell_type": "code",
   "execution_count": 28,
   "metadata": {},
   "outputs": [
    {
     "name": "stdout",
     "output_type": "stream",
     "text": [
      "Newton's algorithm converged\n",
      "Root is:  -5.120000000000109e-07\n"
     ]
    }
   ],
   "source": [
    "root = backtrk_newton(f, 1, fprime, .4)\n",
    "print('Root is: ', root)"
   ]
  },
  {
   "cell_type": "markdown",
   "metadata": {},
   "source": [
    "## Problem 6"
   ]
  },
  {
   "cell_type": "code",
   "execution_count": 41,
   "metadata": {},
   "outputs": [],
   "source": [
    "def newton_Rn_adjust(x0, f, Df, alpha=1, tol=1e-5, maxiter=15):\n",
    "    \n",
    "    for i in range(int(maxiter)):\n",
    "        x1 = x0 - alpha * solve(Df(x0), f(x0))\n",
    "        if (norm(x1 - x0) < tol):\n",
    "            return x1\n",
    "        x0 = x1\n",
    "    \n",
    "    return x1"
   ]
  },
  {
   "cell_type": "code",
   "execution_count": 42,
   "metadata": {},
   "outputs": [
    {
     "data": {
      "text/plain": [
       "(-0.25, 0.196969696969697)"
      ]
     },
     "execution_count": 42,
     "metadata": {},
     "output_type": "execute_result"
    }
   ],
   "source": [
    "f = lambda x: anp.array([5*x[0]*x[1] - x[0]*(1 + x[1]), \n",
    "                         -x[0]*x[1] + (1 - x[1])*(1 + x[1])])\n",
    "Df = jacobian(f)\n",
    "\n",
    "def find_init(f, Df, niter=100):\n",
    "    # Create search domain\n",
    "    x_domain = np.linspace(-0.25, 0, 100)\n",
    "    y_domain = np.linspace(0, 0.25, 100)\n",
    "    X, Y = np.meshgrid(x_domain, y_domain)\n",
    "    xy_domain = zip(X.ravel(), Y.ravel())\n",
    "    \n",
    "    # See where each point in the domain converges\n",
    "    for coord in xy_domain:\n",
    "        try:\n",
    "            min1 = newton_Rn_adjust(anp.array(coord), f, Df, alpha=1, maxiter=niter)\n",
    "            min2 = newton_Rn_adjust(anp.array(coord), f, Df, alpha=0.55, maxiter=niter)\n",
    "            if (np.allclose(min1, anp.array((0, 1))) or np.allclose(min1, anp.array((0, -1)))) and np.allclose(min2, anp.array((3.75, 0.25))):\n",
    "                return coord\n",
    "        except:\n",
    "            pass\n",
    "\n",
    "find_init(f, Df)"
   ]
  },
  {
   "cell_type": "code",
   "execution_count": 43,
   "metadata": {},
   "outputs": [
    {
     "data": {
      "text/plain": [
       "array([-9.9901446e-23, -1.0000000e+00])"
      ]
     },
     "execution_count": 43,
     "metadata": {},
     "output_type": "execute_result"
    }
   ],
   "source": [
    "newton_Rn_adjust(anp.array((-0.25, 0.19696969696969699)), f, Df, alpha=1, maxiter=100)"
   ]
  },
  {
   "cell_type": "code",
   "execution_count": 44,
   "metadata": {},
   "outputs": [
    {
     "data": {
      "text/plain": [
       "array([3.75000599, 0.25000187])"
      ]
     },
     "execution_count": 44,
     "metadata": {},
     "output_type": "execute_result"
    }
   ],
   "source": [
    "newton_Rn_adjust(anp.array((-0.25, 0.19696969696969699)), f, Df, alpha=0.55, maxiter=100)"
   ]
  },
  {
   "cell_type": "code",
   "execution_count": null,
   "metadata": {},
   "outputs": [],
   "source": []
  }
 ],
 "metadata": {
  "kernelspec": {
   "display_name": "Python 3",
   "language": "python",
   "name": "python3"
  },
  "language_info": {
   "codemirror_mode": {
    "name": "ipython",
    "version": 3
   },
   "file_extension": ".py",
   "mimetype": "text/x-python",
   "name": "python",
   "nbconvert_exporter": "python",
   "pygments_lexer": "ipython3",
   "version": "3.6.4"
  }
 },
 "nbformat": 4,
 "nbformat_minor": 2
}
